{
 "metadata": {
  "name": ""
 },
 "nbformat": 3,
 "nbformat_minor": 0,
 "worksheets": [
  {
   "cells": [
    {
     "cell_type": "markdown",
     "metadata": {},
     "source": [
      "# An Exploration of Statistical Methods in Text Mining in Classifying Stack Overflow Queries"
     ]
    },
    {
     "cell_type": "markdown",
     "metadata": {},
     "source": [
      "** Claudio Rosenberg, Amy Mir, Corey Crowley | Computer Science 109 / Statistics 121 | Fall 2013**\n",
      "\n",
      "IPython Process Notebook | Final Project | Text Mining | December 2013 "
     ]
    },
    {
     "cell_type": "markdown",
     "metadata": {},
     "source": [
      "<div align=\"center\">\n",
      "    <div class=\"banner-container\">\n",
      "    <img src=\"http://blogs.plos.org/plos/files/2013/04/TMmed.jpg\" width=320>\n",
      "    </div>\n",
      "</div>\n",
      "\n",
      "<div class=\"clear\"> </div>\n",
      "\n",
      "<style type=\"text/css\">\n",
      ".banner-container {\n",
      "height:320px;\n",
      "margin-left: 30px;\n",
      "background-color:black;\n",
      "}\n",
      "float:left;\n",
      "}\n",
      ".clear {\n",
      "clear:both;\n",
      "}\n",
      "</style> "
     ]
    },
    {
     "cell_type": "markdown",
     "metadata": {},
     "source": [
      "#Overview and Motivation \n",
      "\n",
      "In this analysis, we use various statistical and visualization methods in classifying product support queries by tags. This project was motivated/inspired by the actual product support methodology in place at one member's company in which the current system relies on a rather manual method of classifying support queries. We seek to apply some of the methods discussed in the course and beyond in developing a more automated and computational means of classifying queries. \n",
      "\n",
      "In this analyis, we mine the text of a Kaggle competition dataset that mimicks product support queries using actual queries pulled from Stack Overflow. In summary, the statistical goals of this project are: \n",
      "\n",
      " * Making and interpreting predictions from a Bayesian perspective \n",
      " * Using Bayesian posterior updating to define broad 'support desks' of a query by its classified tags \n",
      " * Using the Naive Bayes algorithm to predict the tag classification of a product support query \n",
      " * Using cross validation to optimize models \n",
      " * Visualizing query classification by graph networks "
     ]
    },
    {
     "cell_type": "code",
     "collapsed": false,
     "input": [
      "# initial configuration for notebook  \n",
      "%matplotlib inline\n",
      "from collections import defaultdict\n",
      "import json\n",
      "\n",
      "import numpy as np\n",
      "import scipy as sp\n",
      "import requests\n",
      "from pattern import web\n",
      "import matplotlib.pyplot as plt\n",
      "import pandas as pd\n",
      "import re\n",
      "import time \n",
      "\n",
      "from matplotlib import rcParams\n",
      "import matplotlib.cm as cm\n",
      "import matplotlib as mpl\n",
      "\n",
      "# colorbrewer2 Dark2 qualitative color table\n",
      "dark2_colors = [(0.10588235294117647, 0.6196078431372549, 0.4666666666666667),\n",
      "                (0.8509803921568627, 0.37254901960784315, 0.00784313725490196),\n",
      "                (0.4588235294117647, 0.4392156862745098, 0.7019607843137254),\n",
      "                (0.9058823529411765, 0.1607843137254902, 0.5411764705882353),\n",
      "                (0.4, 0.6509803921568628, 0.11764705882352941),\n",
      "                (0.9019607843137255, 0.6705882352941176, 0.00784313725490196),\n",
      "                (0.6509803921568628, 0.4627450980392157, 0.11372549019607843)]\n",
      "\n",
      "rcParams['figure.figsize'] = (10, 6)\n",
      "rcParams['figure.dpi'] = 150\n",
      "rcParams['axes.color_cycle'] = dark2_colors\n",
      "rcParams['lines.linewidth'] = 2\n",
      "rcParams['axes.facecolor'] = 'white'\n",
      "rcParams['font.size'] = 14\n",
      "rcParams['patch.edgecolor'] = 'white'\n",
      "rcParams['patch.facecolor'] = dark2_colors[0]\n",
      "rcParams['font.family'] = 'StixGeneral'\n",
      "\n",
      "\n",
      "def remove_border(axes=None, top=False, right=False, left=True, bottom=True):\n",
      "    \"\"\"\n",
      "    Minimize chartjunk by stripping out unnecesasry plot borders and axis ticks\n",
      "    \n",
      "    The top/right/left/bottom keywords toggle whether the corresponding plot border is drawn\n",
      "    \"\"\"\n",
      "    ax = axes or plt.gca()\n",
      "    ax.spines['top'].set_visible(top)\n",
      "    ax.spines['right'].set_visible(right)\n",
      "    ax.spines['left'].set_visible(left)\n",
      "    ax.spines['bottom'].set_visible(bottom)\n",
      "    \n",
      "    # turn off all ticks\n",
      "    ax.yaxis.set_ticks_position('none')\n",
      "    ax.xaxis.set_ticks_position('none')\n",
      "    \n",
      "    # now re-enable visibles\n",
      "    if top:\n",
      "        ax.xaxis.tick_top()\n",
      "    if bottom:\n",
      "        ax.xaxis.tick_bottom()\n",
      "    if left:\n",
      "        ax.yaxis.tick_left()\n",
      "    if right:\n",
      "        ax.yaxis.tick_right()\n",
      "        \n",
      "pd.set_option('display.width', 500)\n",
      "pd.set_option('display.max_columns', 100)"
     ],
     "language": "python",
     "metadata": {},
     "outputs": [],
     "prompt_number": 38
    },
    {
     "cell_type": "code",
     "collapsed": false,
     "input": [
      "# also import natural language processing toolkit and elements \n",
      "from Tkinter import *\n",
      "from nltk import NaiveBayesClassifier\n",
      "\n",
      "import nltk.classify\n",
      "from nltk.tokenize import wordpunct_tokenize\n",
      "from nltk.corpus import stopwords\n",
      "from collections import defaultdict \n",
      "from nltk import pos_tag, word_tokenize\n",
      "from nltk import FreqDist"
     ],
     "language": "python",
     "metadata": {},
     "outputs": [],
     "prompt_number": 3
    },
    {
     "cell_type": "code",
     "collapsed": false,
     "input": [
      "# download all packages - de-comment this line when running entire notebook on computer without packages \n",
      "#nltk.download() "
     ],
     "language": "python",
     "metadata": {},
     "outputs": [],
     "prompt_number": 4
    },
    {
     "cell_type": "markdown",
     "metadata": {},
     "source": [
      "# Intial Questions \n",
      "Our main question considers how we can classify product support queries using current data science methods in text mining. We use traditional course methods (training classifiers and cross-validating) in defining tags for specific queries. From our initial plan on determining our set of Stack Overflow tags based on the text and title of the query, a new interest that evolved during the course of our project is fielding queries to broader mock support desks, thereby simulating the process of actual product support. In this new approach, we also began to consider the question of how interrelated queries were by looking at network visualizations of tag clusters. Our IPython Proces notebook is thus divided into two major parts: broad support desk classifications (using the Multinomial-Dirichlet model) and tag assignments (by training classifers). In each part, we begin with a simple statistical probing of our dataset of interest. "
     ]
    },
    {
     "cell_type": "markdown",
     "metadata": {},
     "source": [
      "# The Data \n",
      "The data was taken from a Kaggle Competition: \"<a href=\"http://www.kaggle.com/c/facebook-recruiting-iii-keyword-extraction/data\">Facebook Recruiting III: Keyword Extraction</a>.\" Given the large (over 9-GB) size of the complete dataset, we split the training dataset (more complete than the test data, as it provides the actual tag classifications to compare our own classifications to) to a more tractable 200-MB set (included as a csv file in the submitted folder). In the first part, we look at only the first 1000 queries and then in subsequent parts, we consider the entirety of the split 200-MB subset. "
     ]
    },
    {
     "cell_type": "code",
     "collapsed": false,
     "input": [
      "# open dataset as pandas dataframe \n",
      "from io import StringIO  \n",
      "queries = pd.read_csv(\"ProjectData.csv\", delimiter=',')"
     ],
     "language": "python",
     "metadata": {},
     "outputs": [],
     "prompt_number": 5
    },
    {
     "cell_type": "markdown",
     "metadata": {},
     "source": [
      "# Exploratory Analysis \n",
      "The major statistical methods we considered are: (1) drawing from a Multinomial-Dirichlet model with Bayesian updating of this conjugate prior in assigning broad groups based on extracted tags and (2) training classifiers after vectorizing text into a bag-of-words-model, and then subsequently running accuracy tests and cross-validating. Visually, we looked at simple bar charts to probe our dataset in terms of number of tags and sparsity of the dataset. In the first part of our project, when looking at broad mock support desks, we also visually with network graphs the interconnectednes of various tags among queries. "
     ]
    },
    {
     "cell_type": "markdown",
     "metadata": {},
     "source": [
      "### I. Assignment of Broad Product Support Desks ### \n",
      "This part uses the Multinomial-Dirichlet model is assigning broad mock \"support desks\" to queries. We first probe the data and explore noun-extraction as a first means of probing the dataset and getting a sense of the appropriate tags. We begin with noun extraction because all actual tags on Stack Overflow are nouns. However, as we will see, the fact that not all nouns are themselves actual tags makes this a crude approach to tag extraction, and from this we refine our approach to considering the extraction of terms from queries that actually exists among the first several hundred popular tags on Stack Overflow. "
     ]
    },
    {
     "cell_type": "markdown",
     "metadata": {},
     "source": [
      "** Part 1: Keyword Extraction by Noun Extraction ** We begin with a simple exploration of the tag data and make use of Python's Natural Language ToolKit (NLTK) in extracting nouns. In only this part, we focus on the first 1000 queries of our split dataset for computational tractability, and eventually for purposes of (clear and uncluttered) visualization of our network graph of tags clusters (i.e. the intereconnectedness of tags in different \"support desk\"). "
     ]
    },
    {
     "cell_type": "code",
     "collapsed": false,
     "input": [
      "print \"Number of queries:\", len(queries)"
     ],
     "language": "python",
     "metadata": {},
     "outputs": [
      {
       "output_type": "stream",
       "stream": "stdout",
       "text": [
        "Number of queries: 174463\n"
       ]
      }
     ],
     "prompt_number": 6
    },
    {
     "cell_type": "code",
     "collapsed": false,
     "input": [
      "# visualize tag frequency (how many tags does a query tend to have) \n",
      "tag_numbers = []\n",
      "\n",
      "for row in range(len(queries)):\n",
      "    query_tags = queries.irow(row)['Tags']\n",
      "    tags = query_tags.split() \n",
      "    tag_numbers.append(len(tags))"
     ],
     "language": "python",
     "metadata": {},
     "outputs": [],
     "prompt_number": 7
    },
    {
     "cell_type": "code",
     "collapsed": false,
     "input": [
      "plt.hist(tag_numbers, bins=5)\n",
      "plt.title(\"Distribution of the Number of Actual Tags Among Queries\")\n",
      "plt.xlabel(\"Number of Tags\")\n",
      "plt.ylabel(\"Number of Queries\") "
     ],
     "language": "python",
     "metadata": {},
     "outputs": [
      {
       "metadata": {},
       "output_type": "pyout",
       "prompt_number": 8,
       "text": [
        "<matplotlib.text.Text at 0x12845c2d0>"
       ]
      },
      {
       "metadata": {},
       "output_type": "display_data",
       "png": "[encoded data removed]",
       "text": [
        "<matplotlib.figure.Figure at 0x128450050>"
       ]
      }
     ],
     "prompt_number": 8
    },
    {
     "cell_type": "markdown",
     "metadata": {},
     "source": [
      "*We see that among the nearly 175,000 queries of our dataset, most queries tend to be associated with around 3 tags. Ideally, in this first part of our approach we would want one tag that best represents our query for the quickest (and more deterministic) classification into a support desk. Later with multiple tags that are in somewhat distinct clusters (support desks), we will draw from a probability distribution in assigning a desk to a query.*"
     ]
    },
    {
     "cell_type": "code",
     "collapsed": false,
     "input": [
      "## we look at the first 1000 entries for computational tractability \n",
      "\n",
      "# keyword extraction from query titles \n",
      "title_keys = [] \n",
      "\n",
      "for row in range(1000): \n",
      "    title = queries.irow(row)['Title'] \n",
      "    title = title.split()\n",
      "    words = pos_tag(title) # use nltk to determine word type \n",
      "    keywords = []\n",
      "    for wordset in words: \n",
      "        # extract nouns \n",
      "        if (wordset[1] == 'NN' or wordset[1] == 'NNP' or wordset[1] == 'NNS'):  \n",
      "            keywords.append(wordset[0].lower())\n",
      "        # allow for single-letter programming languages\n",
      "        elif wordset[0].lower() in ['b', 'c', 'd', 'j', 'k', 'm', 's', 'r', 'q']:  \n",
      "            keywords.append(wordset[0].lower())\n",
      "    title_keys.append(keywords)"
     ],
     "language": "python",
     "metadata": {},
     "outputs": [],
     "prompt_number": 9
    },
    {
     "cell_type": "code",
     "collapsed": false,
     "input": [
      "# keyword extraction from query bodies \n",
      "body_keys = [] \n",
      "\n",
      "for row in range(1000): \n",
      "    body = queries.irow(row)['Body'] \n",
      "    body = body.split()\n",
      "    words = pos_tag(body) # use nltk to determine word type \n",
      "    keywords = []\n",
      "    for wordset in words: \n",
      "        # extract nouns \n",
      "        if (wordset[1] == 'NN' or wordset[1] == 'NNP' or wordset[1] == 'NNS'):  \n",
      "            keywords.append(wordset[0].lower())\n",
      "        # allow for single-letter programming languages\n",
      "        elif wordset[0].lower() in ['b', 'c', 'd', 'j', 'k', 'm', 's', 'r', 'q']:  \n",
      "            keywords.append(wordset[0].lower())\n",
      "    body_keys.append(keywords) "
     ],
     "language": "python",
     "metadata": {},
     "outputs": [],
     "prompt_number": 10
    },
    {
     "cell_type": "code",
     "collapsed": false,
     "input": [
      "noun_keys = [] \n",
      "for line in body_keys: \n",
      "    for word in line:\n",
      "        noun_keys.append(word)\n",
      "for line in title_keys: \n",
      "    for word in line: \n",
      "        noun_keys.append(word)"
     ],
     "language": "python",
     "metadata": {},
     "outputs": [],
     "prompt_number": 15
    },
    {
     "cell_type": "markdown",
     "metadata": {},
     "source": [
      "**Part 2: Quantification of Simple  Noun-Based Keyword Extraction** Because we are working with text data rather than quantitative, we use simple methods in evaluating our keyword extraction above by considering (1) how much of the actual tags are included among the noun-extracted keys of a query and (2) how many extraneous non-tag nouns are included among the noun-extracted keys. "
     ]
    },
    {
     "cell_type": "code",
     "collapsed": false,
     "input": [
      "# percentage of actual tags matched and percentage extra tags added using noun extraction \n",
      "\n",
      "# consider title-based keys \n",
      "matchpercentage = []\n",
      "extrapercentage = [] \n",
      "for element in range(1000): \n",
      "    keys = title_keys[element]\n",
      "    tags = nltk.word_tokenize(queries.irow(element)['Tags'])\n",
      "    overlap = [word for word in set(keys) if word in tags]\n",
      "    inclusiveness = 100*(float(len(overlap))/len(tags))\n",
      "    matchpercentage.append(inclusiveness)\n",
      "    exclusiveness = 100*(float(len(keys)-len(overlap))/len(tags))\n",
      "    extrapercentage.append(exclusiveness) \n",
      "\n",
      "plt.hist(matchpercentage, bins=20)\n",
      "plt.title(\"Distribution of the Percentage of Inclusiveness of Actual Tags by Noun Extraction of Query Titles\")\n",
      "plt.xlabel(\"Match Percentages (%)\")\n",
      "plt.ylabel(\"Number of Queries\") \n",
      "plt.show()\n",
      "plt.hist(extrapercentage, bins=20)\n",
      "plt.title(\"Distribution of the Percentage of Extra Tags by Noun Extraction of Query Titles\")\n",
      "plt.xlabel(\"Percentages of Extra Tags (%)\")\n",
      "plt.ylabel(\"Number of Queries\") \n",
      "plt.show()"
     ],
     "language": "python",
     "metadata": {},
     "outputs": [
      {
       "metadata": {},
       "output_type": "display_data",
       "png": "[encoded data removed]",
       "text": [
        "<matplotlib.figure.Figure at 0x112969350>"
       ]
      },
      {
       "metadata": {},
       "output_type": "display_data",
       "png": "[encoded data removed]",
       "text": [
        "<matplotlib.figure.Figure at 0x10071a890>"
       ]
      }
     ],
     "prompt_number": 16
    },
    {
     "cell_type": "code",
     "collapsed": false,
     "input": [
      "# consider body-based keys \n",
      "matchpercentage = []\n",
      "extrapercentage = [] \n",
      "for element in range(1000): \n",
      "    keys = body_keys[element]\n",
      "    tags = nltk.word_tokenize(queries.irow(element)['Tags'])\n",
      "    overlap = [word for word in set(keys) if word in tags]\n",
      "    inclusiveness = 100*(float(len(overlap))/len(tags))\n",
      "    matchpercentage.append(inclusiveness)\n",
      "    exclusiveness = 100*(float(len(keys)-len(overlap))/len(tags))\n",
      "    extrapercentage.append(exclusiveness) \n",
      "\n",
      "plt.hist(matchpercentage, bins=20)\n",
      "plt.title(\"Distribution of the Percentage of Inclusiveness of Actual Tags by Noun Extraction of Query Bodies\")\n",
      "plt.xlabel(\"Match Percentages (%)\")\n",
      "plt.ylabel(\"Number of Queries\") \n",
      "plt.show() \n",
      "\n",
      "plt.hist(extrapercentage, bins=20)\n",
      "plt.title(\"Distribution of the Percentage of Extra Tags by Noun Extraction of Query Bodies\")\n",
      "plt.xlabel(\"Percentages of Extra Tags (%)\")\n",
      "plt.ylabel(\"Number of Queries\") \n",
      "plt.show()"
     ],
     "language": "python",
     "metadata": {},
     "outputs": [
      {
       "metadata": {},
       "output_type": "display_data",
       "png": "[encoded data removed]",
       "text": [
        "<matplotlib.figure.Figure at 0x1129e0450>"
       ]
      },
      {
       "metadata": {},
       "output_type": "display_data",
       "png": "[encoded data removed]",
       "text": [
        "<matplotlib.figure.Figure at 0x10070f810>"
       ]
      }
     ],
     "prompt_number": 17
    },
    {
     "cell_type": "markdown",
     "metadata": {},
     "source": [
      "*There is some overlap between noun-extracted keys and actual tags (and we are able to achieve at least a small fraction of complete matches). The former, hoewever, does tend to include words outside the actual set of tags. As we would expect, the larger body text allows for a slightly greater number of non-zero keyword matches with the actual set of tags, but it also results in a far larger excess of words being pulled outside of the actual set of tags.*"
     ]
    },
    {
     "cell_type": "markdown",
     "metadata": {},
     "source": [
      "*Let us now take a look at frequency analysis:*"
     ]
    },
    {
     "cell_type": "code",
     "collapsed": false,
     "input": [
      "# highest-frequencies for actual tags versus noun-extracted keys \n",
      "query_titletext = []\n",
      "for row in range(1000): \n",
      "    query_titletext.append(queries.irow(row)['Tags'])\n",
      "\n",
      "fd = FreqDist(query_titletext)\n",
      "\n",
      "print \"Highest-frequency tags among first 1000 queries\" \n",
      "print \"   \", fd.items()[:5]\n",
      "print \n",
      "\n",
      "title_keytext = []\n",
      "for row in range(1000): \n",
      "    textline = title_keys[row]\n",
      "    for word in range(len(textline)): \n",
      "        title_keytext.append(title_keys[row][word]) \n",
      "\n",
      "fd = FreqDist(title_keytext)\n",
      "\n",
      "print \"Highest-frequency noun-extracted keys among first 1000 query titles\" \n",
      "print \"   \", fd.items()[:5]\n",
      "print \n",
      "\n",
      "# lowest-frequencies for actual tags versus noun-extracted keys  \n",
      "query_titletext = []\n",
      "for row in range(1000): \n",
      "    query_titletext.append(queries.irow(row)['Tags'])\n",
      "\n",
      "fd = FreqDist(query_titletext)\n",
      "\n",
      "\n",
      "print \"Lowest-frequency tags among first 1000 queries\" \n",
      "print \"   \", sorted(fd.items(), reverse=False)[:5]\n",
      "print \n",
      "\n",
      "title_keytext = []\n",
      "for row in range(1000): \n",
      "    textline = title_keys[row]\n",
      "    for word in range(len(textline)): \n",
      "        title_keytext.append(title_keys[row][word]) \n",
      "\n",
      "fd = FreqDist(title_keytext)\n",
      "\n",
      "print \"Lowest-frequency noun-extracted keys among first 1000 query titles\" \n",
      "print \"   \", sorted(fd.items(), reverse=False)[:5]\n",
      "print \n"
     ],
     "language": "python",
     "metadata": {},
     "outputs": [
      {
       "output_type": "stream",
       "stream": "stdout",
       "text": [
        "Highest-frequency tags among first 1000 queries\n",
        "    [('php', 7), ('android', 5), ('javascript', 5), ('jquery', 5), ('javascript jquery', 4)]\n",
        "\n",
        "Highest-frequency noun-extracted keys among first 1000 query titles\n",
        "    [('php', 29), ('jquery', 28), ('file', 24), ('error', 23), ('java', 22)]\n",
        "\n",
        "Lowest-frequency tags among first 1000 queries"
       ]
      },
      {
       "output_type": "stream",
       "stream": "stdout",
       "text": [
        "\n",
        "    [('.htaccess cron wget password-protection cron-task', 1), ('.net asp.net treeview', 1), ('.net development-environment virtualization', 1), ('.net hardware serial-port', 1), ('.net javascript code-generation', 1)]\n",
        "\n",
        "Lowest-frequency noun-extracted keys among first 1000 query titles\n",
        "    [('\".hg\"', 1), ('\".hgignore\"?', 1), ('\"active\"', 1), ('\"scrambled\"', 1), ('\"selecting\"', 1)]\n",
        "\n"
       ]
      }
     ],
     "prompt_number": 18
    },
    {
     "cell_type": "markdown",
     "metadata": {},
     "source": [
      "*We see some overlap between high-frequency words between actual tags and noun-extracted keys from query titles but there is no overlap for low-frequency words. In fact, by examining the low-frequency words of our noun-extracted keys, we can see that the Natural Language Processing Toolkit we use in Python in identifying nouns as a means of extracting suitable keywords is not entirely perfect. The above results suggest an immediate way of refining our initial approach by considering only the subset of extracted nouns that actually exist as official tags on Stack Overflow. Although all actual tags are nouns, not all nouns are tags on Stack Overflow and it would not make sense to extract a noun if it was not an official query tag.*"
     ]
    },
    {
     "cell_type": "markdown",
     "metadata": {},
     "source": [
      "*As we've discussed in class, data science involves not only statistical and computational understanding of the material, but also area-specific expertise. In order to better field queries, we have to to understand what tags actually mean and so using our broad understanding of Stack Overflow queries, we have constructed several fields of tags. For example 'matlab' would fall under the domain of 'Programming Languages and Frameworks' and 'http' would fall under the domain of 'Web'. Instead of noun extraction, we do tag extraction where we extract tags found within the text of words rather than nouns. As we have seen, noun extraction is not perfect since we leave understanding of often complicated grammatical structure to computing rather than human judgement and we end up extracting nouns that are not always actual Stack Overflow tags. Tag extraction involves more reliably algorithmic recognition of text. We run the same simple statistical comparisons as before and pursue the latter more accurate method in our subsequent Bayesian support desk classifications.* "
     ]
    },
    {
     "cell_type": "markdown",
     "metadata": {},
     "source": [
      "**Part 3: Keyword Extraction by Substring Matching of Most Popular Stack Overflow Tags** We begin with scraping the most popular of actual tags from the Stack Overflow site and substring match the query text in determining the appropriate tags. "
     ]
    },
    {
     "cell_type": "code",
     "collapsed": false,
     "input": [
      "# first find the number of unique actual tags in the first 1000 queries\n",
      "len(set(query_titletext))\n",
      "\n",
      "query_tags = []\n",
      "for query_line in set(query_titletext): \n",
      "    split_tagging = nltk.word_tokenize(query_line)\n",
      "    for element in split_tagging: \n",
      "        query_tags.append(element)\n",
      "    \n",
      "print \"There are\", len(set(query_tags)), \"unique tags among the first 1000 queries.\""
     ],
     "language": "python",
     "metadata": {},
     "outputs": [
      {
       "output_type": "stream",
       "stream": "stdout",
       "text": [
        "There are 1403 unique tags among the first 1000 queries.\n"
       ]
      }
     ],
     "prompt_number": 19
    },
    {
     "cell_type": "code",
     "collapsed": false,
     "input": [
      "# set up functions to scrape the collection of tags from Stack Overflow \n",
      "\n",
      "def get_page(page_number):\n",
      "    \"\"\"\n",
      "    Function\n",
      "    --------\n",
      "    get_page\n",
      "    \n",
      "    Given a page_number, return the XML data as a text string\n",
      "    \n",
      "    Inputs\n",
      "    ------\n",
      "    page_number : int\n",
      "        The ID of the poll to fetch\n",
      "    \n",
      "    Returns\n",
      "    -------\n",
      "    xml : str\n",
      "        The text of the XML page for that poll_id\n",
      "    \n",
      "    \"\"\" \n",
      "    url = \"http://stackoverflow.com/tags?page=%i&tab=popular\" % int(page_number)\n",
      "    return requests.get(url).text\n",
      "\n",
      "\n",
      "def find_tags(html):\n",
      "    \"\"\"\n",
      "    Function\n",
      "    --------\n",
      "    find_tags\n",
      "\n",
      "    Find and return tags races from html string output of function get_page(page_number) \n",
      "    \n",
      "    Parameters\n",
      "    ----------\n",
      "    html : str\n",
      "        The HTML content of a page to scan\n",
      "        \n",
      "    Returns\n",
      "    -------\n",
      "    A list of tags from Stack Overflow\n",
      "\n",
      "    \"\"\"\n",
      "    dom = web.Element(html)\n",
      "    tags = [a.attributes.get('href', '') for a in dom.by_tag('a')] # extract all links \n",
      "    tags = [tag for tag in tags if str(tag)[0:18]==\"/questions/tagged/\"] # find tags \n",
      "    \n",
      "    # eliminate tags with time info: 1 day, 7 days (week), 30 days (month), 365 days (year) \n",
      "    tags = [tag for tag in tags if str(tag)[-1] not in [\"1\", \"7\", \"0\", \"5\"]] \n",
      "    tags = [str(tag[18:]) for tag in tags] \n",
      "    return tags "
     ],
     "language": "python",
     "metadata": {},
     "outputs": [],
     "prompt_number": 20
    },
    {
     "cell_type": "code",
     "collapsed": false,
     "input": [
      "# take the most popular tags listed in the first 30 pages \n",
      "tagset = []\n",
      "for page in range(30): \n",
      "    pageinfo = get_page(page)\n",
      "    tags = find_tags(pageinfo)\n",
      "    for tag in tags:\n",
      "        tagset.append(tag) \n",
      "\n",
      "        \n",
      "# undo html encoding for tags c# and c++  \n",
      "tag_set = []\n",
      "for tag in tagset: \n",
      "    if \"c%2b%2b\" in tag: \n",
      "        tag_set.append(tag.replace(\"c%2b%2b\", \"c++\"))\n",
      "    elif \"c%23\" in tag: \n",
      "        tag_set.append(tag.replace(\"c%23\", \"c#\", 1))\n",
      "    else:\n",
      "        tag_set.append(tag)"
     ],
     "language": "python",
     "metadata": {},
     "outputs": [],
     "prompt_number": 21
    },
    {
     "cell_type": "code",
     "collapsed": false,
     "input": [
      "# create a textfile of most popular tags for use in Bayesian department classification \n",
      "tagfile = open('tags.txt', 'w')\n",
      "for item in tag_set:\n",
      "  tagfile.write(\"%s\\n\" % item)"
     ],
     "language": "python",
     "metadata": {},
     "outputs": [],
     "prompt_number": 22
    },
    {
     "cell_type": "code",
     "collapsed": false,
     "input": [
      "# find most popular tags within query strings of title and body \n",
      "\n",
      "alltitle_tags = [] \n",
      "allbody_tags = [] \n",
      "\n",
      "for element in range(1000): \n",
      "    \n",
      "    title_words = queries.irow(element)['Title'].split()\n",
      "    title_tags = []\n",
      "    for elem in title_words: \n",
      "        if elem in tag_set: \n",
      "            title_tags.append(elem)\n",
      "            \n",
      "    alltitle_tags.append(list(set(title_tags))) \n",
      "\n",
      "\n",
      "    body_words = queries.irow(element)['Body'].split()\n",
      "    body_tags = []\n",
      "    for elem in body_words: \n",
      "        if elem in tag_set: \n",
      "            body_tags.append(elem)\n",
      "            \n",
      "    allbody_tags.append(list(set(body_tags)))    "
     ],
     "language": "python",
     "metadata": {},
     "outputs": [],
     "prompt_number": 23
    },
    {
     "cell_type": "markdown",
     "metadata": {},
     "source": [
      "**Part 4: Quantification of Keyword Extraction by Substring Matching of Most Popular Stack Overflow Tags** We run the same basic comparisons as in Part 2 to gauge how well we were able to match with this new method. "
     ]
    },
    {
     "cell_type": "code",
     "collapsed": false,
     "input": [
      "print \"NEW METHOD USING POPULAR STACK OVERFLOW TAGS\" \n",
      "\n",
      "query_tags = []\n",
      "for row in range(1000):\n",
      "    tags = queries.irow(row)['Tags']\n",
      "    tags = tags.split() \n",
      "    for tag in tags: \n",
      "        query_tags.append(tag) \n",
      "query_tags = list(set(query_tags))\n",
      "\n",
      "noun_keys = list(set(noun_keys))\n",
      "\n",
      "print \"We scraped the first\", len(tag_set), \"most popular tags.\" \n",
      "print \"There are\", len(query_tags), \"tags among the first 1000 queries.\" \n",
      "print \"There are\", len(list(set(query_tags) & set(tag_set))), \"most popular pulled tags (from first 30 pages of StackOverflow) among the actual set of\", len(set(query_tags)),\"tags in our datset.\"\n",
      "print \n",
      "\n",
      "\n",
      "print \"OLD METHOD USING NOUN-EXTRACTION\"\n",
      "print \"There are\", len(set(noun_keys)), \"unique noun-extracted keys among the first 1000 queries.\"\n",
      "print \"Of these noun-extracted keys,\", len(list(set(query_tags) & set(noun_keys))), \"keys are among\", len(set(query_tags)), \"actual tags.\"\n",
      "print "
     ],
     "language": "python",
     "metadata": {},
     "outputs": [
      {
       "output_type": "stream",
       "stream": "stdout",
       "text": [
        "NEW METHOD USING POPULAR STACK OVERFLOW TAGS\n",
        "We scraped the first"
       ]
      },
      {
       "output_type": "stream",
       "stream": "stdout",
       "text": [
        " 1041 most popular tags.\n",
        "There are 1402 tags among the first 1000 queries.\n",
        "There are 572 most popular pulled tags (from first 30 pages of StackOverflow) among the actual set of 1402 tags in our datset.\n",
        "\n",
        "OLD METHOD USING NOUN-EXTRACTION\n",
        "There are 20130 unique noun-extracted keys among the first 1000 queries.\n",
        "Of these noun-extracted keys, 735 keys are among 1402 actual tags.\n",
        "\n"
       ]
      }
     ],
     "prompt_number": 25
    },
    {
     "cell_type": "code",
     "collapsed": false,
     "input": [
      "# run accuracy tests for query titles \n",
      "\n",
      "# set up helper function \n",
      "def intersect(a, b):\n",
      "    \"\"\"\n",
      "    Find the intersection of two lists. \n",
      "    \"\"\"\n",
      "    return list(set(a) & set(b))\n",
      "\n",
      "\n",
      "# consider title-based keys \n",
      "matchpercentage = []\n",
      "extrapercentage = [] \n",
      "for element in range(1000): \n",
      "    keys = alltitle_tags[element]\n",
      "    tags = nltk.word_tokenize(queries.irow(element)['Tags'])\n",
      "    overlap = intersect(keys, tags)  \n",
      "    inclusiveness = 100*float(len(overlap))/len(tags)\n",
      "    matchpercentage.append(inclusiveness)\n",
      "    exclusiveness = 100*float(len(keys)-len(overlap))/len(tags)\n",
      "    extrapercentage.append(exclusiveness) \n",
      "\n",
      "plt.hist(matchpercentage, bins=20)\n",
      "plt.title(\"Distribution of the Percentage of Inclusiveness of Actual Tags By Extracting Most Popular Stack Overflow Tags from Query Titles\")\n",
      "plt.xlabel(\"Match Percentages (%)\")\n",
      "plt.ylabel(\"Number of Queries\") \n",
      "plt.show()\n",
      "plt.hist(extrapercentage, bins=20)\n",
      "plt.title(\"Distribution of the Percentage of Extra Tags By Extracting Most Popular Stack Overflow Tags from Query Titles\")\n",
      "plt.xlabel(\"Percentages of Extra Tags (%)\")\n",
      "plt.ylabel(\"Number of Queries\") \n",
      "plt.show()"
     ],
     "language": "python",
     "metadata": {},
     "outputs": []
    },
    {
     "cell_type": "code",
     "collapsed": false,
     "input": [
      "# run accuracy tests for query bodies  \n",
      "\n",
      "# consider body-based keys \n",
      "matchpercentage = []\n",
      "extrapercentage = [] \n",
      "for element in range(1000): \n",
      "    keys = allbody_tags[element]\n",
      "    tags = nltk.word_tokenize(queries.irow(element)['Tags'])\n",
      "    overlap = intersect(keys, tags)  \n",
      "    inclusiveness = 100*(float(len(overlap))/len(tags))\n",
      "    matchpercentage.append(inclusiveness)\n",
      "    exclusiveness = 100*(float(len(keys)-len(overlap))/len(tags))\n",
      "    extrapercentage.append(exclusiveness) \n",
      "\n",
      "plt.hist(matchpercentage, bins=20)\n",
      "plt.title(\"Distribution of the Percentage of Inclusiveness of Actual Tags By Extracting Most Popular Stack Overflow Tags from Query Bodies\")\n",
      "plt.xlabel(\"Match Percentages (%)\")\n",
      "plt.ylabel(\"Number of Queries\") \n",
      "plt.show()\n",
      "plt.hist(extrapercentage, bins=20)\n",
      "plt.title(\"Distribution of the Percentage of Extra Tags By Extracting Most Popular Stack Overflow Tags from Query Bodies\")\n",
      "plt.xlabel(\"Percentages of Extra Tags (%)\")\n",
      "plt.ylabel(\"Number of Queries\") \n",
      "plt.show()"
     ],
     "language": "python",
     "metadata": {},
     "outputs": []
    },
    {
     "cell_type": "markdown",
     "metadata": {},
     "source": [
      "*We do have better overall coverage in that of just over 20,000 unique words obtained in noun-extraction and over 1000 unique words obtained in popular-tag-extraction, the former shares roughly only 735 words (a little under 4%) with the actual sets of tags among the first 1000 queries and the latter shares roughly 570 tags (proportionally around ten times as much at 40% overlap) with the actual set of tags assigned to the first 1000 queries. While the bar charts show that we do not actually have improved performance when assigning tags query-by-query, the latter method greatly reduces the excess set of tags we end up extracting relative to the case when we were using simple noun-extraction.* \n",
      "\n",
      "**NOTE: The decision to web scrape only just over the first 1000 popular Stack Overflow tags is due to the fact that new tags can be created on Stack Overflow (and so will not be relevant to our dataset if they were just created) and some Stack Oveflow tags are not purely technical tags, e.g. the tags 'this' and 'like', which can be confused with the corresponding eponynmous English words. Our goal is this part of the analysis is not accuracy is tag assignment, as in subsequent analyses, but rather department assignment, which we begin in Part 4.**"
     ]
    },
    {
     "cell_type": "code",
     "collapsed": false,
     "input": [
      "# frequency analysis \n",
      "\n",
      "# highest-frequencies for actual tags versus popular-tag-extracted keys  \n",
      "query_titletext = []\n",
      "for row in range(1000): \n",
      "    query_titletext.append(queries.irow(row)['Tags'])\n",
      "\n",
      "fd = FreqDist(query_titletext)\n",
      "\n",
      "print \"Highest-frequency tags among first 1000 queries\" \n",
      "print \"   \", fd.items()[:5]\n",
      "print \n",
      "\n",
      "title_keytext = []\n",
      "for row in range(1000): \n",
      "    textline = alltitle_tags[row]\n",
      "    for word in range(len(textline)): \n",
      "        title_keytext.append(alltitle_tags[row][word]) \n",
      "\n",
      "fd = FreqDist(title_keytext)\n",
      "\n",
      "print \"Highest-frequency tag-substring-matched keys among first 1000 query titles\" \n",
      "print \"   \", fd.items()[:5]\n",
      "print \n",
      "\n",
      "body_keytext = []\n",
      "for row in range(1000): \n",
      "    textline = allbody_tags[row]\n",
      "    for word in range(len(textline)): \n",
      "        body_keytext.append(allbody_tags[row][word]) \n",
      "\n",
      "fd = FreqDist(body_keytext)\n",
      "\n",
      "print \"Highest-frequency tag-substring-matched keys among first 1000 query bodies\" \n",
      "print \"   \", fd.items()[:5]\n",
      "print \n",
      "\n",
      "\n",
      "# lowest-frequencies for actual tags versus popular-tag-extracted keys  \n",
      "query_titletext = []\n",
      "for row in range(1000): \n",
      "    query_titletext.append(queries.irow(row)['Tags'])\n",
      "\n",
      "fd = FreqDist(query_titletext)\n",
      "\n",
      "print \"Lowest-frequency tags among first 1000 queries\" \n",
      "print \"   \", sorted(fd.items(), reverse=False)[:5]\n",
      "print \n",
      "\n",
      "title_keytext = []\n",
      "for row in range(1000): \n",
      "    textline = alltitle_tags[row]\n",
      "    for word in range(len(textline)): \n",
      "        title_keytext.append(alltitle_tags[row][word]) \n",
      "\n",
      "fd = FreqDist(title_keytext)\n",
      "\n",
      "print \"Lowest-frequency tag-substring-matched keys among first 1000 query titles\" \n",
      "print \"   \", sorted(fd.items(), reverse=False)[:5]\n",
      "print \n",
      "\n",
      "body_keytext = []\n",
      "for row in range(1000): \n",
      "    textline = allbody_tags[row]\n",
      "    for word in range(len(textline)): \n",
      "        body_keytext.append(allbody_tags[row][word]) \n",
      "\n",
      "fd = FreqDist(body_keytext)\n",
      "\n",
      "print \"Lowest-lowestfrequency tag-substring-matched keys among first 1000 query bodies\" \n",
      "print \"   \", sorted(fd.items(), reverse=False)[:5]\n",
      "print \n"
     ],
     "language": "python",
     "metadata": {},
     "outputs": [
      {
       "output_type": "stream",
       "stream": "stdout",
       "text": [
        "Highest-frequency tags among first 1000 queries\n",
        "    [('php', 7), ('android', 5), ('javascript', 5), ('jquery', 5), ('javascript jquery', 4)]\n",
        "\n",
        "Highest-frequency tag-substring-matched keys among first 1000 query titles\n",
        "    [('file', 28), ('get', 28), ('data', 18), ('list', 16), ('make', 15)]\n",
        "\n",
        "Highest-frequency tag-substring-matched keys among first 1000 query bodies\n",
        "    [('get', 225), ('file', 120), ('make', 113), ('set', 111), ('find', 104)]\n",
        "\n",
        "Lowest-frequency tags among first 1000 queries"
       ]
      },
      {
       "output_type": "stream",
       "stream": "stdout",
       "text": [
        "\n",
        "    [('.htaccess cron wget password-protection cron-task', 1), ('.net asp.net treeview', 1), ('.net development-environment virtualization', 1), ('.net hardware serial-port', 1), ('.net javascript code-generation', 1)]\n",
        "\n",
        "Lowest-frequency tag-substring-matched keys among first 1000 query titles\n",
        "    [('.net', 3), ('2d', 1), ('64bit', 2), ('action', 4), ('ajax', 1)]\n",
        "\n",
        "Lowest-lowestfrequency tag-substring-matched keys among first 1000 query bodies\n",
        "    [('.htaccess', 1), ('.net', 1), ('2d', 1), ('3d', 1), ('64bit', 2)]\n",
        "\n"
       ]
      }
     ],
     "prompt_number": 26
    },
    {
     "cell_type": "markdown",
     "metadata": {},
     "source": [
      "*There is not much of a frequency overlap with extraction based on substring matching of popular tags, which confirms that still-low accuracy (matches with actual tags) reflected in the bar plots. However, looking at highest-frequency substring-matched keys, we see that the keys are common generic terms that may not be insightful of the problem at hand, e.g. like 'file' or 'list'. This is as opposed to the highest-frequency actual tags, which are more related to specific domains, e.g. web programming or operating systems. This lends us to the next part in constructing support desks based on domains of tags.*"
     ]
    },
    {
     "cell_type": "markdown",
     "metadata": {},
     "source": [
      "**Part 5: Construction of Mock \"Support Desks\"** Not all tags provide insight into which domain of the computer programming the topic is related to. We do a mass web-scraping of tag descriptions in order to classify tags into clusters, or domains, which will serve as our \"support desk.\" These broader classifications will be the basis of the Multinomial-Dirichlet model we use in fielding queries to broader groups. "
     ]
    },
    {
     "cell_type": "code",
     "collapsed": false,
     "input": [
      "## NOTE: THIS SCRIPT WILL TAKE AROUND 20 MINUTES TO RUN IN ORDER TO PROPERLY SCRAPE ALL DESCRIPTIONS OF TAGS\n",
      "## WITHOUT RUNNING INTO CONNECTION ERRORS BECAUSE OF THE MASSIVE NUMBER OF REQUESTS BEING SET TO STACK OVERFLOW. \n",
      "## THIS IS DUE TO TIME.SLEEP SET TO 0.25 SECOND. \n",
      "\n",
      "# create broad classifications \n",
      "Api = [] # APPLICATION PROGRAMMING INFERFACES (APIs)\n",
      "Language = [] # LANGUAGES, FRAMEWORKS \n",
      "Web = [] # WEB\n",
      "Os = [] # OPERATING SYSTEMS, SOFTWARE, HARDWARE\n",
      "Developer = [] # DEVELOPMENT ENVIRONMENTS and DEVELOPER TOOLS  \n",
      "\n",
      "point = 0\n",
      "\n",
      "for tag in range(len(tagset)): \n",
      "    # scrape full text for each tag description page \n",
      "    url = \"http://stackoverflow.com/questions/tagged/%s\" % str(tagset[tag]) # use 'tagset' to maintain html encoding \n",
      "    while True: \n",
      "        try: \n",
      "            html = requests.get(url).text\n",
      "            time.sleep(0.25)\n",
      "            point += 1\n",
      "        except: \n",
      "            continue \n",
      "        break \n",
      "        \n",
      "    # use dom to extract <p>'s noting that only the first <p> will contain description of interest \n",
      "    dom = web.Element(html)\n",
      "    pagetext = []\n",
      "    for p in dom.by_tag('p'): \n",
      "        htmlstring = str(p[0]) # extract all html strings \n",
      "        pagetext.append(htmlstring)\n",
      "    \n",
      "    print pagetext[0].lower()\n",
      "    \n",
      "    # assign helpdesks (broader classifications) to tags by substring matching their descriptions among the html strings \n",
      "        # note that this is an exclusive hierarchal classification (one tag can have just one classification)\n",
      "    if \"operating system\" in pagetext[0].lower():  \n",
      "        Os.append(tag_set[tag]) \n",
      "    elif \"computer\" in pagetext[0].lower():  \n",
      "        Os.append(tag_set[tag]) \n",
      "    elif \" ios\" in pagetext[0].lower():  \n",
      "        Os.append(tag_set[tag])     \n",
      "    elif \" os \" in pagetext[0].lower():  \n",
      "        Os.append(tag_set[tag]) \n",
      "    elif \"hardware\" in pagetext[0].lower():  \n",
      "        Os.append(tag_set[tag]) \n",
      "    elif \"device\" in pagetext[0].lower():  \n",
      "        Os.append(tag_set[tag])  \n",
      "    elif \"windows\" in pagetext[0].lower():  \n",
      "        Os.append(tag_set[tag]) \n",
      "    elif \"linux\" in pagetext[0].lower():  \n",
      "        Os.append(tag_set[tag]) \n",
      "    elif \"unix\" in pagetext[0].lower():  \n",
      "        Os.append(tag_set[tag]) \n",
      "        \n",
      "        \n",
      "    elif \"programming interface\" in pagetext[0].lower(): \n",
      "        Api.append(tag_set[tag])\n",
      "\n",
      "        \n",
      "    elif \"programming language\" in pagetext[0].lower(): \n",
      "        Language.append(tag_set[tag])    \n",
      "    elif \"markup language\" in pagetext[0].lower(): \n",
      "        Language.append(tag_set[tag])    \n",
      "    elif \"language\" in pagetext[0].lower(): \n",
      "        Language.append(tag_set[tag])\n",
      "    elif \"framework\" in pagetext[0].lower(): \n",
      "        Language.append(tag_set[tag])\n",
      "    elif \"library\" in pagetext[0].lower(): \n",
      "        Language.append(tag_set[tag])\n",
      "    elif \"package\" in pagetext[0].lower(): \n",
      "        Language.append(tag_set[tag])            \n",
      "\n",
      "        \n",
      "    elif \"web\" in pagetext[0].lower(): \n",
      "        Web.append(tag_set[tag]) \n",
      "    elif \"internet\" in pagetext[0].lower(): \n",
      "        Web.append(tag_set[tag]) \n",
      "    elif \"sql\" in pagetext[0].lower(): \n",
      "        Web.append(tag_set[tag])\n",
      "    elif \"php\" in pagetext[0].lower(): \n",
      "        Web.append(tag_set[tag]) \n",
      "    elif \"html\" in pagetext[0].lower(): \n",
      "        Web.append(tag_set[tag]) \n",
      "    elif \"javascript\" in pagetext[0].lower(): \n",
      "        Web.append(tag_set[tag])\n",
      "    elif \"jquery\" in pagetext[0].lower(): \n",
      "        Web.append(tag_set[tag])\n",
      "    elif \"server\" in pagetext[0].lower():  \n",
      "        Web.append(tag_set[tag]) \n",
      "\n",
      "        \n",
      "    elif \"software\" in pagetext[0].lower():  \n",
      "        Os.append(tag_set[tag]) \n",
      "    elif \"interface\" in pagetext[0].lower():  \n",
      "        Os.append(tag_set[tag]) \n",
      "    \n",
      "    \n",
      "    elif \"database\" in pagetext[0].lower():  \n",
      "        Developer.append(tag_set[tag])    \n",
      "    elif \"developer\" in pagetext[0].lower(): \n",
      "        Developer.append(tag_set[tag]) \n",
      "    elif \"development environment\" in pagetext[0].lower(): \n",
      "        Developer.append(tag_set[tag]) \n",
      "\n",
      "# confirm we scraped the page descriptions of all tags \n",
      "print \"We scraped the descriptions of\", point, \"most popular tags.\""
     ],
     "language": "python",
     "metadata": {},
     "outputs": [
      {
       "output_type": "stream",
       "stream": "stdout",
       "text": [
        "\r\n",
        "c# is a multi-paradigm programming language encompassing strong typing, imperative, declarative, functional, generic, object-oriented (class-based), and component-oriented programming disciplines.                         \n",
        "\r\n",
        "java (not to be confused with javascript) is a class-based, object-oriented, strongly typed, reflective language and runtime environment (jre). java programs are compiled to bytecode and run in a virtual machine (jvm) enabling a \"write once, run anywhere\" (wora) methodology.                         "
       ]
      },
      {
       "output_type": "stream",
       "stream": "stdout",
       "text": [
        "\n",
        "\r\n",
        "javascript is a dynamically-typed language commonly used for client-side scripting. use this tag for questions regarding ecmascript and its dialects/implementations (excluding actionscript). unless a tag for a framework/library is also included, a pure javascript answer is expected.                         "
       ]
      },
      {
       "output_type": "stream",
       "stream": "stdout",
       "text": [
        "\n",
        "\r\n",
        "php is an open-source server-side scripting language widely used in web development. use this tag for questions about php classes, methods, functions, syntax and use.                         "
       ]
      },
      {
       "output_type": "stream",
       "stream": "stdout",
       "text": [
        "\n",
        "\r\n",
        "android is google's os for mobile devices. please use android-specific tags such as [android-intent], not [intent]. for non-developer questions, see http://android.stackexchange.com.                         "
       ]
      },
      {
       "output_type": "stream",
       "stream": "stdout",
       "text": [
        "\n",
        "\r\n",
        "jquery is a cross-browser javascript library that facilitates dom traversal, event handling, animation and ajax interactions.                         "
       ]
      },
      {
       "output_type": "stream",
       "stream": "stdout",
       "text": [
        "\n",
        "\r\n",
        "c++ is a widely-used, statically-typed, free-form, compiled, multi-paradigm, multi-level, imperative, general-purpose, object-oriented programming language based on c.                         "
       ]
      },
      {
       "output_type": "stream",
       "stream": "stdout",
       "text": [
        "\n",
        "\r\n",
        "python is a dynamically and strongly typed programming language whose design philosophy emphasizes code readability. two significantly different versions of python (2 and 3) are in use. please mention the version that you are using when asking a question about python.                         "
       ]
      },
      {
       "output_type": "stream",
       "stream": "stdout",
       "text": [
        "\n",
        "\r\n",
        "html (hypertext markup language) is the principal markup language used for structuring web pages and formatting content. the most recent revision to the html specification is html5.                         "
       ]
      },
      {
       "output_type": "stream",
       "stream": "stdout",
       "text": [
        "\n",
        "\r\n",
        "mysql is an open-source, relational database management system.                         "
       ]
      },
      {
       "output_type": "stream",
       "stream": "stdout",
       "text": [
        "\n",
        "\r\n",
        "asp.net is a web application framework developed by microsoft to allow programmers to build dynamic web sites and web applications.                          "
       ]
      },
      {
       "output_type": "stream",
       "stream": "stdout",
       "text": [
        "\n",
        "\r\n",
        "ios is apple's operating system for mobile devices, such as the iphone, ipod touch, ipad and apple tv (2nd generation and up). much is shared with os x, but ios is optimized for touch-based interfaces.                         "
       ]
      },
      {
       "output_type": "stream",
       "stream": "stdout",
       "text": [
        "\n",
        "\r\n",
        "specific to apple's iphone and/or ipod touch, but inapplicable to ipad. for questions not dependent on hardware, use the \"ios\" tag. another tag to consider is \"cocoa-touch\" (but not \"cocoa\"). please refrain from questions regarding the itunes app store or about itunes connect.                         "
       ]
      },
      {
       "output_type": "stream",
       "stream": "stdout",
       "text": [
        "\n",
        "\r\n",
        "css (cascading style sheets) is a language used to control the visual presentation of html and xml documents including (but not limited to) colors, layout and fonts.                         "
       ]
      },
      {
       "output_type": "stream",
       "stream": "stdout",
       "text": [
        "\n",
        "\r\n",
        "structured query language (sql) is a language for querying databases. questions should include code examples and table structure. this tag refers to the standard language, not for questions about a specific dbms implementation (e.g. mysql, postgresql, oracle, ms sql server). so if you think your ...                         "
       ]
      },
      {
       "output_type": "stream",
       "stream": "stdout",
       "text": [
        "\n",
        "\r\n",
        "the .net framework is a software framework designed mainly for the microsoft windows operating system. it includes an implementation of the base class library, common language runtime (commonly referred to as cli) and dynamic language runtime. it supports many programming languages, including c#, ...                         "
       ]
      },
      {
       "output_type": "stream",
       "stream": "stdout",
       "text": [
        "\n",
        "\r\n",
        "this tag should be used only on questions that are about objective-c features or depend on code in the language. the tags \"cocoa\" and \"cocoa-touch\" should be used to ask about apple's frameworks or classes. use the related tags [ios] and [osx] for issues specific to those platforms.                         "
       ]
      },
      {
       "output_type": "stream",
       "stream": "stdout",
       "text": [
        "\n",
        "\r\n",
        "ruby on rails is an open source full-stack web application framework written in ruby. it follows the popular mvc framework model and is known for its \"convention over configuration\" approach to application development.                         "
       ]
      },
      {
       "output_type": "stream",
       "stream": "stdout",
       "text": [
        "\n",
        "\r\n",
        "c is a general-purpose computer programming language used for operating systems, games and other high performance work and is clearly distinct from c++. it was developed in 1972 by dennis ritchie for use with the unix operating system.                         "
       ]
      },
      {
       "output_type": "stream",
       "stream": "stdout",
       "text": [
        "\n",
        "\r\n",
        "ruby is a multi-platform open-source dynamic object-oriented interpreted language created by yukihiro matsumoto (matz) in 1993.                         "
       ]
      },
      {
       "output_type": "stream",
       "stream": "stdout",
       "text": [
        "\n",
        "\r\n",
        "sql server is a relational database management system from microsoft. use this tag for all sql server editions including compact, express, azure, fasttrack and pdw.                         "
       ]
      },
      {
       "output_type": "stream",
       "stream": "stdout",
       "text": [
        "\n",
        "\r\n",
        "ajax (asynchronous javascript and xml) is a technique for creating seamless interactive websites via asynchronous data exchange between client and server. ajax facilitates communication with the server or partial page updates without a traditional page refresh.                         "
       ]
      },
      {
       "output_type": "stream",
       "stream": "stdout",
       "text": [
        "\n",
        "\r\n",
        "extensible markup language (xml) is a structured document format that defines human- and machine-readable encoding rules.\r\n",
        "\r\n",
        "\r\n",
        "                         "
       ]
      },
      {
       "output_type": "stream",
       "stream": "stdout",
       "text": [
        "\n",
        "\r\n",
        "windows presentation foundation, or wpf, is a subsystem for rendering user interfaces in windows-based applications.                         "
       ]
      },
      {
       "output_type": "stream",
       "stream": "stdout",
       "text": [
        "\n",
        "\r\n",
        "regular expressions (often shortened to \"regex\") are a declarative language used for pattern matching within strings. please also include a tag specifying the programming language or tool you are using.                         "
       ]
      },
      {
       "output_type": "stream",
       "stream": "stdout",
       "text": [
        "\n",
        "\r\n",
        "the asp.net mvc framework is a microsoft web application framework that implements the model-view-controller (mvc) pattern. the latest release of the framework \r\n",
        "offers rest-style web services development capability, also known as web api.                         "
       ]
      },
      {
       "output_type": "stream",
       "stream": "stdout",
       "text": [
        "\n",
        "\r\n",
        "an array is an ordered data structure consisting of a collection of elements (values or variables), each identified by one (single dimensional array, or vector) or multiple indexes.                          "
       ]
      },
      {
       "output_type": "stream",
       "stream": "stdout",
       "text": [
        "\n",
        "\r\n",
        "a database is an organized collection of data typically used to model certain situations. use this tag if you have questions about designing a database. if it is about a particular database management system, like mysql for instance, please use that tag instead.                         "
       ]
      },
      {
       "output_type": "stream",
       "stream": "stdout",
       "text": [
        "\n",
        "\r\n",
        "for questions that are specific to the gnu/linux operating system. if your question has nothing to do with linux apis or linux-specific behavior you should not use this tag, even if you are running on linux.                         "
       ]
      },
      {
       "output_type": "stream",
       "stream": "stdout",
       "text": [
        "\n",
        "\r\n",
        "django is an open source web 2.0 application framework, written in python. its primary goal is to ease the creation of complex database-driven websites.                         "
       ]
      },
      {
       "output_type": "stream",
       "stream": "stdout",
       "text": [
        "\n",
        "\r\n",
        "json (javascript object notation) is a lightweight data exchange format inspired by javascript object literals. it is often used with javascript, ajax, and restful web services but is completely language independent.                         "
       ]
      },
      {
       "output_type": "stream",
       "stream": "stdout",
       "text": [
        "\n",
        "\r\n",
        "xcode is apple's integrated development environment (ide). this tag should only be used for questions about xcode itself, and not for general mac or ios programming topics. use [cocoa] for mac programming questions, and [cocoa-touch] or [ios] for ios programming questions.                         "
       ]
      },
      {
       "output_type": "stream",
       "stream": "stdout",
       "text": [
        "\n",
        "\r\n",
        "visual basic .net (vb.net) is an object-oriented computer programming language that can be viewed as an evolution of microsoft's visual basic 6 (vb6) but implemented on the microsoft .net framework.                         "
       ]
      },
      {
       "output_type": "stream",
       "stream": "stdout",
       "text": [
        "\n",
        "\r\n",
        "windows is a family of client, server, and mobile operating systems, developed by microsoft. if your question has nothing to do with windows apis or windows-specific behaviour then do not use this tag, even if you are running on windows.                         "
       ]
      },
      {
       "output_type": "stream",
       "stream": "stdout",
       "text": [
        "\n",
        "\r\n",
        "eclipse is an open source ide with plugins available to support a large variety of languages. this tag should only be used for questions about the eclipse ide and not for generalized programming topics.                         "
       ]
      },
      {
       "output_type": "stream",
       "stream": "stdout",
       "text": [
        "\n",
        "\r\n",
        "facebook platform lets developers integrate their apps directly into the facebook social networking service.                         "
       ]
      },
      {
       "output_type": "stream",
       "stream": "stdout",
       "text": [
        "\n",
        "\r\n",
        "c# is a multi-paradigm programming language encompassing strong typing, imperative, declarative, functional, generic, object-oriented (class-based), and component-oriented programming disciplines.                         "
       ]
      },
      {
       "output_type": "stream",
       "stream": "stdout",
       "text": [
        "\n",
        "\r\n",
        "java (not to be confused with javascript) is a class-based, object-oriented, strongly typed, reflective language and runtime environment (jre). java programs are compiled to bytecode and run in a virtual machine (jvm) enabling a \"write once, run anywhere\" (wora) methodology.                         "
       ]
      },
      {
       "output_type": "stream",
       "stream": "stdout",
       "text": [
        "\n",
        "\r\n",
        "javascript is a dynamically-typed language commonly used for client-side scripting. use this tag for questions regarding ecmascript and its dialects/implementations (excluding actionscript). unless a tag for a framework/library is also included, a pure javascript answer is expected.                         "
       ]
      },
      {
       "output_type": "stream",
       "stream": "stdout",
       "text": [
        "\n",
        "\r\n",
        "php is an open-source server-side scripting language widely used in web development. use this tag for questions about php classes, methods, functions, syntax and use.                         "
       ]
      },
      {
       "output_type": "stream",
       "stream": "stdout",
       "text": [
        "\n",
        "\r\n",
        "android is google's os for mobile devices. please use android-specific tags such as [android-intent], not [intent]. for non-developer questions, see http://android.stackexchange.com.                         "
       ]
      },
      {
       "output_type": "stream",
       "stream": "stdout",
       "text": [
        "\n",
        "\r\n",
        "jquery is a cross-browser javascript library that facilitates dom traversal, event handling, animation and ajax interactions.                         "
       ]
      },
      {
       "output_type": "stream",
       "stream": "stdout",
       "text": [
        "\n",
        "\r\n",
        "c++ is a widely-used, statically-typed, free-form, compiled, multi-paradigm, multi-level, imperative, general-purpose, object-oriented programming language based on c.                         "
       ]
      },
      {
       "output_type": "stream",
       "stream": "stdout",
       "text": [
        "\n",
        "\r\n",
        "python is a dynamically and strongly typed programming language whose design philosophy emphasizes code readability. two significantly different versions of python (2 and 3) are in use. please mention the version that you are using when asking a question about python.                         "
       ]
      },
      {
       "output_type": "stream",
       "stream": "stdout",
       "text": [
        "\n",
        "\r\n",
        "html (hypertext markup language) is the principal markup language used for structuring web pages and formatting content. the most recent revision to the html specification is html5.                         "
       ]
      },
      {
       "output_type": "stream",
       "stream": "stdout",
       "text": [
        "\n",
        "\r\n",
        "mysql is an open-source, relational database management system.                         "
       ]
      },
      {
       "output_type": "stream",
       "stream": "stdout",
       "text": [
        "\n",
        "\r\n",
        "asp.net is a web application framework developed by microsoft to allow programmers to build dynamic web sites and web applications.                          "
       ]
      },
      {
       "output_type": "stream",
       "stream": "stdout",
       "text": [
        "\n",
        "\r\n",
        "ios is apple's operating system for mobile devices, such as the iphone, ipod touch, ipad and apple tv (2nd generation and up). much is shared with os x, but ios is optimized for touch-based interfaces.                         "
       ]
      },
      {
       "output_type": "stream",
       "stream": "stdout",
       "text": [
        "\n",
        "\r\n",
        "specific to apple's iphone and/or ipod touch, but inapplicable to ipad. for questions not dependent on hardware, use the \"ios\" tag. another tag to consider is \"cocoa-touch\" (but not \"cocoa\"). please refrain from questions regarding the itunes app store or about itunes connect.                         "
       ]
      },
      {
       "output_type": "stream",
       "stream": "stdout",
       "text": [
        "\n",
        "\r\n",
        "css (cascading style sheets) is a language used to control the visual presentation of html and xml documents including (but not limited to) colors, layout and fonts.                         "
       ]
      },
      {
       "output_type": "stream",
       "stream": "stdout",
       "text": [
        "\n",
        "\r\n",
        "structured query language (sql) is a language for querying databases. questions should include code examples and table structure. this tag refers to the standard language, not for questions about a specific dbms implementation (e.g. mysql, postgresql, oracle, ms sql server). so if you think your ...                         "
       ]
      },
      {
       "output_type": "stream",
       "stream": "stdout",
       "text": [
        "\n",
        "\r\n",
        "the .net framework is a software framework designed mainly for the microsoft windows operating system. it includes an implementation of the base class library, common language runtime (commonly referred to as cli) and dynamic language runtime. it supports many programming languages, including c#, ...                         "
       ]
      },
      {
       "output_type": "stream",
       "stream": "stdout",
       "text": [
        "\n",
        "\r\n",
        "this tag should be used only on questions that are about objective-c features or depend on code in the language. the tags \"cocoa\" and \"cocoa-touch\" should be used to ask about apple's frameworks or classes. use the related tags [ios] and [osx] for issues specific to those platforms.                         "
       ]
      },
      {
       "output_type": "stream",
       "stream": "stdout",
       "text": [
        "\n",
        "\r\n",
        "ruby on rails is an open source full-stack web application framework written in ruby. it follows the popular mvc framework model and is known for its \"convention over configuration\" approach to application development.                         "
       ]
      },
      {
       "output_type": "stream",
       "stream": "stdout",
       "text": [
        "\n",
        "\r\n",
        "c is a general-purpose computer programming language used for operating systems, games and other high performance work and is clearly distinct from c++. it was developed in 1972 by dennis ritchie for use with the unix operating system.                         "
       ]
      },
      {
       "output_type": "stream",
       "stream": "stdout",
       "text": [
        "\n",
        "\r\n",
        "ruby is a multi-platform open-source dynamic object-oriented interpreted language created by yukihiro matsumoto (matz) in 1993.                         "
       ]
      },
      {
       "output_type": "stream",
       "stream": "stdout",
       "text": [
        "\n",
        "\r\n",
        "sql server is a relational database management system from microsoft. use this tag for all sql server editions including compact, express, azure, fasttrack and pdw.                         "
       ]
      },
      {
       "output_type": "stream",
       "stream": "stdout",
       "text": [
        "\n",
        "\r\n",
        "ajax (asynchronous javascript and xml) is a technique for creating seamless interactive websites via asynchronous data exchange between client and server. ajax facilitates communication with the server or partial page updates without a traditional page refresh.                         "
       ]
      },
      {
       "output_type": "stream",
       "stream": "stdout",
       "text": [
        "\n",
        "\r\n",
        "extensible markup language (xml) is a structured document format that defines human- and machine-readable encoding rules.\r\n",
        "\r\n",
        "\r\n",
        "                         "
       ]
      },
      {
       "output_type": "stream",
       "stream": "stdout",
       "text": [
        "\n",
        "\r\n",
        "windows presentation foundation, or wpf, is a subsystem for rendering user interfaces in windows-based applications.                         "
       ]
      },
      {
       "output_type": "stream",
       "stream": "stdout",
       "text": [
        "\n",
        "\r\n",
        "regular expressions (often shortened to \"regex\") are a declarative language used for pattern matching within strings. please also include a tag specifying the programming language or tool you are using.                         "
       ]
      },
      {
       "output_type": "stream",
       "stream": "stdout",
       "text": [
        "\n",
        "\r\n",
        "the asp.net mvc framework is a microsoft web application framework that implements the model-view-controller (mvc) pattern. the latest release of the framework \r\n",
        "offers rest-style web services development capability, also known as web api.                         "
       ]
      },
      {
       "output_type": "stream",
       "stream": "stdout",
       "text": [
        "\n",
        "\r\n",
        "an array is an ordered data structure consisting of a collection of elements (values or variables), each identified by one (single dimensional array, or vector) or multiple indexes.                          "
       ]
      },
      {
       "output_type": "stream",
       "stream": "stdout",
       "text": [
        "\n",
        "\r\n",
        "a database is an organized collection of data typically used to model certain situations. use this tag if you have questions about designing a database. if it is about a particular database management system, like mysql for instance, please use that tag instead.                         "
       ]
      },
      {
       "output_type": "stream",
       "stream": "stdout",
       "text": [
        "\n",
        "\r\n",
        "for questions that are specific to the gnu/linux operating system. if your question has nothing to do with linux apis or linux-specific behavior you should not use this tag, even if you are running on linux.                         "
       ]
      },
      {
       "output_type": "stream",
       "stream": "stdout",
       "text": [
        "\n",
        "\r\n",
        "django is an open source web 2.0 application framework, written in python. its primary goal is to ease the creation of complex database-driven websites.                         "
       ]
      },
      {
       "output_type": "stream",
       "stream": "stdout",
       "text": [
        "\n",
        "\r\n",
        "json (javascript object notation) is a lightweight data exchange format inspired by javascript object literals. it is often used with javascript, ajax, and restful web services but is completely language independent.                         "
       ]
      },
      {
       "output_type": "stream",
       "stream": "stdout",
       "text": [
        "\n",
        "\r\n",
        "xcode is apple's integrated development environment (ide). this tag should only be used for questions about xcode itself, and not for general mac or ios programming topics. use [cocoa] for mac programming questions, and [cocoa-touch] or [ios] for ios programming questions.                         "
       ]
      },
      {
       "output_type": "stream",
       "stream": "stdout",
       "text": [
        "\n",
        "\r\n",
        "visual basic .net (vb.net) is an object-oriented computer programming language that can be viewed as an evolution of microsoft's visual basic 6 (vb6) but implemented on the microsoft .net framework.                         "
       ]
      },
      {
       "output_type": "stream",
       "stream": "stdout",
       "text": [
        "\n",
        "\r\n",
        "windows is a family of client, server, and mobile operating systems, developed by microsoft. if your question has nothing to do with windows apis or windows-specific behaviour then do not use this tag, even if you are running on windows.                         "
       ]
      },
      {
       "output_type": "stream",
       "stream": "stdout",
       "text": [
        "\n",
        "\r\n",
        "eclipse is an open source ide with plugins available to support a large variety of languages. this tag should only be used for questions about the eclipse ide and not for generalized programming topics.                         "
       ]
      },
      {
       "output_type": "stream",
       "stream": "stdout",
       "text": [
        "\n",
        "\r\n",
        "facebook platform lets developers integrate their apps directly into the facebook social networking service.                         "
       ]
      },
      {
       "output_type": "stream",
       "stream": "stdout",
       "text": [
        "\n",
        "\r\n",
        "a string is a sequence of zero or more characters. it is commonly used to represent text or a sequence of bytes.                         "
       ]
      },
      {
       "output_type": "stream",
       "stream": "stdout",
       "text": [
        "\n",
        "\r\n",
        "ruby on rails is an open-source web development framework written in ruby. ruby on rails follows the principle of convention over configuration, freeing you from having to re-invent things to stay productive. ruby on rails 4.0 is now available.                         "
       ]
      },
      {
       "output_type": "stream",
       "stream": "stdout",
       "text": [
        "\n",
        "\r\n",
        "multithreading is how work performed by a computer can be divided into multiple concurrent streams of execution (generally referred to as threads).                         "
       ]
      },
      {
       "output_type": "stream",
       "stream": "stdout",
       "text": [
        "\n",
        "\r\n",
        "winforms is the informal term given to windows forms, one of the graphical application programming interface (api) included as a part of microsoft .net framework. winforms provides access to the native microsoft windows interface elements by wrapping the existing windows api in managed code.                         "
       ]
      },
      {
       "output_type": "stream",
       "stream": "stdout",
       "text": [
        "\n",
        "\r\n",
        "r is a free, open-source programming language and software environment for statistical computing, bioinformatics and graphics.\r\n",
        "it is advised to supplement your question with a minimal reproducible example. for statistical questions please use stats.stackexchange.com.                         "
       ]
      },
      {
       "output_type": "stream",
       "stream": "stdout",
       "text": [
        "\n",
        "\r\n",
        "wordpress is an open source content management system running on php and mysql, and often used as a blog engine. wordpress questions about programming and administration are best asked on http://wordpress.stackexchange.com/                         "
       ]
      },
      {
       "output_type": "stream",
       "stream": "stdout",
       "text": [
        "\n",
        "\r\n",
        "the image tag is for questions related to the loading, formatting, saving, compression, and display of images in the context of source code. this tag should also be used for assistance using various image libraries.                         "
       ]
      },
      {
       "output_type": "stream",
       "stream": "stdout",
       "text": [
        "\n",
        "\r\n",
        "html forms are used to pass data to a server. a form is essentially a container that can be used to hold any amount of any subset of several types of data.                         "
       ]
      },
      {
       "output_type": "stream",
       "stream": "stdout",
       "text": [
        "\n",
        "\r\n",
        "for questions pertaining to the measurement or improvement of code efficiency.                         "
       ]
      },
      {
       "output_type": "stream",
       "stream": "stdout",
       "text": [
        "\n",
        "\r\n",
        "os x is the desktop operating system from apple inc. it was the successor to mac os 9 and here the 'x' means 10.  os x is based upon the nextstep/openstep oses developed in the 1980s and 1990s by next inc., which apple purchased in 1996.                         "
       ]
      },
      {
       "output_type": "stream",
       "stream": "stdout",
       "text": [
        "\n",
        "\r\n",
        "the spring framework is an open source framework for application development on the java platform. at its core is rich support for component based architectures, and it currently has over a dozen highly integrated modules.                         "
       ]
      },
      {
       "output_type": "stream",
       "stream": "stdout",
       "text": [
        "\n",
        "\r\n",
        "asp.net mvc 3 is the third major version of model-view-controller extension for developing web applications in a .net framework.                          "
       ]
      },
      {
       "output_type": "stream",
       "stream": "stdout",
       "text": [
        "\n",
        "\r\n",
        "an algorithm is a sequence of well-defined steps that defines an abstract solution to a problem. use this tag when your issue is related to algorithm design.                         "
       ]
      },
      {
       "output_type": "stream",
       "stream": "stdout",
       "text": [
        "\n",
        "\r\n",
        "oracle server is a relational dbms (database management system) created by oracle corporation. do not use this tag for other dbms servers owned by oracle (for instance mysql, timesten and berkeley db).                         "
       ]
      },
      {
       "output_type": "stream",
       "stream": "stdout",
       "text": [
        "\n",
        "\r\n",
        "language integrated query (linq) is a microsoft .net framework component that adds native data querying capabilities to .net languages.                         "
       ]
      },
      {
       "output_type": "stream",
       "stream": "stdout",
       "text": [
        "\n",
        "\r\n",
        "microsoft excel is a commercial spreadsheet application written and distributed by microsoft for microsoft windows and mac os x. if your question is about programming excel in vba then also tag it [tag:excel-vba]. if it is about an excel formula or worksheet function, then also tag it ...                         "
       ]
      },
      {
       "output_type": "stream",
       "stream": "stdout",
       "text": [
        "\n",
        "\r\n",
        "swing is the primary user-interface toolkit in java and is shipped with the standard java sdk. it is contained within the package `javax.swing`.                         "
       ]
      },
      {
       "output_type": "stream",
       "stream": "stdout",
       "text": [
        "\n",
        "\r\n",
        "git is an open-source dvcs (distributed version control system).\r\n",
        "                         "
       ]
      },
      {
       "output_type": "stream",
       "stream": "stdout",
       "text": [
        "\n",
        "\r\n",
        "windows communication foundation is a part of the .net framework that provides a unified programming model for rapidly building service-oriented applications.                         "
       ]
      },
      {
       "output_type": "stream",
       "stream": "stdout",
       "text": [
        "\n",
        "\r\n",
        "node.js is an event-based, asynchronous i/o framework that uses google's v8 javascript engine. node.js is commonly used for heavy client-server javascript applications.                         "
       ]
      },
      {
       "output_type": "stream",
       "stream": "stdout",
       "text": [
        "\n",
        "\r\n",
        "a \"web service\" is a software system designed to support interoperable machine-to-machine interaction over the world wide web.                         "
       ]
      },
      {
       "output_type": "stream",
       "stream": "stdout",
       "text": [
        "\n",
        "\r\n",
        "perl is a high-level, general-purpose, interpreted, dynamic programming language.                         "
       ]
      },
      {
       "output_type": "stream",
       "stream": "stdout",
       "text": [
        "\n",
        "\r\n",
        "the apache http server, commonly referred to as apache, is an open-source http server for modern operating systems including unix, its variants and windows. apache is a secure, efficient and extensible server that provides http services in sync with the current http standards.                         "
       ]
      },
      {
       "output_type": "stream",
       "stream": "stdout",
       "text": [
        "\n",
        "\r\n",
        "use this tag for questions specific to the 2008 version of microsoft's sql server.                         "
       ]
      },
      {
       "output_type": "stream",
       "stream": "stdout",
       "text": [
        "\n",
        "\r\n",
        "visual studio is an integrated development environment (ide) from microsoft. it supports many different programming languages.                         "
       ]
      },
      {
       "output_type": "stream",
       "stream": "stdout",
       "text": [
        "\n",
        "\r\n",
        "the ado.net entity framework is a set of object-relational-mapping (orm) tools for the .net  framework, since version 3.5 sp1.                         "
       ]
      },
      {
       "output_type": "stream",
       "stream": "stdout",
       "text": [
        "\n",
        "\r\n",
        "actionscript 3 (as3) is the open source object oriented programming (oop) language of the adobe flash and air platforms.  as3 is widely used for rias, mobile apps, and desktop applications. (actionscript 3 is a dialect of ecmascript.)                         "
       ]
      },
      {
       "output_type": "stream",
       "stream": "stdout",
       "text": [
        "\n",
        "\r\n",
        "hibernate is object-relational mapping (orm) library for the [tag:java] language enabling developers to utilize pojo-style domain models in their applications in ways extending well beyond object/relational mapping.                         "
       ]
      },
      {
       "output_type": "stream",
       "stream": "stdout",
       "text": [
        "\n",
        "\r\n",
        "the bourne-again shell (bash) is a successor to the bourne shell (sh). bash is the default shell in many linux distributions, and on mac os x.                         "
       ]
      },
      {
       "output_type": "stream",
       "stream": "stdout",
       "text": [
        "\n",
        "\r\n",
        "ipad is a tablet computer designed by apple running the ios operating system. ipad applications are usually written in objective-c in the xcode ide, although it is also possible to use other tools to build ipad applications. questions that are not dependent on hardware should use the ios tag ...                         "
       ]
      },
      {
       "output_type": "stream",
       "stream": "stdout",
       "text": [
        "\n",
        "\r\n",
        "the cocoa touch frameworks that drive ios apps share many proven patterns found on the mac, but were built with a special focus on touch-based interfaces and optimization.                         "
       ]
      },
      {
       "output_type": "stream",
       "stream": "stdout",
       "text": [
        "\n",
        "\r\n",
        "cocoa is apple's application-development framework for os x, consisting of foundation, application kit, and core data. use the \"cocoa-touch\" tag for ios questions.                         "
       ]
      },
      {
       "output_type": "stream",
       "stream": "stdout",
       "text": [
        "\n",
        "\r\n",
        "api stands for application programming interface.  a program's api defines the proper way for a developer to request services from that program.                         "
       ]
      },
      {
       "output_type": "stream",
       "stream": "stdout",
       "text": [
        "\n",
        "\r\n",
        "adobe flash is a cross-platform multimedia runtime used to embed animations, video, and interactive applications into web pages.                         "
       ]
      },
      {
       "output_type": "stream",
       "stream": "stdout",
       "text": [
        "\n",
        "\r\n",
        "qt is a cross-platform application development framework widely used for the development of gui programs.                         "
       ]
      },
      {
       "output_type": "stream",
       "stream": "stdout",
       "text": [
        "\n",
        "\r\n",
        "a block of arbitrary information, or resource for storing information, accessible by the string-based name or path. files are available to computer programs and are usually based on some kind of persistent storage.                         "
       ]
      },
      {
       "output_type": "stream",
       "stream": "stdout",
       "text": [
        "\n",
        "\r\n",
        "matlab is a high-level language and interactive programming environment for numerical computation and visualization developed by mathworks.                          "
       ]
      },
      {
       "output_type": "stream",
       "stream": "stdout",
       "text": [
        "\n",
        "\r\n",
        "list may refer to: a linked list (an ordered set of nodes, each referencing its successor), or a form of dynamic array. not to be used for html lists, use [html-lists] instead.                         "
       ]
      },
      {
       "output_type": "stream",
       "stream": "stdout",
       "text": [
        "\n",
        "\r\n",
        "sqlite is a software library that implements a self-contained, serverless, zero-configuration, transactional sql database engine.                         "
       ]
      },
      {
       "output_type": "stream",
       "stream": "stdout",
       "text": [
        "\n",
        "\r\n",
        "jquery ui is the official jquery user interface library. it provides interactions, widgets, effects, and theming for creating highly interactive web applications.                         "
       ]
      },
      {
       "output_type": "stream",
       "stream": "stdout",
       "text": [
        "\n",
        "\r\n",
        "silverlight is microsoft's cross-browser, cross platform plug-in for media experiences and rich interactive applications.                         "
       ]
      },
      {
       "output_type": "stream",
       "stream": "stdout",
       "text": [
        "\n",
        "\r\n",
        "directory-level configuration file used by apache web servers.                          "
       ]
      },
      {
       "output_type": "stream",
       "stream": "stdout",
       "text": [
        "\n",
        "\r\n",
        "codeigniter is an open-source php web development framework created by ellislab inc. the framework implements a modified version of the model-view-controller design pattern. use this tag for questions about codeigniter classes, methods, functions, syntax and use.                         "
       ]
      },
      {
       "output_type": "stream",
       "stream": "stdout",
       "text": [
        "\n",
        "\r\n",
        "t-sql (transact structured query language) is the extension of sql functionality supported by sybase ase and microsoft sql server.                         "
       ]
      },
      {
       "output_type": "stream",
       "stream": "stdout",
       "text": [
        "\n",
        "\r\n",
        "a function (also called a procedure, method, subroutine, or routine) is a portion of code intended to carry out a single, specific task.                         "
       ]
      },
      {
       "output_type": "stream",
       "stream": "stdout",
       "text": [
        "\n",
        "\r\n",
        "delphi is a language for rapid development of native windows, os x, ios, and android applications through use of object oriented pascal. the name refers to the delphi language (a modern evolution of object pascal) as well as its ide, which is used to help edit and debug delphi projects.                         "
       ]
      },
      {
       "output_type": "stream",
       "stream": "stdout",
       "text": [
        "\n",
        "\r\n",
        "this tag is used for topics relating to application security and attacks against software.\r\n",
        "if your question is not about a specific programming problem, please consider asking it at security.stackexchange.com instead.\r\n",
        "                         "
       ]
      },
      {
       "output_type": "stream",
       "stream": "stdout",
       "text": [
        "\n",
        "\r\n",
        "a template for creating new objects that describes the common state(s) and behavior(s).                         "
       ]
      },
      {
       "output_type": "stream",
       "stream": "stdout",
       "text": [
        "\n",
        "\r\n",
        "mongodb is a scalable, high-performance, open source, document-oriented database.  it supports a large number of languages and application development platforms. questions about administrating it can be asked on dba.stackexchange.com                          "
       ]
      },
      {
       "output_type": "stream",
       "stream": "stdout",
       "text": [
        "\n",
        "\r\n",
        "internet explorer (commonly abbreviated to ie or msie) is a web browser developed by microsoft and is included as part of microsoft windows.                         "
       ]
      },
      {
       "output_type": "stream",
       "stream": "stdout",
       "text": [
        "\n",
        "\r\n",
        "the third and most recent edition of the cascading style sheets styling language (often shortened to css3) brings together powerful visual capabilities and versatile design manipulation techniques.                         "
       ]
      },
      {
       "output_type": "stream",
       "stream": "stdout",
       "text": [
        "\n",
        "\r\n",
        "google app engine is a cloud computing technology for hosting web applications in google-managed data centers. google app engine is a platform as a service (paas) offering for java, python, go (experimental) and php (beta).\r\n",
        "                         "
       ]
      },
      {
       "output_type": "stream",
       "stream": "stdout",
       "text": [
        "\n",
        "\r\n",
        "jsp (java server pages) is a server side technology used for presentation layer for the web applications.                          "
       ]
      },
      {
       "output_type": "stream",
       "stream": "stdout",
       "text": [
        "\n",
        "\r\n",
        "object-oriented programming is a programming paradigm using \"objects\": data structures consisting of data fields and methods together with their interactions.                          "
       ]
      },
      {
       "output_type": "stream",
       "stream": "stdout",
       "text": [
        "\n",
        "\r\n",
        "the google maps family of apis lets you embed the functionality of google maps into your own website and applications.                         "
       ]
      },
      {
       "output_type": "stream",
       "stream": "stdout",
       "text": [
        "\n",
        "\r\n",
        "flex is a framework for developing rich internet applications that run in flash player or adobe air; for the lexical analyzer *flex* use the tag flex-lexer instead.                         "
       ]
      },
      {
       "output_type": "stream",
       "stream": "stdout",
       "text": [
        "\n",
        "\r\n",
        "postgresql is an open-source, object-relational database management system (ordbms) available for many platforms including linux, unix, ms windows and mac os x.\r\n",
        "\r\n",
        "please mention your postgresql version when asking questions.                         "
       ]
      },
      {
       "output_type": "stream",
       "stream": "stdout",
       "text": [
        "\n",
        "\r\n",
        "unit testing is a method by which individual units of source code, sets of one or more computer program modules together with associated control data, usage procedures, and operating procedures, are tested to determine if they are fit for use.\r\n",
        "                         "
       ]
      },
      {
       "output_type": "stream",
       "stream": "stdout",
       "text": [
        "\n",
        "\r\n",
        "the term 'shell' refers to a general class of text-based command interpreters most often associated with the unix &amp; linux operating systems.                           "
       ]
      },
      {
       "output_type": "stream",
       "stream": "stdout",
       "text": [
        "\n",
        "\r\n",
        "validation is used to check data to make sure it fits whatever required specifications are set for it.                         "
       ]
      },
      {
       "output_type": "stream",
       "stream": "stdout",
       "text": [
        "\n",
        "\r\n",
        "an endpoint of a bidirectional inter-process communication flow. this often refers to a process flow over a network connection, but by no means is limited to such.                         "
       ]
      },
      {
       "output_type": "stream",
       "stream": "stdout",
       "text": [
        "\n",
        "\r\n",
        "visual basic for applications (vba) is an event-driven, object-oriented programming language for writing macros, used for the entire office suite. if your question is specifically about programming excel, access, word or outlook, use the appropriate tag: excel-vba, access-vba, word-vba or ...                         "
       ]
      },
      {
       "output_type": "stream",
       "stream": "stdout",
       "text": [
        "\n",
        "\r\n",
        "scala is a general purpose programming language principally targeting the java virtual machine. designed to express common programming patterns in a concise, elegant, and type-safe way, it fuses both imperative and functional programming styles. its key features are:\r\n",
        "advanced static type system ...                         "
       ]
      },
      {
       "output_type": "stream",
       "stream": "stdout",
       "text": [
        "\n",
        "\r\n",
        "parsing refers to breaking an artifact into its constituent elements and capturing the relationship between those elements. this tag isn't for questions about the hosted service parse.com (use [parse.com]) or php \"parse errors\" (use [php]).                         "
       ]
      },
      {
       "output_type": "stream",
       "stream": "stdout",
       "text": [
        "\n",
        "\r\n",
        "hypertext transfer protocol (http) is an application level network protocol that is used for the transfer of content on the world wide web.                         "
       ]
      },
      {
       "output_type": "stream",
       "stream": "stdout",
       "text": [
        "\n",
        "\r\n",
        "debugging is a methodical process of finding and reducing the number of bugs, or defects, in a computer program.                         "
       ]
      },
      {
       "output_type": "stream",
       "stream": "stdout",
       "text": [
        "\n",
        "\r\n",
        "extensible application markup language (xaml) is an xml language used for defining user interfaces in wpf, silverlight, windows phone and windows store apps.                         "
       ]
      },
      {
       "output_type": "stream",
       "stream": "stdout",
       "text": [
        "\n",
        "\r\n",
        "magento is an e-commerce platform written in php atop the zend framework, available under both open-source and commercial licenses.                         "
       ]
      },
      {
       "output_type": "stream",
       "stream": "stdout",
       "text": [
        "\n",
        "\r\n",
        "google chrome is a web browser available on mobile, tv, and desktop platforms. developed by google, it uses the blink layout engine and application framework.                         "
       ]
      },
      {
       "output_type": "stream",
       "stream": "stdout",
       "text": [
        "\n",
        "\r\n",
        "method of exchanging digital messages from an author to one or more recipients.                         "
       ]
      },
      {
       "output_type": "stream",
       "stream": "stdout",
       "text": [
        "\n",
        "\r\n",
        "a layout defines the visual structure for a user interface, such as the ui for an activity or app widget.                          "
       ]
      },
      {
       "output_type": "stream",
       "stream": "stdout",
       "text": [
        "\n",
        "\r\n",
        "uitableview is a class used for displaying and editing hierarchical lists on ios.                         "
       ]
      },
      {
       "output_type": "stream",
       "stream": "stdout",
       "text": [
        "\n",
        "\r\n",
        "rest (representational state transfer) is a style of software architecture for distributed hypermedia systems such as the world wide web. it has increased in popularity relative to rpc architectures such as soap due to the intrinsic de-coupling of client from server that comes from having a uniform ...                         "
       ]
      },
      {
       "output_type": "stream",
       "stream": "stdout",
       "text": [
        "\n",
        "\r\n",
        "asp.net mvc 4 is the fourth major version of the asp.net model-view-controller platform for web applications.                         "
       ]
      },
      {
       "output_type": "stream",
       "stream": "stdout",
       "text": [
        "\n",
        "\r\n",
        "the win32 api is the core set of application programming interfaces (apis) available in the microsoft windows operating systems. this tag is for questions about developing native windows applications using the win32 api.                           "
       ]
      },
      {
       "output_type": "stream",
       "stream": "stdout",
       "text": [
        "\n",
        "\r\n",
        "angularjs is an open-source javascript framework. its goal is to augment browser-based applications with model\u2013view\u2013controller (mvc) capability, reduce the amount of javascript needed to make web applications functional. these type of apps are also known as single-page applications.                         "
       ]
      },
      {
       "output_type": "stream",
       "stream": "stdout",
       "text": [
        "\n",
        "\r\n",
        "javaserver faces (jsf) is a model-view-presenter framework typically used to create web applications.\r\n",
        "\r\n",
        "using the standard components and render kit, stateful html views can be defined using jsp or facelets tags and wired to model data and application logic.\r\n",
        "                         "
       ]
      },
      {
       "output_type": "stream",
       "stream": "stdout",
       "text": [
        "\n",
        "\r\n",
        "jquery javascript library suite for ajax requests. a full set of functions that allows user agents to load data from the server using asynchronous http requests, without requiring a browser page refresh.                          "
       ]
      },
      {
       "output_type": "stream",
       "stream": "stdout",
       "text": [
        "\n",
        "\r\n",
        "the templates tag is used in multiple contexts: generic programming (especially c++), and data/document generation using template engines.\r\n",
        "                         "
       ]
      },
      {
       "output_type": "stream",
       "stream": "stdout",
       "text": [
        "\n",
        "\r\n",
        "apache maven is a software project management and comprehension tool. this tag is for questions that don't relate to a specific maven version.                         "
       ]
      },
      {
       "output_type": "stream",
       "stream": "stdout",
       "text": [
        "\n",
        "\r\n",
        "an event is a way for a class to provide notifications to clients of that class when some interesting thing happens to an object                         "
       ]
      },
      {
       "output_type": "stream",
       "stream": "stdout",
       "text": [
        "\n",
        "\r\n",
        "a listview is a graphical screen control or widget provided by ui libraries in majority of modern operating systems.                         "
       ]
      },
      {
       "output_type": "stream",
       "stream": "stdout",
       "text": [
        "\n",
        "\r\n",
        "subversion is a centralized open-source revision control system, founded by collabnet inc. and maintained by the apache software foundation.                         "
       ]
      },
      {
       "output_type": "stream",
       "stream": "stdout",
       "text": [
        "\n",
        "\r\n",
        "sorting is the process of applying some order to a collection of items.                         "
       ]
      },
      {
       "output_type": "stream",
       "stream": "stdout",
       "text": [
        "\n",
        "\r\n",
        "a uniform resource locator (url) is a uniform resource identifier (uri) that specifies where an identified resource is available and the mechanism for retrieving it.                         "
       ]
      },
      {
       "output_type": "stream",
       "stream": "stdout",
       "text": [
        "\n",
        "\r\n",
        "a session refers to all the requests that a single client makes to a server. a session is specific to the user and for each user a new session is created to track all the request from that user.                          "
       ]
      },
      {
       "output_type": "stream",
       "stream": "stdout",
       "text": [
        "\n",
        "\r\n",
        "a variable is a named data storage location in memory. using variables, a computer program can store numbers, text, binary data, or a combination of any of these data types. they can be passed around in code, to other functions and even other applications.                         "
       ]
      },
      {
       "output_type": "stream",
       "stream": "stdout",
       "text": [
        "\n",
        "\r\n",
        "a date is a position on a calendar, which usually refers to a day, month and year.                         "
       ]
      },
      {
       "output_type": "stream",
       "stream": "stdout",
       "text": [
        "\n",
        "\r\n",
        "facebook graph api is a graph-db style programming interface for languages like php, perl, actionscript, javascript etc.                          "
       ]
      },
      {
       "output_type": "stream",
       "stream": "stdout",
       "text": [
        "\n",
        "\r\n",
        "this tag is ambiguous. consider using other tags instead. read the tag wiki for more information                         "
       ]
      },
      {
       "output_type": "stream",
       "stream": "stdout",
       "text": [
        "\n",
        "\r\n",
        "the unix operating system is a general purpose os that was developed by bell labs in the late 1960s and today exists in various versions. it is known for its large collection of simple command-line utilities which allow powerful file handling and text processing capabilities to be implemented via ...                         "
       ]
      },
      {
       "output_type": "stream",
       "stream": "stdout",
       "text": [
        "\n",
        "\r\n",
        "bootstrap is a front-end framework from twitter designed to kick-start development of webapps and sites. use this tag and not \"bootstrap\" to ask a question about this framework.                         "
       ]
      },
      {
       "output_type": "stream",
       "stream": "stdout",
       "text": [
        "\n",
        "\r\n",
        "cakephp is a rapid development framework for php that provides an extensible architecture for developing, maintaining, and deploying applications. it uses commonly known design patterns like mvc and orm within the convention over configuration paradigm.                         "
       ]
      },
      {
       "output_type": "stream",
       "stream": "stdout",
       "text": [
        "\n",
        "\r\n",
        "loops are a type of control flow structure in programming in which a series of statements may be executed repeatedly until some condition is met.                         "
       ]
      },
      {
       "output_type": "stream",
       "stream": "stdout",
       "text": [
        "\n",
        "\r\n",
        "a free, open source and cross-platform web browser created by mozilla.                         "
       ]
      },
      {
       "output_type": "stream",
       "stream": "stdout",
       "text": [
        "\n",
        "\r\n",
        "zend framework is an open source, object-oriented web application framework implemented in php 5 and licensed under the new bsd license.                         "
       ]
      },
      {
       "output_type": "stream",
       "stream": "stdout",
       "text": [
        "\n",
        "\r\n",
        "java enterprise edition (java ee) is a specification defining a collection of java-based technologies and how they interoperate. java ee specifies server and client architectures and uses profiles to define technology sets targeted at specific classes of applications.                         "
       ]
      },
      {
       "output_type": "stream",
       "stream": "stdout",
       "text": [
        "\n",
        "\r\n",
        "an exception is a rarely occurring (exceptional!) condition that requires deviation from the program's normal flow. normally, an exception should not result in total failure, but instead be attended by an exception handler. exception handling is a built-in construct in many programming languages. ...                         "
       ]
      },
      {
       "output_type": "stream",
       "stream": "stdout",
       "text": [
        "\n",
        "\r\n",
        "microsoft access, also known as microsoft office access, is a database management system from microsoft that combines the relational microsoft jet database engine with a graphical user interface and software-development tools.\r\n",
        "\r\n",
        "                         "
       ]
      },
      {
       "output_type": "stream",
       "stream": "stdout",
       "text": [
        "\n",
        "\r\n",
        "microsoft visual c++ is a c and c++ compiler for windows. the most recent version of the compiler is visual c++ 2013, which is available in both commercial editions and in a free express edition.\r\n",
        "\r\n",
        "the compiler supports the following languages:\r\n",
        "\r\n",
        "\r\n",
        "c: only the c90 standard is supported; there is ...                         "
       ]
      },
      {
       "output_type": "stream",
       "stream": "stdout",
       "text": [
        "\n",
        "\r\n",
        "jquery mobile is a touch-optimized web framework for smartphones and tablets. it provides a unified user interface system across all popular mobile device platforms, built on jquery.                         "
       ]
      },
      {
       "output_type": "stream",
       "stream": "stdout",
       "text": [
        "\n",
        "\r\n",
        "a datetime object in many programming languages describes a date and a time of day.  it can express either an instant in time or a position on a calendar, depending on the context in which it is used and the specific implementation.  this tag can be used for all date and time related issues.                         "
       ]
      },
      {
       "output_type": "stream",
       "stream": "stdout",
       "text": [
        "\n",
        "\r\n",
        "apache tomcat is an open source servlet container and is developed by the apache software foundation (asf).                         "
       ]
      },
      {
       "output_type": "stream",
       "stream": "stdout",
       "text": [
        "\n",
        "\r\n",
        "the document object model - specifically, the xml / html document object model. use this tag on questions regarding the interaction of other languages with such markup via these models. do not use it as shorthand for html, javascript, or sax - use additional tags to denote both language and markup.\r\n",
        "...                         "
       ]
      },
      {
       "output_type": "stream",
       "stream": "stdout",
       "text": [
        "\n",
        "\r\n",
        "symfony2 is an open source php web development framework for php 5.3.3+ focusing on easy and fast development cycles and including state-of-the-art design patterns and programming philosophies.                         "
       ]
      },
      {
       "output_type": "stream",
       "stream": "stdout",
       "text": [
        "\n",
        "\r\n",
        "an object is any entity that can be manipulated by commands in a programming language. an object can be a value, a variable, a function, or a complex data-structure. in object-oriented programming, an object refers to an instance of a class.                         "
       ]
      },
      {
       "output_type": "stream",
       "stream": "stdout",
       "text": [
        "\n",
        "\r\n",
        "use this tag for questions about search algorithms, tools, and technologies.                         "
       ]
      },
      {
       "output_type": "stream",
       "stream": "stdout",
       "text": [
        "\n",
        "\r\n",
        "xslt is a transformation language for xml designed to transform structured documents into other formats (such as xml, html, and plain text). questions should use the xslt-1.0, xslt-2.0, or xslt-3.0 tag as appropriate.                         "
       ]
      },
      {
       "output_type": "stream",
       "stream": "stdout",
       "text": [
        "\n",
        "\r\n",
        "a pointer is a data type that \"points to\" another value stored in memory using its address.                         "
       ]
      },
      {
       "output_type": "stream",
       "stream": "stdout",
       "text": [
        "\n",
        "\r\n",
        "authentication is the process of determining whether someone or something is, in fact, who or what it is declared to be.                         "
       ]
      },
      {
       "output_type": "stream",
       "stream": "stdout",
       "text": [
        "\n",
        "\r\n",
        "generics are a form of parametric polymorphism found in a range of languages, including .net languages and in java.                          "
       ]
      },
      {
       "output_type": "stream",
       "stream": "stdout",
       "text": [
        "\n",
        "\r\n",
        "opengl is a graphics standard and api which is platform independent and available for desktop, workstation and mobile devices. it is designed to be easy to accelerate with dedicated computer hardware, and hence most implementations give greatly improved performance over traditional software ...                         "
       ]
      },
      {
       "output_type": "stream",
       "stream": "stdout",
       "text": [
        "\n",
        "\r\n",
        "nhibernate is a mature, open source object-relational mapper (orm) for the .net framework.\r\n",
        "                         "
       ]
      },
      {
       "output_type": "stream",
       "stream": "stdout",
       "text": [
        "\n",
        "\r\n",
        "for sharepoint-specific questions, please see the sharepoint stack exchange (http://sharepoint.stackexchange.com) site. use this tag for programming questions which may involve sharepoint.\r\n",
        "microsoft sharepoint is a platform and a family of software products developed by microsoft for collaboration ...                         "
       ]
      },
      {
       "output_type": "stream",
       "stream": "stdout",
       "text": [
        "\n",
        "\r\n",
        "gwt (formerly the google web toolkit) is a development toolkit for building and optimizing complex browser-based applications. its goal is to enable productive development of high-performance web applications without requiring the developer to be an expert in browser quirks, xmlhttprequest, and ...                         "
       ]
      },
      {
       "output_type": "stream",
       "stream": "stdout",
       "text": [
        "\n",
        "\r\n",
        "mathematics is the study of quantity, structure, space, and change.  any math questions on this site should be programming related.                         "
       ]
      },
      {
       "output_type": "stream",
       "stream": "stdout",
       "text": [
        "\n",
        "\r\n",
        "a design pattern is a general reusable solution to a commonly occurring problem in software design.                         "
       ]
      },
      {
       "output_type": "stream",
       "stream": "stdout",
       "text": [
        "\n",
        "\r\n",
        "this tag refers to the visual studio line of software development products from microsoft, the 2008 version.                         "
       ]
      },
      {
       "output_type": "stream",
       "stream": "stdout",
       "text": [
        "\n",
        "\r\n",
        "a cache is a mechanism for temporarily storing (caching) documents or data, to reduce access time.                         "
       ]
      },
      {
       "output_type": "stream",
       "stream": "stdout",
       "text": [
        "\n",
        "\r\n",
        "internet information services (iis) is a web server created by microsoft for use with microsoft windows. please mention which version of iis you're running either in your question or by adding a version specific tag.                         "
       ]
      },
      {
       "output_type": "stream",
       "stream": "stdout",
       "text": [
        "\n",
        "\r\n",
        "opencv (open source computer vision) is a cross-platform library of programming functions for real time computer vision. it was officially launched by intel in 1999 and is now supported by itseez.\r\n",
        "\r\n",
        "uses include: human-computer interaction; object identification, segmentation and recognition; face ...                         "
       ]
      },
      {
       "output_type": "stream",
       "stream": "stdout",
       "text": [
        "\n",
        "\r\n",
        "servlets are programs that run on a web or application server and act as a middle layer between a request coming from a web browser or other http client and databases or applications on the http server.                         "
       ]
      },
      {
       "output_type": "stream",
       "stream": "stdout",
       "text": [
        "\n",
        "\r\n",
        "based on the model-view-controller (mvc) pattern, spring mvc helps you build web-based applications that are flexible and decoupled from the underlying view technologies.                         "
       ]
      },
      {
       "output_type": "stream",
       "stream": "stdout",
       "text": [
        "\n",
        "\r\n",
        "do not use this tag! please use a more specific tag, such as [google-search] or [google-calendar].                         "
       ]
      },
      {
       "output_type": "stream",
       "stream": "stdout",
       "text": [
        "\n",
        "\r\n",
        "animation is the rapid display of a sequence of visuals in order to create an illusion of movement or change.                         "
       ]
      },
      {
       "output_type": "stream",
       "stream": "stdout",
       "text": [
        "\n",
        "\r\n",
        "portable document format (pdf) is an open standard for electronic document exchange maintained by the international organization for standardization (iso). questions can be about creating, reading, editing pdfs using different languages.                         "
       ]
      },
      {
       "output_type": "stream",
       "stream": "stdout",
       "text": [
        "\n",
        "\r\n",
        "the html div element infers no special meaning. it is a semantically neutral element that is often used to group content for formatting with styles, and for content which cannot be semantically described with any other element.                         "
       ]
      },
      {
       "output_type": "stream",
       "stream": "stdout",
       "text": [
        "\n",
        "\r\n",
        "grails is a web application framework that uses groovy and java. the framework is oriented around high-productivity application development, and uses common java technologies such as hibernate and spring.                         "
       ]
      },
      {
       "output_type": "stream",
       "stream": "stdout",
       "text": [
        "\n",
        "\r\n",
        "a computer network allows sharing of resources and information among interconnected devices which use a common hierarchy of protocols to communicate.                         "
       ]
      },
      {
       "output_type": "stream",
       "stream": "stdout",
       "text": [
        "\n",
        "\r\n",
        "software testing is any activity aimed at evaluating an attribute or capability of a program or system and determining that it meets its required results.                         "
       ]
      },
      {
       "output_type": "stream",
       "stream": "stdout",
       "text": [
        "\n",
        "\r\n",
        "select is a common keyword used to query data. 'select()' is also a programming function for triggering code based on file handle or other system activity. not to be confused with the html tag ``.                         "
       ]
      },
      {
       "output_type": "stream",
       "stream": "stdout",
       "text": [
        "\n",
        "\r\n",
        "url rewriting module for the apache web server. it is commonly used for so-called \"pretty\" urls, but also provides the power and flexibility to perform various request handling tasks beyond simple substitutions.                         "
       ]
      },
      {
       "output_type": "stream",
       "stream": "stdout",
       "text": [
        "\n",
        "\r\n",
        "haskell is an advanced functional programming language, featuring strong static typing, lazy evaluation, extensive parallelism and concurrency support, and unique abstraction capabilities.                         "
       ]
      },
      {
       "output_type": "stream",
       "stream": "stdout",
       "text": [
        "\n",
        "\r\n",
        "post is one of the http protocol methods; it is used when the client needs to send data to the server, such as when uploading a file, or submitting a completed form.                         "
       ]
      },
      {
       "output_type": "stream",
       "stream": "stdout",
       "text": [
        "\n",
        "\r\n",
        "this tag is for questions about buttons, which are simple elements in graphical user interfaces that take mouse clicks or finger taps (on mobile devices) as input.                         "
       ]
      },
      {
       "output_type": "stream",
       "stream": "stdout",
       "text": [
        "\n",
        "\r\n",
        "a response by a webserver, that asks the user agent to not show the response body, but instead request a different resource.                         "
       ]
      },
      {
       "output_type": "stream",
       "stream": "stdout",
       "text": [
        "\n",
        "\r\n",
        "powershell is a command prompt and a scripting environment designed for automating all windows tasks, including system administration. it is ideally suited to automating tasks and leveraging all the power of the .net libraries.                         "
       ]
      },
      {
       "output_type": "stream",
       "stream": "stdout",
       "text": [
        "\n",
        "\r\n",
        "inheritance is the system in object oriented programming that allows objects to support operations defined by anterior types without having to provide their own definition. it is the major vector for polymorphism in object-oriented programming.                         "
       ]
      },
      {
       "output_type": "stream",
       "stream": "stdout",
       "text": [
        "\n",
        "\r\n",
        "script files containing a series of commands that are executed by the windows command-line interpreter.                         "
       ]
      },
      {
       "output_type": "stream",
       "stream": "stdout",
       "text": [
        "\n",
        "\r\n",
        "core data is apple's object-persistence framework for cocoa and cocoa touch for managing model objects of a mvc (model-view-controller) design.                         "
       ]
      },
      {
       "output_type": "stream",
       "stream": "stdout",
       "text": [
        "\n",
        "\r\n",
        "design in programming is the act of making particular choices about how best to structure a program, to achieve goals of reliability, maintainability, correctness or ease of use.                         "
       ]
      },
      {
       "output_type": "stream",
       "stream": "stdout",
       "text": [
        "\n",
        "\r\n",
        "ubuntu is a free desktop and server operating system based on debian gnu/linux. note that http://askubuntu.com is specifically dedicated to ubuntu questions.                         "
       ]
      },
      {
       "output_type": "stream",
       "stream": "stdout",
       "text": [
        "\n",
        "\r\n",
        "the java persistence architecture api (jpa) is a java specification for accessing, persisting, and managing data between java objects/classes and a relational database. it is part of the ejb 3.0 specification and is the industry standard approach for object to relational mapping (orm).\r\n",
        "\r\n",
        "                         "
       ]
      },
      {
       "output_type": "stream",
       "stream": "stdout",
       "text": [
        "\n",
        "\r\n",
        "drupal is an open source cms framework written in php. consider posting your question directly on http://drupal.stackexchange.com/ instead of using this tag.                         "
       ]
      },
      {
       "output_type": "stream",
       "stream": "stdout",
       "text": [
        "\n",
        "\r\n",
        "the tag mobile should be used to mark questions regarding mobile computing issues. mobile computing is a form of human\u2013computer interaction by which a computer is expected to be transported during normal usage.                          "
       ]
      },
      {
       "output_type": "stream",
       "stream": "stdout",
       "text": [
        "\n",
        "\r\n",
        "this tag is for memory issues in programming.  for installing memory, etc. see serverfault.com or superuser.com                         "
       ]
      },
      {
       "output_type": "stream",
       "stream": "stdout",
       "text": [
        "\n",
        "\r\n",
        "visual studio 2012 is the version of microsoft's visual studio product line which follows visual studio 2010.                         "
       ]
      },
      {
       "output_type": "stream",
       "stream": "stdout",
       "text": [
        "\n",
        "\r\n",
        "web applications are applications that are accessed over the \"web\", which can be over internet, or intranet i.e. an internal network                         "
       ]
      },
      {
       "output_type": "stream",
       "stream": "stdout",
       "text": [
        "\n",
        "\r\n",
        "optimization is the act of improving a method or design. in programming, optimization usually takes the form of increasing the speed of an algorithm, or reducing the resources it requires.                         "
       ]
      },
      {
       "output_type": "stream",
       "stream": "stdout",
       "text": [
        "\n",
        "\r\n",
        "programming audio hardware, and the various audio formats or containers.                         "
       ]
      },
      {
       "output_type": "stream",
       "stream": "stdout",
       "text": [
        "\n",
        "\r\n",
        "gcc is the gnu compiler collection. it's the de facto standard c compiler on linux and supports many other languages and platforms as well.                         "
       ]
      },
      {
       "output_type": "stream",
       "stream": "stdout",
       "text": [
        "\n",
        "\r\n",
        "the layout tag is for questions about the placement, alignment and justification of objects with respect to a containing element.                         "
       ]
      },
      {
       "output_type": "stream",
       "stream": "stdout",
       "text": [
        "\n",
        "\r\n",
        "active record is a pattern that combines domain logic with storage abstraction in single object.                         "
       ]
      },
      {
       "output_type": "stream",
       "stream": "stdout",
       "text": [
        "\n",
        "\r\n",
        "an `iframe` is an html element that creates an \"inline frame\" within a document.                         "
       ]
      },
      {
       "output_type": "stream",
       "stream": "stdout",
       "text": [
        "\n",
        "\r\n",
        "vba (visual basic for applications) is the dominant programming language for microsoft office applications [word, excel, access...].                          "
       ]
      },
      {
       "output_type": "stream",
       "stream": "stdout",
       "text": [
        "\n",
        "\r\n",
        "model\u2013view\u2013controller (mvc) is an architectural pattern used in software engineering. for microsoft asp.net mvc, please use [asp.net-mvc] tag instead. for spring mvc, please use [spring-mvc] tag instead.                         "
       ]
      },
      {
       "output_type": "stream",
       "stream": "stdout",
       "text": [
        "\n",
        "\r\n",
        "comma-separated values (csv) are a list of plain text values delimited by commas, or a file containing one or more lists in that format.                         "
       ]
      },
      {
       "output_type": "stream",
       "stream": "stdout",
       "text": [
        "\n",
        "\r\n",
        "database design is the process of specifying the logical and/or physical parts of a database. the goal of database design is to make a representation of some \"universe of discourse\" - the types of facts, business rules and other requirements that the database is intended to model.                         "
       ]
      },
      {
       "output_type": "stream",
       "stream": "stdout",
       "text": [
        "\n",
        "\r\n",
        "a subroutine available to applications accessing a relational database system.                         "
       ]
      },
      {
       "output_type": "stream",
       "stream": "stdout",
       "text": [
        "\n",
        "\r\n",
        "sencha ext js is a javascript framework for building rich internet applications (rias) that run in web browsers.                         "
       ]
      },
      {
       "output_type": "stream",
       "stream": "stdout",
       "text": [
        "\n",
        "\r\n",
        "a gridview is a control for displaying and manipulating data from a variety of data sources.                         "
       ]
      },
      {
       "output_type": "stream",
       "stream": "stdout",
       "text": [
        "\n",
        "\r\n",
        "backbone.js is a javascript library that provides structure to restful web applications.                         "
       ]
      },
      {
       "output_type": "stream",
       "stream": "stdout",
       "text": [
        "\n",
        "\r\n",
        "the system through which people interact with a computer. ui stands for user interface.\r\n",
        "\r\n",
        "there's now a stack exchange site for ui, interaction and user experience design: ux.stackexchange.com\r\n",
        "                         "
       ]
      },
      {
       "output_type": "stream",
       "stream": "stdout",
       "text": [
        "\n",
        "\r\n",
        "computer data logging is the process of recording events in a computer program, usually with a certain scope, in order to provide an audit trail that can be used to understand the activity of the system and to diagnose problems.                         "
       ]
      },
      {
       "output_type": "stream",
       "stream": "stdout",
       "text": [
        "\n",
        "\r\n",
        "questions with the video tag should refer to creating, editing, and displaying video on electronic devices.                          "
       ]
      },
      {
       "output_type": "stream",
       "stream": "stdout",
       "text": [
        "\n",
        "\r\n",
        "phonegap aka cordova is an open-source, cross-device mobile development platform that allows developers to create mobile applications using standard web technologies like html, javascript, and css that can be deployed to each device, rather than programming in each device's native platform and ...                         "
       ]
      },
      {
       "output_type": "stream",
       "stream": "stdout",
       "text": [
        "\n",
        "\r\n",
        "a join is a general operation in relational algebra for a combining operation on two or more relations in a relational database system. `join` is also keyword of the sql language for performing a join operation.                         "
       ]
      },
      {
       "output_type": "stream",
       "stream": "stdout",
       "text": [
        "\n",
        "\r\n",
        "vim is a free and open-source modal text editor available for most major platforms. it allows high efficiency in many text editing tasks but has a steep learning curve. to learn the basics, try \":help vimtutor\".                         "
       ]
      },
      {
       "output_type": "stream",
       "stream": "stdout",
       "text": [
        "\n",
        "\r\n",
        "anything related to digital image processing, i.e. the theory and the techniques used to extract or manipulate information from digital images.\r\n",
        "                         "
       ]
      },
      {
       "output_type": "stream",
       "stream": "stdout",
       "text": [
        "\n",
        "\r\n",
        "serialization is the process by which an object is converted into a format that can be stored and later retrieved.                         "
       ]
      },
      {
       "output_type": "stream",
       "stream": "stdout",
       "text": [
        "\n",
        "\r\n",
        "questions regarding practical and advanced use of intents, intent extras and pending intents to start an activity, service or to respond to a system or application event/notification via a broadcastreceiver. (refer to info for basic familiarity)                         "
       ]
      },
      {
       "output_type": "stream",
       "stream": "stdout",
       "text": [
        "\n",
        "\r\n",
        "memory management is the act of managing computer memory. the essential requirement of memory management is to provide ways to dynamically allocate portions of memory to programs at their request, and freeing it for reuse when no longer needed. this is critical to the computer system.                         "
       ]
      },
      {
       "output_type": "stream",
       "stream": "stdout",
       "text": [
        "\n",
        "\r\n",
        "razor is a template language used by asp.net web pages and asp.net mvc (since version 3). it supports seamless transitions between html markup and c# or vb code. transitions between markup and code are indicated by the \"@\" sign.                         "
       ]
      },
      {
       "output_type": "stream",
       "stream": "stdout",
       "text": [
        "\n",
        "\r\n",
        "dynamic is a widely used term that, in general, describes a decision made by the program at run-time rather than at compile time.                         "
       ]
      },
      {
       "output_type": "stream",
       "stream": "stdout",
       "text": [
        "\n",
        "\r\n",
        "linq to sql is a component of .net framework version 3.5 that provides a run-time infrastructure for managing relational data as objects.                         "
       ]
      },
      {
       "output_type": "stream",
       "stream": "stdout",
       "text": [
        "\n",
        "\r\n",
        "file upload is the process of sending files to your web server using standard forms.                         "
       ]
      },
      {
       "output_type": "stream",
       "stream": "stdout",
       "text": [
        "\n",
        "\r\n",
        "an http cookie is a piece of data stored by the user's web browser. unless otherwise specified, cookies can be created, read, modified and deleted both by javascript and from server-side through http headers.                         "
       ]
      },
      {
       "output_type": "stream",
       "stream": "stdout",
       "text": [
        "\n",
        "\r\n",
        "boost is a large collection of high-quality libraries intended for use in c++. boost is free, and is often considered a \"second standard library\".                         "
       ]
      },
      {
       "output_type": "stream",
       "stream": "stdout",
       "text": [
        "\n",
        "\r\n",
        "simple object access protocol (soap) is a protocol specification for exchanging structured information in the implementation of web services.                         "
       ]
      },
      {
       "output_type": "stream",
       "stream": "stdout",
       "text": [
        "\n",
        "\r\n",
        "windows azure is a platform as a service (paas) and infrastructure as a service (iaas) cloud computing platform by microsoft. users of the platform can deploy their applications onto cloud hosting benefiting from on-demand service, elastic scale, and a highly managed environment on a pay-as-you-go ...                         "
       ]
      },
      {
       "output_type": "stream",
       "stream": "stdout",
       "text": [
        "\n",
        "\r\n",
        "the system through which people interact with a computer. ui stands for user interface.\r\n",
        "\r\n",
        "there's now a stack exchange site for ui, interaction and user experience design: ux.stackexchange.com\r\n",
        "                         "
       ]
      },
      {
       "output_type": "stream",
       "stream": "stdout",
       "text": [
        "\n",
        "\r\n",
        "curl is a library and command-line tool for transferring data using several protocols such as http, ftp and telnet.                         "
       ]
      },
      {
       "output_type": "stream",
       "stream": "stdout",
       "text": [
        "\n",
        "\r\n",
        "an \"if\" statement is a control structure in many programming languages that changes the execution flow depending on a condition.                         "
       ]
      },
      {
       "output_type": "stream",
       "stream": "stdout",
       "text": [
        "\n",
        "\r\n",
        "a general technique that binds two data/information sources together and maintains them in sync.                         "
       ]
      },
      {
       "output_type": "stream",
       "stream": "stdout",
       "text": [
        "\n",
        "\r\n",
        "the 2010-2011 version of the iphone/ipad/ipod touch/apple tv operating system family, made by apple.                         "
       ]
      },
      {
       "output_type": "stream",
       "stream": "stdout",
       "text": [
        "\n",
        "\r\n",
        "a plug-in (or plugin) is a set of software components that adds specific abilities to a larger software application. if supported, plug-ins enable customizing the functionality of an application.                         "
       ]
      },
      {
       "output_type": "stream",
       "stream": "stdout",
       "text": [
        "\n",
        "\r\n",
        "assembly language (asm) programming questions. also specify the processor or instruction set your question is related to as well as what assembler you are using.\r\n",
        "\r\n",
        "**note**: for .net assemblies, use the tag [.net-assembly] instead.                         "
       ]
      },
      {
       "output_type": "stream",
       "stream": "stdout",
       "text": [
        "\n",
        "\r\n",
        "text is a sequence of characters that is most often used to represent a cohesive piece of information.                         "
       ]
      },
      {
       "output_type": "stream",
       "stream": "stdout",
       "text": [
        "\n",
        "\r\n",
        "canvas is a drawing element introduced to web development with html5. for android or wpf, use android-canvas or wpf-controls.                         "
       ]
      },
      {
       "output_type": "stream",
       "stream": "stdout",
       "text": [
        "\n",
        "\r\n",
        "secure sockets layer (ssl) is a cryptographic protocol that provides communications security over the internet. the more modern version of this protocol is transport layer security (tls), specified by the ietf in rfc 2246.                         "
       ]
      },
      {
       "output_type": "stream",
       "stream": "stdout",
       "text": [
        "\n",
        "\r\n",
        "javaserver faces (jsf) is a model-view-presenter framework typically used to create web applications. version 2.x is a major step ahead compared to jsf 1.x, significantly expanding the standard set of components and component libraries. if you're using jsf 2.x, tag your questions as such so that ...                         "
       ]
      },
      {
       "output_type": "stream",
       "stream": "stdout",
       "text": [
        "\n",
        "\r\n",
        "google maps javascript api version 3 lets you embed the functionality of google maps into your own website.  version 3 provides greatly improved support for mobile devices. ask non-programming and licensing questions in the [maps api google ...                         "
       ]
      },
      {
       "output_type": "stream",
       "stream": "stdout",
       "text": [
        "\n",
        "\r\n",
        "a dynamic-link library (dll) is a module that contains functions and data that can be used by another module (application or dll). it is microsoft's implementation of the shared library concept in the microsoft windows and os/2 operating systems.                          "
       ]
      },
      {
       "output_type": "stream",
       "stream": "stdout",
       "text": [
        "\n",
        "\r\n",
        "netbeans refers to both a platform framework for java desktop applications, and an integrated development environment (ide) for developing with java and other languages.                         "
       ]
      },
      {
       "output_type": "stream",
       "stream": "stdout",
       "text": [
        "\n",
        "\r\n",
        "reflection is the process by which a program can observe and modify its own structure and behavior at runtime.                         "
       ]
      },
      {
       "output_type": "stream",
       "stream": "stdout",
       "text": [
        "\n",
        "\r\n",
        "selenium is a browser automation suite that is generally used as a testing framework for web applications. the selenium ide provides a record/playback tool for authoring tests without learning a test scripting language and a test domain specific language (dsl), to write tests in a number of popular ...                         "
       ]
      },
      {
       "output_type": "stream",
       "stream": "stdout",
       "text": [
        "\n",
        "\r\n",
        "the primary purpose of xpath is to address parts of an xml document. it also provides basic facilities for manipulation of strings, numbers and booleans. xpath uses a compact, non-xml syntax. xpath operates on the abstract, logical structure of an xml document, rather than its surface syntax.                         "
       ]
      },
      {
       "output_type": "stream",
       "stream": "stdout",
       "text": [
        "\n",
        "\r\n",
        "encryption is the process of transforming information (called plaintext) using an algorithm (called cipher) to make it unreadable to anyone except those with special knowledge (often called a key).\r\n",
        "conceptual questions about encryption may get better answers on crypto.stackexchange.com.                         "
       ]
      },
      {
       "output_type": "stream",
       "stream": "stdout",
       "text": [
        "\n",
        "\r\n",
        "heroku (pronounced her-oh-koo) is a cloud platform for ruby, node.js, clojure, python, php and jvm-based (java, scala, etc.) applications that features a git-based deployment strategy, a large number of services offered as add-ons, and a full api.                         "
       ]
      },
      {
       "output_type": "stream",
       "stream": "stdout",
       "text": [
        "\n",
        "\r\n",
        "custom add-ons and plugins for the jquery library. jquery functions and features not included in the standard jquery library.                         "
       ]
      },
      {
       "output_type": "stream",
       "stream": "stdout",
       "text": [
        "\n",
        "\r\n",
        "model view viewmodel (mvvm) is an architectural design pattern that separates the page (the view) from the data (the model) by way of its presentation logic (its viewmodel).                         "
       ]
      },
      {
       "output_type": "stream",
       "stream": "stdout",
       "text": [
        "\n",
        "\r\n",
        "a web browser or internet browser is a software application for retrieving, presenting, and traversing information resources on the world wide web.                         "
       ]
      },
      {
       "output_type": "stream",
       "stream": "stdout",
       "text": [
        "\n",
        "\r\n",
        "jdbc (java database connectivity) is the base api which enables interacting with sql database servers by executing sql statements using the java programming language.                         "
       ]
      },
      {
       "output_type": "stream",
       "stream": "stdout",
       "text": [
        "\n",
        "\r\n",
        "twitter is a microblogging service that lets users post \"tweets\" of up to 140 characters. these can also be posted via its api (http://dev.twitter.com).                         "
       ]
      },
      {
       "output_type": "stream",
       "stream": "stdout",
       "text": [
        "\n",
        "\r\n",
        "a for loop is a control structure used by many programming languages to iterate over a range.  depending on the language this may be over a range of integers, iterators, etc.                         "
       ]
      },
      {
       "output_type": "stream",
       "stream": "stdout",
       "text": [
        "\n",
        "\r\n",
        "asynchronous programming is simply allowing some portions of code to be executed on separate threads. \r\n",
        "\r\n",
        "it makes your applications perform better, be more responsive, and use the resources of the system they are running on to the fullest extent.\r\n",
        "                         "
       ]
      },
      {
       "output_type": "stream",
       "stream": "stdout",
       "text": [
        "\n",
        "\r\n",
        "a series of activities that makes a program available for use (usually in test or production environments)                         "
       ]
      },
      {
       "output_type": "stream",
       "stream": "stdout",
       "text": [
        "\n",
        "\r\n",
        "a data structure is a way of organizing data in a fashion that allows particular properties of that data to be queried and/or updated efficiently.                         "
       ]
      },
      {
       "output_type": "stream",
       "stream": "stdout",
       "text": [
        "\n",
        "\r\n",
        "hadoop is an apache open-source project that provides software for reliable and scaleable distributed computing. the project itself includes a variety of other complimentary additions.                         "
       ]
      },
      {
       "output_type": "stream",
       "stream": "stdout",
       "text": [
        "\n",
        "\r\n",
        "file i/o is input/output that involves the file system.  this could include performing operations on directories and files, such as creation and deletion, reading files, and writing output to files.                         "
       ]
      },
      {
       "output_type": "stream",
       "stream": "stdout",
       "text": [
        "\n",
        "\r\n",
        "creating and handling javascript events inline in html or through a script.                         "
       ]
      },
      {
       "output_type": "stream",
       "stream": "stdout",
       "text": [
        "\n",
        "\r\n",
        "data is any form of information that can be used by a process, service, or application.                         "
       ]
      },
      {
       "output_type": "stream",
       "stream": "stdout",
       "text": [
        "\n",
        "\r\n",
        "gnu emacs is an extensible, customizable, self-documenting text editor written in c with emacs lisp as its extension language.                         "
       ]
      },
      {
       "output_type": "stream",
       "stream": "stdout",
       "text": [
        "\n",
        "\r\n",
        "a service is a long-running executable that performs specific functions and which is designed not to require user intervention.                         "
       ]
      },
      {
       "output_type": "stream",
       "stream": "stdout",
       "text": [
        "\n",
        "\r\n",
        "recursion in computer science is a method of problem solving where the solution to a problem depends on solutions to smaller instances of the same problem.                         "
       ]
      },
      {
       "output_type": "stream",
       "stream": "stdout",
       "text": [
        "\n",
        "\r\n",
        "a method is code that performs a task and is associated with a class or an object.                         "
       ]
      },
      {
       "output_type": "stream",
       "stream": "stdout",
       "text": [
        "\n",
        "\r\n",
        "the world wide web (abbreviated as www or w3, and commonly known as \"the web\" or in general \"the internet\") is a technology that connects various kind of systems with interlinked hypertext documents accessed using networking protocols.                         "
       ]
      },
      {
       "output_type": "stream",
       "stream": "stdout",
       "text": [
        "\n",
        "\r\n",
        "graphics are visual presentations. there are many types of graphics, for example, photographs, drawings, line art, graphs, and charts. computer graphics primarily consist of bitmap and vector graphics.                         "
       ]
      },
      {
       "output_type": "stream",
       "stream": "stdout",
       "text": [
        "\n",
        "\r\n",
        "ios 6 was announced by apple on june 11, 2012 and released on september 19th, 2012. it runs all iphones from 3gs and up.                         "
       ]
      },
      {
       "output_type": "stream",
       "stream": "stdout",
       "text": [
        "\n",
        "\r\n",
        "a user interface control gui element, similar to a list box, which allows the user to choose one value from a list. when a drop-down list is inactive, it displays a single value. when activated, it displays (drops down) a list of values, from which the user may select one.                         "
       ]
      },
      {
       "output_type": "stream",
       "stream": "stdout",
       "text": [
        "\n",
        "\r\n",
        "this tag is for questions about database view or ui / architectural view. see also the following tags: views, sql-view, uiview.                         "
       ]
      },
      {
       "output_type": "stream",
       "stream": "stdout",
       "text": [
        "\n",
        "\r\n",
        "input is usually related to the user input, i.e. to the data that user effectively supply to the running application. in many systems this input is considered to be potentially dangerous and needs to be sanitized.                         "
       ]
      },
      {
       "output_type": "stream",
       "stream": "stdout",
       "text": [
        "\n",
        "\r\n",
        "python 3 is the latest version of the python programming language and was formally released on december 3rd, 2008.                         "
       ]
      },
      {
       "output_type": "stream",
       "stream": "stdout",
       "text": [
        "\n",
        "\r\n",
        "this tag is for questions pertaining to random numbers, whether pseudo random or truly random.                         "
       ]
      },
      {
       "output_type": "stream",
       "stream": "stdout",
       "text": [
        "\n",
        "\r\n",
        "the successor to microsoft windows 7 that focuses on a new interface style for touch-based devices and tablets.                         "
       ]
      },
      {
       "output_type": "stream",
       "stream": "stdout",
       "text": [
        "\n",
        "\r\n",
        "joomla! is a free and open source content management system (cms) for publishing content on the world wide web and intranets and a model\u2013view\u2013controller (mvc) web application framework that can also be used independently.                         "
       ]
      },
      {
       "output_type": "stream",
       "stream": "stdout",
       "text": [
        "\n",
        "\r\n",
        "a checkbox is a graphical user interface element that permits the user to make a binary selection.                         "
       ]
      },
      {
       "output_type": "stream",
       "stream": "stdout",
       "text": [
        "\n",
        "\r\n",
        "unicode is a standard for the encoding, representation and handling of text with the intention of supporting all the characters required for written text incorporating all writing systems, technical symbols and punctuation.                         "
       ]
      },
      {
       "output_type": "stream",
       "stream": "stdout",
       "text": [
        "\n",
        "\r\n",
        "version control is the management of changes to documents, programs, and other information stored as computer files.                         "
       ]
      },
      {
       "output_type": "stream",
       "stream": "stdout",
       "text": [
        "\n",
        "\r\n",
        "encoding is a set of predefined rules to reversibly transform a piece of information in a certain representation into a completely different representation. the other way round is called decoding.                         "
       ]
      },
      {
       "output_type": "stream",
       "stream": "stdout",
       "text": [
        "\n",
        "\r\n",
        "apache ant (formerly jakarta ant) is a declarative, xml-based build tool for java projects.  it provides a rich set of standard tasks for performing most common build operations, such as compilation with javac, building archives and running tests.  ant's functionality can be extended through custom ...                         "
       ]
      },
      {
       "output_type": "stream",
       "stream": "stdout",
       "text": [
        "\n",
        "\r\n",
        "binding provides a simple and consistent way for applications to present and interact with data.                         "
       ]
      },
      {
       "output_type": "stream",
       "stream": "stdout",
       "text": [
        "\n",
        "\r\n",
        "uiview is an ios class which is used to display all user interface elements. all ui elements are either subclasses of uiview or are contained within a uiview.                         "
       ]
      },
      {
       "output_type": "stream",
       "stream": "stdout",
       "text": [
        "\n",
        "\r\n",
        "collections api's provide developers with a set of classes and interfaces that makes it easier to handle collections of objects.                         "
       ]
      },
      {
       "output_type": "stream",
       "stream": "stdout",
       "text": [
        "\n",
        "\r\n",
        "asp.net mvc 2 is the second major version of the asp.net mvc platform, it has since been outdated by asp.net mvc 3.                         "
       ]
      },
      {
       "output_type": "stream",
       "stream": "stdout",
       "text": [
        "\n",
        "\r\n",
        "a dictionary in computer science is a data structure that maps keys to values such that given a key its corresponding value can be efficiently retrieved.\r\n",
        "                         "
       ]
      },
      {
       "output_type": "stream",
       "stream": "stdout",
       "text": [
        "\n",
        "\r\n",
        "the uitableviewcell class defines the attributes and behavior of the cells that appear in ios uitableview objects.\r\n",
        "\r\n",
        "                         "
       ]
      },
      {
       "output_type": "stream",
       "stream": "stdout",
       "text": [
        "\n",
        "\r\n",
        "blackberry is a line of mobile e-mail and smartphone devices developed and designed since 1999 by the canadian company of the same name (previously called research in motion (rim)). (consider adding tag [tag:blackberry-10] for bb10 specific questions)                         "
       ]
      },
      {
       "output_type": "stream",
       "stream": "stdout",
       "text": [
        "\n",
        "\r\n",
        "knockout.js is an open source javascript library for dynamic html uis using the model-view-view model (mvvm) pattern.                         "
       ]
      },
      {
       "output_type": "stream",
       "stream": "stdout",
       "text": [
        "\n",
        "\r\n",
        "a hash function is any well-defined procedure or mathematical function that converts a large amount of data into a small datum, usually a single integer.                         "
       ]
      },
      {
       "output_type": "stream",
       "stream": "stdout",
       "text": [
        "\n",
        "\r\n",
        "printing is a process for reproducing text and image, typically with ink on paper using a printer.                         "
       ]
      },
      {
       "output_type": "stream",
       "stream": "stdout",
       "text": [
        "\n",
        "\r\n",
        "a login or logon (also called logging in or on and signing in or on) is the process by which individual access to a computer system is controlled by identification of the user using credentials provided by the user.                         "
       ]
      },
      {
       "output_type": "stream",
       "stream": "stdout",
       "text": [
        "\n",
        "\r\n",
        "numpy is a scientific and numerical computing extension to the python programming language.                          "
       ]
      },
      {
       "output_type": "stream",
       "stream": "stdout",
       "text": [
        "\n",
        "\r\n",
        "a one-dimensional array data structure. use 'vector-graphics' for graphic display.                         "
       ]
      },
      {
       "output_type": "stream",
       "stream": "stdout",
       "text": [
        "\n",
        "\r\n",
        "a command line is a string given to a command interpreter that tells it actions to take, such as running programs or copying files. the interpreter processes command lines with escapes and substitutions.                           "
       ]
      },
      {
       "output_type": "stream",
       "stream": "stdout",
       "text": [
        "\n",
        "\r\n",
        "phonegap aka cordova is an open-source, cross-device mobile development platform that allows developers to create mobile applications using standard web technologies like html, javascript, and css that can be deployed to each device, rather than programming in each device's native platform and ...                         "
       ]
      },
      {
       "output_type": "stream",
       "stream": "stdout",
       "text": [
        "\n",
        "\r\n",
        "measuring the time it takes to perform an operation. also, questions related to obtaining the current time, calculating on times, formatting and parsing times, etc.                         "
       ]
      },
      {
       "output_type": "stream",
       "stream": "stdout",
       "text": [
        "\n",
        "\r\n",
        "sql server reporting services (ssrs) is server-based report generator from microsoft. it provides a full range of ready-to-use tools and services to help you create, deploy, and manage reports for your organization, as well as programming features that enable you to extend and customize your ...                         "
       ]
      },
      {
       "output_type": "stream",
       "stream": "stdout",
       "text": [
        "\n",
        "\r\n",
        "a graph can refer to a graphic (such as a chart or diagram) showing or displaying the relationship between two or more variables used, for instance, in visualising scientific data.\r\n",
        "                         "
       ]
      },
      {
       "output_type": "stream",
       "stream": "stdout",
       "text": [
        "\n",
        "\r\n",
        "in computer science, the syntax of a programming language is the set of rules that define the combinations of symbols that are considered to be correctly structured programs in that language.                          "
       ]
      },
      {
       "output_type": "stream",
       "stream": "stdout",
       "text": [
        "\n",
        "\r\n",
        "subset of the opengl 3d graphics api designed for embedded devices such as mobile phones.                         "
       ]
      },
      {
       "output_type": "stream",
       "stream": "stdout",
       "text": [
        "\n",
        "\r\n",
        "types, and type systems, are used to enforce levels of abstraction in programs.                         "
       ]
      },
      {
       "output_type": "stream",
       "stream": "stdout",
       "text": [
        "\n",
        "\r\n",
        "object-relational mapping (orm) is a technique for mapping between object-oriented systems and relational databases.                         "
       ]
      },
      {
       "output_type": "stream",
       "stream": "stdout",
       "text": [
        "\n",
        "\r\n",
        "the centerpiece of the django object-relational mapping scheme is the model.                         "
       ]
      },
      {
       "output_type": "stream",
       "stream": "stdout",
       "text": [
        "\n",
        "\r\n",
        "primefaces is a jsf component library that ships with a large set of rich components which utilizes jquery and jquery ui under the covers. it supports the jquery ui themeroller css framework. there is also a specific set of rich components for mobile devices.                         "
       ]
      },
      {
       "output_type": "stream",
       "stream": "stdout",
       "text": [
        "\n",
        "\r\n",
        "architecture encompasses the process, artifacts and high-level structure of a solution.                         "
       ]
      },
      {
       "output_type": "stream",
       "stream": "stdout",
       "text": [
        "\n",
        "\r\n",
        "in mathematics, a matrix (plural matrices) is a rectangular array of numbers, symbols, or expressions, arranged in rows and columns. the individual items in a matrix are called its elements or entries.                         "
       ]
      },
      {
       "output_type": "stream",
       "stream": "stdout",
       "text": [
        "\n",
        "\r\n",
        "a compiler is a program which translates one language into another. the tag [compiler] should be applied to questions concerning the programming of compilers or for questions about the detailed inner workings of compilers. don't use [compiler] for questions about options and settings for a ...                         "
       ]
      },
      {
       "output_type": "stream",
       "stream": "stdout",
       "text": [
        "\n",
        "\r\n",
        "github is a hosting service for software development projects that use git for version control.                         "
       ]
      },
      {
       "output_type": "stream",
       "stream": "stdout",
       "text": [
        "\n",
        "\r\n",
        "apache solr is an open source search server based on the lucene java search library.                         "
       ]
      },
      {
       "output_type": "stream",
       "stream": "stdout",
       "text": [
        "\n",
        "\r\n",
        "a property, in some object-oriented programming languages, is a special sort of class member, intermediate between a field (or data member) and a method. properties are read and written like fields, but property reads and writes are (usually) translated to get and set method calls.                          "
       ]
      },
      {
       "output_type": "stream",
       "stream": "stdout",
       "text": [
        "\n",
        "\r\n",
        "windows phone 8 is a version of windows phone (oct 29, 2012 - present), succeeding windows phone 7.5 and includes many new featuresets.                         "
       ]
      },
      {
       "output_type": "stream",
       "stream": "stdout",
       "text": [
        "\n",
        "\r\n",
        "utf-8 (unicode transformation format, 8 bits) is a character encoding that describes each unicode code point using a byte sequence of one to four bytes.  it is backwards-compatible with ascii while still supporting representation of all unicode code points.                         "
       ]
      },
      {
       "output_type": "stream",
       "stream": "stdout",
       "text": [
        "\n",
        "\r\n",
        "actionscript is a scripting language used for rias, mobiles applications, web applications,  etc.                         "
       ]
      },
      {
       "output_type": "stream",
       "stream": "stdout",
       "text": [
        "\n",
        "\r\n",
        "configuration is the process of specifying the settings used for a system or application                         "
       ]
      },
      {
       "output_type": "stream",
       "stream": "stdout",
       "text": [
        "\n",
        "\r\n",
        "transmission control protocol (tcp) is a transport layer protocol that provides a connection-oriented data stream service with guaranteed, in-order delivery.                         "
       ]
      },
      {
       "output_type": "stream",
       "stream": "stdout",
       "text": [
        "\n",
        "\r\n",
        "in computer science, concurrency is a property of systems in which multiple computations can be performed in overlapping time periods. the computations may be executing on multiple cores in the same chip, preemptively time-shared threads on the same processor, or executed on physically separated ...                         "
       ]
      },
      {
       "output_type": "stream",
       "stream": "stdout",
       "text": [
        "\n",
        "\r\n",
        "a map is a data structure relating keys to values, or a higher order function that applies a function to a list. for questions about geography, use [maps] instead.                         "
       ]
      },
      {
       "output_type": "stream",
       "stream": "stdout",
       "text": [
        "\n",
        "\r\n",
        "the datagridview is a windows forms control found in the .net framework starting at version 2.0. it is used to display and edit tabular data from many different kinds of data sources.                         "
       ]
      },
      {
       "output_type": "stream",
       "stream": "stdout",
       "text": [
        "\n",
        "\r\n",
        "a graphical user interface element that presents a tabular view of data.                         "
       ]
      },
      {
       "output_type": "stream",
       "stream": "stdout",
       "text": [
        "\n",
        "\r\n",
        "a macro is a rule or pattern that specifies how a certain input sequence (often a sequence of characters) should be mapped to an output sequence (also often a sequence of characters) according to a defined procedure. the mapping process that instantiates (transforms) a macro into a specific output ...                         "
       ]
      },
      {
       "output_type": "stream",
       "stream": "stdout",
       "text": [
        "\n",
        "\r\n",
        "groovy is an object-oriented programming language for the java platform. it is a dynamic language with features similar to those of python, ruby, perl, and smalltalk. it can be used as a scripting language for the java platform.                         "
       ]
      },
      {
       "output_type": "stream",
       "stream": "stdout",
       "text": [
        "\n",
        "\r\n",
        "multidimensional-arrays can be described as \"arrays of arrays\". multidimensional-arrays are often used to put values in a table format (e.g. rows and columns).                         "
       ]
      },
      {
       "output_type": "stream",
       "stream": "stdout",
       "text": [
        "\n",
        "\r\n",
        "svg(scalable vector graphics), is an xml-based two-dimensional vector graphics format.                         "
       ]
      },
      {
       "output_type": "stream",
       "stream": "stdout",
       "text": [
        "\n",
        "\r\n",
        "a subclass of adapterview which shows items in a vertically scrolling list.                         "
       ]
      },
      {
       "output_type": "stream",
       "stream": "stdout",
       "text": [
        "\n",
        "\r\n",
        "a memory leak occurs when a program fails to release memory that it has allocated but is no longer using and is not recoverable.                         "
       ]
      },
      {
       "output_type": "stream",
       "stream": "stdout",
       "text": [
        "\n",
        "\r\n",
        "yii is a high-performance, mvc architecture based, open source php framework best for developing web 2.0 applications.                         "
       ]
      },
      {
       "output_type": "stream",
       "stream": "stdout",
       "text": [
        "\n",
        "\r\n",
        "the uiviewcontroller class manages the views in ios apps and mediates the interaction between an app's views, its underlying model objects, and the overall workflow.                         "
       ]
      },
      {
       "output_type": "stream",
       "stream": "stdout",
       "text": [
        "\n",
        "\r\n",
        "a menu is a user interface mechanism that provides the user a means to view and execute application operations.                         "
       ]
      },
      {
       "output_type": "stream",
       "stream": "stdout",
       "text": [
        "\n",
        "\r\n",
        "an interface refers to the point of interaction between components. interfaces are applicable at both the hardware and software level. \r\n",
        "\r\n",
        "in general, an interface exposes a contract without exposing the underlying implementation details. in object oriented programming, interfaces define abstract ...                         "
       ]
      },
      {
       "output_type": "stream",
       "stream": "stdout",
       "text": [
        "\n",
        "\r\n",
        "parameters are a type of variable used in a subroutine to refer to the data provided as input to the subroutine.                         "
       ]
      },
      {
       "output_type": "stream",
       "stream": "stdout",
       "text": [
        "\n",
        "\r\n",
        "amazon web services (aws) is a collection of commercial services centered around virtualized, commodity and clustered computing, networking, database and storage, as well as supporting tools that are offered through infrastructure as a service                         "
       ]
      },
      {
       "output_type": "stream",
       "stream": "stdout",
       "text": [
        "\n",
        "\r\n",
        "resizable-array implementation of the list interface in java.                         "
       ]
      },
      {
       "output_type": "stream",
       "stream": "stdout",
       "text": [
        "\n",
        "\r\n",
        "vbscript (visual basic scripting edition) is an interpreted scripting language developed by microsoft that is modeled on visual basic.                         "
       ]
      },
      {
       "output_type": "stream",
       "stream": "stdout",
       "text": [
        "\n",
        "\r\n",
        "exception handling is a programming language construct or computer hardware mechanism designed to handle the occurrence of exceptions, special conditions that change the normal flow of program execution.                         "
       ]
      },
      {
       "output_type": "stream",
       "stream": "stdout",
       "text": [
        "\n",
        "\r\n",
        "pdo (php data objects) is a database abstraction layer for php.                         "
       ]
      },
      {
       "output_type": "stream",
       "stream": "stdout",
       "text": [
        "\n",
        "\r\n",
        "active server pages (asp), also known as classic asp or asp classic, was microsoft's first server-side script-engine for dynamically-generated web pages. the introduction of asp.net led to use of the term classic asp for the original technology.                          "
       ]
      },
      {
       "output_type": "stream",
       "stream": "stdout",
       "text": [
        "\n",
        "\r\n",
        "activity has multiple meanings.  for android activities, use the more specific [android-activity] tag.  for windows workflow foundation activities, use the more specific [workflow-activity] tag.                         "
       ]
      },
      {
       "output_type": "stream",
       "stream": "stdout",
       "text": [
        "\n",
        "\r\n",
        "component object model (com) is a component technology from microsoft, featuring remoting, language independence and interface-based programming.\r\n",
        "for questions about the com serial port, you should use the [serial-port] tag instead.                         "
       ]
      },
      {
       "output_type": "stream",
       "stream": "stdout",
       "text": [
        "\n",
        "\r\n",
        "paypal provides apis to process payments, manage invoices, accounts, and more. developer resources to use paypal apis are available at https://developer.paypal.com .                         "
       ]
      },
      {
       "output_type": "stream",
       "stream": "stdout",
       "text": [
        "\n",
        "\r\n",
        "a tag for ado.net entity framework 4.x, itself an object-relational mapping for the .net framework.                         "
       ]
      },
      {
       "output_type": "stream",
       "stream": "stdout",
       "text": [
        "\n",
        "\r\n",
        "rspec is a behaviour-driven development (bdd) framework for the ruby language.                         "
       ]
      },
      {
       "output_type": "stream",
       "stream": "stdout",
       "text": [
        "\n",
        "\r\n",
        "ember.js is an advanced html5 mvc application framework written in javascript and distributed under an open source license.\r\n",
        "                         "
       ]
      },
      {
       "output_type": "stream",
       "stream": "stdout",
       "text": [
        "\n",
        "\r\n",
        "jqgrid (a jquery plugin) is a ajax-enabled javascript control that provides solution for representing tabular data on the web. since the grid is client-side solution and loading data dynamically through ajax callbacks, it can be integrated with any server side technology.\r\n",
        "                         "
       ]
      },
      {
       "output_type": "stream",
       "stream": "stdout",
       "text": [
        "\n",
        "\r\n",
        "oauth (open authorization) is a specification for client applications to access protected resources on behalf of a user. it was developed as an alternative to users handing out their login credentials to third-party applications.                         "
       ]
      },
      {
       "output_type": "stream",
       "stream": "stdout",
       "text": [
        "\n",
        "\r\n",
        "this tag is dedicated to questions about extension development for the google chrome web browser.                         "
       ]
      },
      {
       "output_type": "stream",
       "stream": "stdout",
       "text": [
        "\n",
        "\r\n",
        "coldfusion is a server-side rapid application development platform, implementing the dynamic general purpose cfml programming language.                         "
       ]
      },
      {
       "output_type": "stream",
       "stream": "stdout",
       "text": [
        "\n",
        "\r\n",
        "the standard template library, or stl, is a c++ library of generic containers, iterators, algorithms, and function objects.\r\n",
        "\r\n",
        "when c++ was standardised, large parts of the stl were adopted into the standard library, and these parts in the standard library are also sometimes referred to collectively ...                         "
       ]
      },
      {
       "output_type": "stream",
       "stream": "stdout",
       "text": [
        "\n",
        "\r\n",
        "a font is an electronic data file containing a set of glyphs, characters, or symbols such as dingbats. although the term font first referred to a set of metal type sorts in one style and size, since the 1990s most fonts are digital, used on computers.                         "
       ]
      },
      {
       "output_type": "stream",
       "stream": "stdout",
       "text": [
        "\n",
        "\r\n",
        "apache struts 2 is an elegant, extensible framework based on  model\u2013view\u2013controller (mvc) architecture for creating enterprise-ready java web applications.\r\n",
        "                         "
       ]
      },
      {
       "output_type": "stream",
       "stream": "stdout",
       "text": [
        "\n",
        "\r\n",
        "a url rewrite engine is software that modifies a web url's appearance (url rewriting). rewritten urls are used to provide shorter and more relevant-looking links to web pages, to route users from obsolete urls to replacements, or to simplify the format of the url for human readability. the technique ...                         "
       ]
      },
      {
       "output_type": "stream",
       "stream": "stdout",
       "text": [
        "\n",
        "\r\n",
        "this tag is about operating system processes. a process is an instance of a computer program being executed. many operating systems let multiple processes run concurrently. the operating system takes care of isolating processes one from another in order to provide data integrity and also provides ...                         "
       ]
      },
      {
       "output_type": "stream",
       "stream": "stdout",
       "text": [
        "\n",
        "\r\n",
        "use this tag for questions about representing or manipulating colors in a programming language.                         "
       ]
      },
      {
       "output_type": "stream",
       "stream": "stdout",
       "text": [
        "\n",
        "\r\n",
        "the process of converting source code files into standalone software artifact(s) that can be run on a computer                         "
       ]
      },
      {
       "output_type": "stream",
       "stream": "stdout",
       "text": [
        "\n",
        "\r\n",
        "team foundation server is a complete application lifecycle management (alm) suite, offered by microsoft.                         "
       ]
      },
      {
       "output_type": "stream",
       "stream": "stdout",
       "text": [
        "\n",
        "\r\n",
        "nginx (\"engine x\") is a lightweight, high-performance http server, reverse proxy and mail proxy, released under a bsd-like license.                         "
       ]
      },
      {
       "output_type": "stream",
       "stream": "stdout",
       "text": [
        "\n",
        "\r\n",
        "popular unit testing framework for java and scala. the latest version, junit 4, supports rich annotation-based and parameterized tests. consider using in conjunction with the java or scala tag to indicate your use case.                         "
       ]
      },
      {
       "output_type": "stream",
       "stream": "stdout",
       "text": [
        "\n",
        "\r\n",
        "windows internet explorer 8 is a web browser developed by microsoft, released on 19 march 2009 for windows xp, windows server 2003, windows vista, windows server 2008, and windows 7.                         "
       ]
      },
      {
       "output_type": "stream",
       "stream": "stdout",
       "text": [
        "\n",
        "\r\n",
        "part of the mvc pattern, the model manages the behavior and data of the application.                          "
       ]
      },
      {
       "output_type": "stream",
       "stream": "stdout",
       "text": [
        "\n",
        "\r\n",
        "programming language constructs designed to handle errors signaled by error codes, exceptions or other language specific means.                         "
       ]
      },
      {
       "output_type": "stream",
       "stream": "stdout",
       "text": [
        "\n",
        "\r\n",
        "jar file (or java archive) aggregates many files into one. jar files build on the zip file format.                         "
       ]
      },
      {
       "output_type": "stream",
       "stream": "stdout",
       "text": [
        "\n",
        "\r\n",
        "hypertext transfer protocol secure (https) is a combination of the hypertext transfer protocol with the ssl/tls protocol to provide encrypted communication and secure identification of a network web server.                         "
       ]
      },
      {
       "output_type": "stream",
       "stream": "stdout",
       "text": [
        "\n",
        "\r\n",
        "fragments represent reusable behaviors or portions of user interface in an android app.                          "
       ]
      },
      {
       "output_type": "stream",
       "stream": "stdout",
       "text": [
        "\n",
        "\r\n",
        "casting is a process where an object type is explicitly converted into another type if the conversion is allowed.                         "
       ]
      },
      {
       "output_type": "stream",
       "stream": "stdout",
       "text": [
        "\n",
        "\r\n",
        "pl/sql (procedural language/structured query language) is oracle corporation's procedural language extension for sql. questions about pl/sql should probably be tagged \"oracle\" as well.                         "
       ]
      },
      {
       "output_type": "stream",
       "stream": "stdout",
       "text": [
        "\n",
        "\r\n",
        "a keyword in the c family of languages for declaring a structured composite data type.                         "
       ]
      },
      {
       "output_type": "stream",
       "stream": "stdout",
       "text": [
        "\n",
        "\r\n",
        "secure shell - a network protocol for exchanging data throughout secure channel with most common uses of remote command execution (remote shell/console) and file transfer.                         "
       ]
      },
      {
       "output_type": "stream",
       "stream": "stdout",
       "text": [
        "\n",
        "\r\n",
        "a software development kit (sdk) is a set of development tools that allows for the creation of software for a certain hardware platform, development environment, or software package. a sdk may consist of a combination of apis, an ide or other development tools, and frameworks.                         "
       ]
      },
      {
       "output_type": "stream",
       "stream": "stdout",
       "text": [
        "\n",
        "\r\n",
        "scripting is a form of programming generally characterized by low formality, loose typing, and no requirement for explicit compilation. there are numerous scripting languages, and these are used in a wide variety of scenarios - command-line applications, guis, server-side applications, extension ...                         "
       ]
      },
      {
       "output_type": "stream",
       "stream": "stdout",
       "text": [
        "\n",
        "\r\n",
        "refers generally to the process of moving data from an external source into one's platform, program, or data set.                         "
       ]
      },
      {
       "output_type": "stream",
       "stream": "stdout",
       "text": [
        "\n",
        "\r\n",
        "timer is a control that has the functionality to trigger a user defined action at regular intervals as configured by the user.                          "
       ]
      },
      {
       "output_type": "stream",
       "stream": "stdout",
       "text": [
        "\n",
        "\r\n",
        "a special type of subroutine called at the creation of an object.                         "
       ]
      },
      {
       "output_type": "stream",
       "stream": "stdout",
       "text": [
        "\n",
        "\r\n",
        "character encoding refers to the way characters are represented as a series of bytes                         "
       ]
      },
      {
       "output_type": "stream",
       "stream": "stdout",
       "text": [
        "\n",
        "\r\n",
        "a reference is a value that enables a program to indirectly access a particular datum, such as a variable or a record, in the computer's memory or in some other storage device.                          "
       ]
      },
      {
       "output_type": "stream",
       "stream": "stdout",
       "text": [
        "\n",
        "\r\n",
        "use this tag for programming questions that are independent of any particular programming language.                         "
       ]
      },
      {
       "output_type": "stream",
       "stream": "stdout",
       "text": [
        "\n",
        "\r\n",
        "background typically refers to the rendering behind a container element's contents - usually on a web page, windows form or other ui presentation medium.                         "
       ]
      },
      {
       "output_type": "stream",
       "stream": "stdout",
       "text": [
        "\n",
        "\r\n",
        "a usercontrol is a separate, reusable input control that allows a user to interact with an application. user controls can be buttons, checkboxes, input text boxes, mice, keyboards, etc.                         "
       ]
      },
      {
       "output_type": "stream",
       "stream": "stdout",
       "text": [
        "\n",
        "\r\n",
        "jboss application server (jboss as) is a free software/open-source java ee-based, cross-platform application server.                         "
       ]
      },
      {
       "output_type": "stream",
       "stream": "stdout",
       "text": [
        "\n",
        "\r\n",
        "upload refers to the sending of data from a local system to a remote system such as a server or another client with the intent that the remote system should store a copy of the data being transferred, or the initiation of such a process                         "
       ]
      },
      {
       "output_type": "stream",
       "stream": "stdout",
       "text": [
        "\n",
        "\r\n",
        "a class used to display web content from within an ios application.                         "
       ]
      },
      {
       "output_type": "stream",
       "stream": "stdout",
       "text": [
        "\n",
        "\r\n",
        "elements in graphical user interfaces that host html content. for android, please look at the android-webview tag. for ios, look under uiwebview.                         "
       ]
      },
      {
       "output_type": "stream",
       "stream": "stdout",
       "text": [
        "\n",
        "\r\n",
        "autocomplete is a ui feature provided by applications, where the program predicts a word or phrase that the user wants to type without the user actually typing it completely.                         "
       ]
      },
      {
       "output_type": "stream",
       "stream": "stdout",
       "text": [
        "\n",
        "\r\n",
        "replacing is the action of searching a string for a sub-string and replacing it with a different string.                          "
       ]
      },
      {
       "output_type": "stream",
       "stream": "stdout",
       "text": [
        "\n",
        "\r\n",
        "web forms is a part of the asp.net web application framework. it is one of the different programming models you can use to create asp.net web applications. web forms are pages that your users request through their browser and that form the user interface (ui) that give your web applications their ...                         "
       ]
      },
      {
       "output_type": "stream",
       "stream": "stdout",
       "text": [
        "\n",
        "\r\n",
        "combobox allows to select one option out of several (similar to a listbox), however, only the selected one is displayed by default (in the interest of screen real estate).                          "
       ]
      },
      {
       "output_type": "stream",
       "stream": "stdout",
       "text": [
        "\n",
        "\r\n",
        "static is a term used in some programming languages to define a function or data storage area (field) that is not bound to any specific object instance.                           "
       ]
      },
      {
       "output_type": "stream",
       "stream": "stdout",
       "text": [
        "\n",
        "\r\n",
        "an xml parser goes through text documents containing xml trees and allows the information in the hierarchy to be used. use this tag for problems implementing an xml parser or generated by the use of an existing parser in a given language.                         "
       ]
      },
      {
       "output_type": "stream",
       "stream": "stdout",
       "text": [
        "\n",
        "\r\n",
        "a hyperlink is a reference to a document (or a section) that can be followed for retrieval using a navigation system that allows selecting emphasized content within an originating document.                         "
       ]
      },
      {
       "output_type": "stream",
       "stream": "stdout",
       "text": [
        "\n",
        "\r\n",
        "a program or routine that blocks access to data that meet a particular criterion. an example would be a \"web filter\" that screens out adult websites. do not use this tag for java servlet filters. use [servlet-filters] instead.                         "
       ]
      },
      {
       "output_type": "stream",
       "stream": "stdout",
       "text": [
        "\n",
        "\r\n",
        "foreach is a looping construct that executes a given piece of code for each element in a list/collection/array. in contrast to a for loop, the foreach loop doesn't require the coder to maintain a counter variable to avoid off-by-one (fencepost) bugs.                         "
       ]
      },
      {
       "output_type": "stream",
       "stream": "stdout",
       "text": [
        "\n",
        "\r\n",
        "clojure is a modern lisp dialect for the java virtual machine (with versions for the clr and javascript).                          "
       ]
      },
      {
       "output_type": "stream",
       "stream": "stdout",
       "text": [
        "\n",
        "\r\n",
        "design pattern to reduce coupling between components, by dynamically injecting into a software component dependencies that it needs to function.                         "
       ]
      },
      {
       "output_type": "stream",
       "stream": "stdout",
       "text": [
        "\n",
        "\r\n",
        "a sheet of information in the form of a table, graph, or diagram.                         "
       ]
      },
      {
       "output_type": "stream",
       "stream": "stdout",
       "text": [
        "\n",
        "\r\n",
        "sed (stream editor) is a command line editor for posix environment. sed processes one or more files according to an editing script and writes the results to standard output. created at bell labs, it has been around since the mid-70s.                         "
       ]
      },
      {
       "output_type": "stream",
       "stream": "stdout",
       "text": [
        "\n",
        "\r\n",
        "a logical subdivision of a larger, more complex system.                         "
       ]
      },
      {
       "output_type": "stream",
       "stream": "stdout",
       "text": [
        "\n",
        "\r\n",
        "express is a minimalistic web application framework for node.js that features regex-based routing, sessions, and support for multiple view engines.                         "
       ]
      },
      {
       "output_type": "stream",
       "stream": "stdout",
       "text": [
        "\n",
        "\r\n",
        "a framework is an existing library or set of libraries to help you complete a common task faster and more easily. in most cases the tag for a specific framework should be used instead of this tag.                         "
       ]
      },
      {
       "output_type": "stream",
       "stream": "stdout",
       "text": [
        "\n",
        "\r\n",
        "the microsoft foundation class library (mfc) is a c++ framework for windows gui programming.                           "
       ]
      },
      {
       "output_type": "stream",
       "stream": "stdout",
       "text": [
        "\n",
        "\r\n",
        "the more general term pixmap refers to a map of pixels, where each one may store more than two colors, thus using more than one bit per pixel. often bitmap is used for this as well. in some contexts, the term bitmap implies one bit per pixel, while pixmap is used for images with multiple bits per ...                         "
       ]
      },
      {
       "output_type": "stream",
       "stream": "stdout",
       "text": [
        "\n",
        "\r\n",
        "a user interface pattern that allows for the display of multiple pages or elements with a navigation reference above, below, or to the side of the content.  on clicking the navigation reference, one element is made visible while others are toggled off.  often, the navigation reference is color-coded ...                         "
       ]
      },
      {
       "output_type": "stream",
       "stream": "stdout",
       "text": [
        "\n",
        "\r\n",
        "triggers are rules, that when evaluate to true perform one or more actions.                         "
       ]
      },
      {
       "output_type": "stream",
       "stream": "stdout",
       "text": [
        "\n",
        "\r\n",
        "insert is an action to add information to a larger container that the information should reside within. some examples include inserting a file into a file system, inserting a record into a database, or inserting an item into a list.                         "
       ]
      },
      {
       "output_type": "stream",
       "stream": "stdout",
       "text": [
        "\n",
        "\r\n",
        "localization, also known as l10n, is the process of adapting internationalized software for a specific region or language by adding locale-specific components and translating text.                         "
       ]
      },
      {
       "output_type": "stream",
       "stream": "stdout",
       "text": [
        "\n",
        "\r\n",
        "sqlite is a software library that implements a self-contained, serverless, zero-configuration, transactional sql database engine.                          "
       ]
      },
      {
       "output_type": "stream",
       "stream": "stdout",
       "text": [
        "\n",
        "\r\n",
        "3d computer graphics are graphics that use a three-dimensional representation of geometric data stored in the computer for the purposes of performing calculations and rendering 2d images.                         "
       ]
      },
      {
       "output_type": "stream",
       "stream": "stdout",
       "text": [
        "\n",
        "\r\n",
        "awk is a pattern matching language that can be used both in shell scripting and\r\n",
        "for standalone programs.                         "
       ]
      },
      {
       "output_type": "stream",
       "stream": "stdout",
       "text": [
        "\n",
        "\r\n",
        "selectors can be used in jquery to match a set of elements in a document. most css selectors are implemented, as well as a set of custom ones.                         "
       ]
      },
      {
       "output_type": "stream",
       "stream": "stdout",
       "text": [
        "\n",
        "\r\n",
        "a textbox is a graphical user interface element which allows for simple input text, usually only a single line of text.                         "
       ]
      },
      {
       "output_type": "stream",
       "stream": "stdout",
       "text": [
        "\n",
        "\r\n",
        "visual basic 6.0 (vb6) is the third generation event-driven programming language and integrated development environment (ide) from microsoft for its com programming model.                         "
       ]
      },
      {
       "output_type": "stream",
       "stream": "stdout",
       "text": [
        "\n",
        "\r\n",
        "dojo toolkit is an open source modular javascript library designed to ease the rapid development of cross-platform, javascript/ajax-based applications and web sites. it is dual-licensed under the bsd license and the academic free license.\r\n",
        "\r\n",
        "                         "
       ]
      },
      {
       "output_type": "stream",
       "stream": "stdout",
       "text": [
        "\n",
        "\r\n",
        "adobe integrated runtime (air), also known as adobe air, is a cross-platform runtime environment developed by adobe systems for building applications targeting desktop, mobile and television systems using adobe flash, adobe flex, actionscript 3.0, mxml, html, or ajax.                         "
       ]
      },
      {
       "output_type": "stream",
       "stream": "stdout",
       "text": [
        "\n",
        "\r\n",
        "in computing, input/output, or i/o, refers to the communication between an information processing system (such as a computer), and the outside world, possibly a human, or another information processing system.                         "
       ]
      },
      {
       "output_type": "stream",
       "stream": "stdout",
       "text": [
        "\n",
        "\r\n",
        "permissions define the operations that authenticated users are allowed to perform on file systems, databases and other computer systems.                         "
       ]
      },
      {
       "output_type": "stream",
       "stream": "stdout",
       "text": [
        "\n",
        "\r\n",
        "uiscrollview is a core ios development component used to build generic scrolling and zooming user interfaces.\r\n",
        "\r\n",
        "                         "
       ]
      },
      {
       "output_type": "stream",
       "stream": "stdout",
       "text": [
        "\n",
        "\r\n",
        "a path, the general form of a file name or of a directory name, specifies a unique location in a file system.                         "
       ]
      },
      {
       "output_type": "stream",
       "stream": "stdout",
       "text": [
        "\n",
        "\r\n",
        "cuda is a parallel computing platform and programming model for nvidia gpus (graphics processing units). cuda provides an interface to nvidia gpus through a variety of programming languages, libraries, and apis.                          "
       ]
      },
      {
       "output_type": "stream",
       "stream": "stdout",
       "text": [
        "\n",
        "\r\n",
        "devise is an authentication gem for ruby-on-rails. it supersedes previous solutions such as restful authentication or authlogic.                         "
       ]
      },
      {
       "output_type": "stream",
       "stream": "stdout",
       "text": [
        "\n",
        "\r\n",
        "the mysqli php extension (\u201cmysql improved\u201d) is a php database driver, included since php 5. it takes advantage of new features introduced in mysql 4.1.3 and newer.                         "
       ]
      },
      {
       "output_type": "stream",
       "stream": "stdout",
       "text": [
        "\n",
        "\r\n",
        "a proxy is a device or program that stands between two or more interconnected programs or devices.  reasons for a proxy include one or more connected parties only wanting the other to access specific data.  a proxy provides a method for this.                         "
       ]
      },
      {
       "output_type": "stream",
       "stream": "stdout",
       "text": [
        "\n",
        "\r\n",
        "the portion of a data block, cell, frame, or packet that precedes the text field or payload and provides information such as the source address and destination address. the header often includes synchronization bits that serve to synchronize the operations of the transmit and receive devices across ...                         "
       ]
      },
      {
       "output_type": "stream",
       "stream": "stdout",
       "text": [
        "\n",
        "\r\n",
        "microsoft sql server integration services (ssis) is a platform for building enterprise-level data integration and data transformations solutions.                          "
       ]
      },
      {
       "output_type": "stream",
       "stream": "stdout",
       "text": [
        "\n",
        "\r\n",
        "refers to the deletion of files from a filesystem or records from a database, or the deallocation of objects in memory. can also refer to the delete which is one of the http protocol methods.                         "
       ]
      },
      {
       "output_type": "stream",
       "stream": "stdout",
       "text": [
        "\n",
        "\r\n",
        "compilation is the process of producing information, typically a program to be executed by a computer, from a source (or sources) typically being text in a computer programming language. compilation can be \"converting\" between programming languages or assembling executable code from one such ...                         "
       ]
      },
      {
       "output_type": "stream",
       "stream": "stdout",
       "text": [
        "\n",
        "\r\n",
        "eclipse is an osgi extensible platform for tool integration.  the extensions to eclipse are  java plug-ins.                         "
       ]
      },
      {
       "output_type": "stream",
       "stream": "stdout",
       "text": [
        "\n",
        "\r\n",
        "a set of computer software components that programmers can use to access data and data services.                         "
       ]
      },
      {
       "output_type": "stream",
       "stream": "stdout",
       "text": [
        "\n",
        "\r\n",
        "file transfer protocol (ftp) is a well-established protocol for conducting file operations (such as transferring files) over a tcp-based network such as the internet.                         "
       ]
      },
      {
       "output_type": "stream",
       "stream": "stdout",
       "text": [
        "\n",
        "\r\n",
        "a set of interrelated operations that must all succeed in order for any of them to succeed.  failure of any operation results in a rollback of all operations in the transaction.                         "
       ]
      },
      {
       "output_type": "stream",
       "stream": "stdout",
       "text": [
        "\n",
        "\r\n",
        "an android emulator is software which simulates the functionality of an android device running the android os. emulator allows developers develop and test applications without the need of various real devices with different configurations.                         "
       ]
      },
      {
       "output_type": "stream",
       "stream": "stdout",
       "text": [
        "\n",
        "\r\n",
        "a data type consisting of a set of named values called elements, members or enumerators of the type.                         "
       ]
      },
      {
       "output_type": "stream",
       "stream": "stdout",
       "text": [
        "\n",
        "\r\n",
        "safari is apple's web browser, the default browser on mac os x and ios.                         "
       ]
      },
      {
       "output_type": "stream",
       "stream": "stdout",
       "text": [
        "\n",
        "\r\n",
        "ruby on rails version 3.2.0 released at january 20, 2012. use this tag for issues related to development in ruby on rails version 3.2.0.                         "
       ]
      },
      {
       "output_type": "stream",
       "stream": "stdout",
       "text": [
        "\n",
        "\r\n",
        "the term \"datatable\" is ambiguous. in .net, it's a class that represents a table of in-memory data. in component based mvc frameworks like jsf and wicket, it's an ui component that dynamically renders a html table based on a collection. for jquery datatables plugin, please use [datatables] tag.                         "
       ]
      },
      {
       "output_type": "stream",
       "stream": "stdout",
       "text": [
        "\n",
        "\r\n",
        "youtube is a video-sharing website on which users can upload, share, and view videos.                         "
       ]
      },
      {
       "output_type": "stream",
       "stream": "stdout",
       "text": [
        "\n",
        "\r\n",
        "the play! framework is a modern java and scala web application open-source framework that provides a clean alternative to bloated enterprise java stacks.                         "
       ]
      },
      {
       "output_type": "stream",
       "stream": "stdout",
       "text": [
        "\n",
        "\r\n",
        "intellij idea is a popular ide by jetbrains. originally created for java, it currently supports a lot more languages, including: javascript, groovy, html, css, rss, r, haskell, php, ruby, python, scala, clojure.                         "
       ]
      },
      {
       "output_type": "stream",
       "stream": "stdout",
       "text": [
        "\n",
        "\r\n",
        "cocos2d for iphone is an objective-c port of the cocos2d (python) framework for building 2d games and graphical applications for ios devices. despite its name, cocos2d-iphone supports building mac os x applications as well.                         "
       ]
      },
      {
       "output_type": "stream",
       "stream": "stdout",
       "text": [
        "\n",
        "\r\n",
        "crystal reports is a report writer that operates as a stand-alone report designer, an integrated part of visual studio, or part of sap's business objects enterprise suite.\r\n",
        "\r\n",
        "                         "
       ]
      },
      {
       "output_type": "stream",
       "stream": "stdout",
       "text": [
        "\n",
        "\r\n",
        "cross-browser development refers to the practice of building web sites, web applications, libraries, or components so that they function across different web browsers and rendering engines.                          "
       ]
      },
      {
       "output_type": "stream",
       "stream": "stdout",
       "text": [
        "\n",
        "\r\n",
        "matplotlib is a plotting library for python, built on numpy and often used interactively with ipython. its compact \"pylab\" interface is similar to the plotting functions of matlab\u00ae.                         "
       ]
      },
      {
       "output_type": "stream",
       "stream": "stdout",
       "text": [
        "\n",
        "\r\n",
        "mercurial is a fast, open-source dvcs (distributed version control system).\r\n",
        "                         "
       ]
      },
      {
       "output_type": "stream",
       "stream": "stdout",
       "text": [
        "\n",
        "\r\n",
        "amazon s3 (simple storage service) is an online storage service from amazon web services.                         "
       ]
      },
      {
       "output_type": "stream",
       "stream": "stdout",
       "text": [
        "\n",
        "\r\n",
        "java platform, micro edition, or java me, is a java platform designed for embedded systems.                         "
       ]
      },
      {
       "output_type": "stream",
       "stream": "stdout",
       "text": [
        "\n",
        "\r\n",
        "asp.net web api is a framework for building http services for clients like browsers and mobile devices. it is based on the microsoft .net framework and ideal choice for building restful services.                         "
       ]
      },
      {
       "output_type": "stream",
       "stream": "stdout",
       "text": [
        "\n",
        "\r\n",
        "anonymous functions or closures in programming languages such as lisp, c#, c++ or python. (also, lambda expression.)                         "
       ]
      },
      {
       "output_type": "stream",
       "stream": "stdout",
       "text": [
        "\n",
        "\r\n",
        "xcode 4 is the main development tool for developing software under mac os x, targeting mac os and ios.                          "
       ]
      },
      {
       "output_type": "stream",
       "stream": "stdout",
       "text": [
        "\n",
        "\r\n",
        "the domain name system (dns) is a hierarchical naming system built on a distributed database for computers, services, or any resource connected to the internet or a private network.                         "
       ]
      },
      {
       "output_type": "stream",
       "stream": "stdout",
       "text": [
        "\n",
        "\r\n",
        "a form (window, box, etc.) presented to a user, usually for the purpose of capturing input or to make a decision.                         "
       ]
      },
      {
       "output_type": "stream",
       "stream": "stdout",
       "text": [
        "\n",
        "\r\n",
        "the attributes tag should be used for any issues relating to a property of an object, element, or file, etc.                         "
       ]
      },
      {
       "output_type": "stream",
       "stream": "stdout",
       "text": [
        "\n",
        "\r\n",
        "refactoring, braces, indentation, hungarian notation, and other stylistic issues relating to code.                         "
       ]
      },
      {
       "output_type": "stream",
       "stream": "stdout",
       "text": [
        "\n",
        "\r\n",
        "amazon ec2 stands for \"amazon elastic compute cloud\". it is a part of amazon web services (aws) and allows users to rent virtual machine instances by the hour. you can create instances, launch and manage them through a central interface, through a web api or through a console.                         "
       ]
      },
      {
       "output_type": "stream",
       "stream": "stdout",
       "text": [
        "\n",
        "\r\n",
        "a callback is a reference to a method that is passed as an argument to another method. this could be used for example to enable a third-party library method to call a custom method upon completion of some task.                         "
       ]
      },
      {
       "output_type": "stream",
       "stream": "stdout",
       "text": [
        "\n",
        "\r\n",
        "msbuild is an xml-based build platform from microsoft.                         "
       ]
      },
      {
       "output_type": "stream",
       "stream": "stdout",
       "text": [
        "\n",
        "\r\n",
        "d3.js is a small, open-source javascript visualization library for manipulating html and svg documents based on data                         "
       ]
      },
      {
       "output_type": "stream",
       "stream": "stdout",
       "text": [
        "\n",
        "\r\n",
        "jenkins is an extensible continuous integration server. jenkins is open source and has packages for linux, mac os x, windows, solaris, freebsd and openbsd.                         "
       ]
      },
      {
       "output_type": "stream",
       "stream": "stdout",
       "text": [
        "\n",
        "\r\n",
        "merging is a generic term for combining two or more related sets of data. it is commonly associated with revision control systems when reconciling multiple changes made to a revision-controlled collection of files.\r\n",
        "\r\n",
        "merging multiple data sets is another use of this tag.                         "
       ]
      },
      {
       "output_type": "stream",
       "stream": "stdout",
       "text": [
        "\n",
        "\r\n",
        "internationalization, also known as i18n, refers to the techniques and tools to make the software change its behavior based on the country or culture of the user running it. this is a matter not only of changing the language which the software presents (e.g. in its user interface), but of changing ...                         "
       ]
      },
      {
       "output_type": "stream",
       "stream": "stdout",
       "text": [
        "\n",
        "\r\n",
        "get is one of many request methods supported by the http protocol. the get request method is used when the client needs to get data from the server as part of the request-uri. \r\n",
        "                         "
       ]
      },
      {
       "output_type": "stream",
       "stream": "stdout",
       "text": [
        "\n",
        "\r\n",
        "xna is a cross-platform framework originally from microsoft that facilitates game development with .net. supports: windows, xbox\u00a0360, windows phone (natively), silverlight (via silversprite), iphone/ipad, android, mac\u00a0os\u00a0x, linux and other (via monogame).                         "
       ]
      },
      {
       "output_type": "stream",
       "stream": "stdout",
       "text": [
        "\n",
        "\r\n",
        "doctrine 2.0 is a php (5.3.2+) orm. while doctrine 1.2 uses the active record pattern, doctrine 2 uses the data mapper pattern. the doctrine project is a collection open source libraries and tools for dealing with database abstraction and object-relational mapping written in php.\r\n",
        "                         "
       ]
      },
      {
       "output_type": "stream",
       "stream": "stdout",
       "text": [
        "\n",
        "\r\n",
        "f# is a succinct, expressive and efficient functional and object-oriented language for .net which helps you write simple code to solve complex problems.                         "
       ]
      },
      {
       "output_type": "stream",
       "stream": "stdout",
       "text": [
        "\n",
        "\r\n",
        "in computer graphical user interfaces, drag-and-drop is the action of (or support for the action of) selecting a virtual object by \"grabbing\" it and dragging it to a different location or onto another virtual object.                          "
       ]
      },
      {
       "output_type": "stream",
       "stream": "stdout",
       "text": [
        "\n",
        "\r\n",
        "count is a commonly-used sql function that counts the number of rows                         "
       ]
      },
      {
       "output_type": "stream",
       "stream": "stdout",
       "text": [
        "\n",
        "\r\n",
        "the uinavigationcontroller class implements a specialized ios view controller that manages the navigation of hierarchical content.                         "
       ]
      },
      {
       "output_type": "stream",
       "stream": "stdout",
       "text": [
        "\n",
        "\r\n",
        "delegates can refer to several concepts.  an object can rely on another (a delegate) to perform a function.  delegation can also refer to programming language feature making use of the method lookup rules for dispatching self-calls.  in c#, a delegate defines which method to call when an event is ...                         "
       ]
      },
      {
       "output_type": "stream",
       "stream": "stdout",
       "text": [
        "\n",
        "\r\n",
        "use this tag for questions specific to the 2008 r2 version (version 10.50) of microsoft's sql server.                         "
       ]
      },
      {
       "output_type": "stream",
       "stream": "stdout",
       "text": [
        "\n",
        "\r\n",
        "controller provides a centralized entry point for handling requests. usually is referred as a part of model-view-controller design pattern.                         "
       ]
      },
      {
       "output_type": "stream",
       "stream": "stdout",
       "text": [
        "\n",
        "\r\n",
        "event handling is a coding style about handling messages between a source and one or more subscribers. a point listener in the source provide a way which subscribed code can consume messages raised from the source.                         "
       ]
      },
      {
       "output_type": "stream",
       "stream": "stdout",
       "text": [
        "\n",
        "\r\n",
        "an error that is generated during the compilation phase, often due to problems with invalid syntax and/or types.  compare to [runtime-error].                         "
       ]
      },
      {
       "output_type": "stream",
       "stream": "stdout",
       "text": [
        "\n",
        "\r\n",
        "a graphical technique for presenting a data set or an equation.\r\n",
        "                         "
       ]
      },
      {
       "output_type": "stream",
       "stream": "stdout",
       "text": [
        "\n",
        "\r\n",
        "the linker is part of the toolchain for producing executables from source code written in compiled programming languages.  it takes compiled object code in multiple files and produces a single, \"linked\", executable file from them.                         "
       ]
      },
      {
       "output_type": "stream",
       "stream": "stdout",
       "text": [
        "\n",
        "\r\n",
        "ides (integrated development environment) are computer programs that facilitate efficient software development by providing features beyond those of a simple text editor.                          "
       ]
      },
      {
       "output_type": "stream",
       "stream": "stdout",
       "text": [
        "\n",
        "\r\n",
        "mono is an open source implementation of .net that runs on many platforms, including linux, mac os x, and windows.  this allows running .net applications on platforms other than windows with little to no modification.                         "
       ]
      },
      {
       "output_type": "stream",
       "stream": "stdout",
       "text": [
        "\n",
        "\r\n",
        "xamarin.ios (previously known as monotouch) is a commercial software development kit for mac os x that lets you use c# (a .net programming language) to create native applications for apple iphone, ipod touch, and ipad devices.                         "
       ]
      },
      {
       "output_type": "stream",
       "stream": "stdout",
       "text": [
        "\n",
        "\r\n",
        "asynctask enables proper and easy use of the ui thread. this class allows to perform background operations and publish results on the ui thread without having to manipulate threads and/or handlers. asynctask is designed to be a helper class around thread and handler and does not constitute a generic ...                         "
       ]
      },
      {
       "output_type": "stream",
       "stream": "stdout",
       "text": [
        "\n",
        "\r\n",
        "a tree is a widely-used data structure that emulates a hierarchical tree-like structure with a set of linked nodes.                         "
       ]
      },
      {
       "output_type": "stream",
       "stream": "stdout",
       "text": [
        "\n",
        "\r\n",
        "routing is the process of selecting paths in a network along which to send network traffic.\r\n",
        "\r\n",
        "for the process of associating urls to content, use the tag url-routing instead.                         "
       ]
      },
      {
       "output_type": "stream",
       "stream": "stdout",
       "text": [
        "\n",
        "\r\n",
        "xhtml, extensible hypertext markup language, is an application of html that is also a valid xml document, as opposed to standard html which is based on sgml. it is a markup language commonly used for html pages which are generated using a xml based tool. do not use this tag for facelets. use ...                         "
       ]
      },
      {
       "output_type": "stream",
       "stream": "stdout",
       "text": [
        "\n",
        "\r\n",
        "a form of data processing in which multiple calculations are carried out simultaneously                         "
       ]
      },
      {
       "output_type": "stream",
       "stream": "stdout",
       "text": [
        "\n",
        "\r\n",
        "spring security (formerly known as acegi security) is the spring framework's application security solution. spring security can be used to secure urls and method invocations. it is widely used to secure standalone web applications, portlets and increasingly rest applications.                         "
       ]
      },
      {
       "output_type": "stream",
       "stream": "stdout",
       "text": [
        "\n",
        "\r\n",
        "a stream is a series of data elements (characters, bytes or complex packets) which can be accessed or made accessible in a serial fashion. random access is not possible.                         "
       ]
      },
      {
       "output_type": "stream",
       "stream": "stdout",
       "text": [
        "\n",
        "\r\n",
        "a crash is the result of an unrecoverable error that causes the program to stop completely. during software development, crashes can be avoided by implementing proper error and exception handling.                         "
       ]
      },
      {
       "output_type": "stream",
       "stream": "stdout",
       "text": [
        "\n",
        "\r\n",
        "oracle is an rdbms product. specific releases of the product are known as oracle9i, oracle10g and oracle 11g. generally there are two releases within each major version. questions tagged **oracle11g** are assumed to be specific to this version or features introduced in this version.                         "
       ]
      },
      {
       "output_type": "stream",
       "stream": "stdout",
       "text": [
        "\n",
        "\r\n",
        "highcharts is a javascript charting library that uses html, svg, and vml. the editor offers both open source/nonprofit and commercial editions of the product.                         "
       ]
      },
      {
       "output_type": "stream",
       "stream": "stdout",
       "text": [
        "\n",
        "\r\n",
        "the term lucene refers to the java fulltext search engine library, but also to the entire eco-system that grew around it, including lucene.net, solr, elasticsearch and zend-search-lucene.                         "
       ]
      },
      {
       "output_type": "stream",
       "stream": "stdout",
       "text": [
        "\n",
        "\r\n",
        "assets (like memory, disk space, cpu power or alike) necessary for effective operation.                         "
       ]
      },
      {
       "output_type": "stream",
       "stream": "stdout",
       "text": [
        "\n",
        "\r\n",
        "a set of related web pages served from a single web domain.                         "
       ]
      },
      {
       "output_type": "stream",
       "stream": "stdout",
       "text": [
        "\n",
        "\r\n",
        "a calendar is a system of reckoning time in which the beginning, length and divisions of a year are defined. the term may refer to a software class or library for the manipulation and display of calendar data, or to a list of events with associated dates and times, managed by a human via an ...                         "
       ]
      },
      {
       "output_type": "stream",
       "stream": "stdout",
       "text": [
        "\n",
        "\r\n",
        "a namespace is a container that provides context for identifiers, within which names are unique.                         "
       ]
      },
      {
       "output_type": "stream",
       "stream": "stdout",
       "text": [
        "\n",
        "\r\n",
        "bluetooth is a global open wireless technology standard for exchanging data over short distances (using short wavelength radio transmissions) from fixed and mobile devices, creating personal area networks (pans) with high levels of security.                         "
       ]
      },
      {
       "output_type": "stream",
       "stream": "stdout",
       "text": [
        "\n",
        "\r\n",
        "null means *nothing* or *unknown*, depending on context.\r\n",
        "                         "
       ]
      },
      {
       "output_type": "stream",
       "stream": "stdout",
       "text": [
        "\n",
        "\r\n",
        "navigation refers to the process of navigating a network of resources, and the user interface that is used to do so.                         "
       ]
      },
      {
       "output_type": "stream",
       "stream": "stdout",
       "text": [
        "\n",
        "\r\n",
        "a graphical user interface element that allows the user to select one or more items from a list.                         "
       ]
      },
      {
       "output_type": "stream",
       "stream": "stdout",
       "text": [
        "\n",
        "\r\n",
        "lua is a powerful, fast, lightweight, embeddable scripting language. it's dynamically typed, runs by interpreting bytecode and has automatic garbage collection. it is often referred to as an \"extensible extension language\".                         "
       ]
      },
      {
       "output_type": "stream",
       "stream": "stdout",
       "text": [
        "\n",
        "\r\n",
        "the android ndk is a companion tool to the android sdk that lets you build performance-critical portions of your apps in native code or port existing libraries in c/c++ to android. it provides headers and libraries that allow you to build activities, handle user input, use hardware sensors, access ...                         "
       ]
      },
      {
       "output_type": "stream",
       "stream": "stdout",
       "text": [
        "\n",
        "\r\n",
        "an image view object provides a view-based container for displaying either a single image or for animating a series of images in ios. for animating the images, the uiimageview class provides controls to set the duration and frequency of the animation. you can also start and stop the animation ...                         "
       ]
      },
      {
       "output_type": "stream",
       "stream": "stdout",
       "text": [
        "\n",
        "\r\n",
        "active directory (ad) is a directory service created by microsoft. it stores all information and settings for a deployment in a central database. ad allows administrators to assign policies, deploy and update software. ad networks can vary from a small installation with a few computers, users and ...                         "
       ]
      },
      {
       "output_type": "stream",
       "stream": "stdout",
       "text": [
        "\n",
        "\r\n",
        "scrolling refers to the continuous sliding of content across a display screen.                         "
       ]
      },
      {
       "output_type": "stream",
       "stream": "stdout",
       "text": [
        "\n",
        "\r\n",
        "indexing data structures is general technique to improve the speed of data lookups.                         "
       ]
      },
      {
       "output_type": "stream",
       "stream": "stdout",
       "text": [
        "\n",
        "\r\n",
        "in the real world, a camera is a device that takes physical and digital photos. in the virtual world, it is used to aim at virtual objects and or move through a virtual scene.                         "
       ]
      },
      {
       "output_type": "stream",
       "stream": "stdout",
       "text": [
        "\n",
        "\r\n",
        "google analytics is a free web analytics solution provided by google, featuring several client-side apis, as well as rest apis for data export and for management.                         "
       ]
      },
      {
       "output_type": "stream",
       "stream": "stdout",
       "text": [
        "\n",
        "\r\n",
        "floating point numbers are approximations of real numbers that can represent larger ranges than integers but use the same amount of memory, at the cost of lower precision.                          "
       ]
      },
      {
       "output_type": "stream",
       "stream": "stdout",
       "text": [
        "\n",
        "\r\n",
        "applet means 'small application'. this has become commonly used to describe java applets embedded in web pages.                         "
       ]
      },
      {
       "output_type": "stream",
       "stream": "stdout",
       "text": [
        "\n",
        "\r\n",
        "apache maven is a software project management and comprehension tool. this is a tag for maven related questions that are specific to maven versions 2.x.                         "
       ]
      },
      {
       "output_type": "stream",
       "stream": "stdout",
       "text": [
        "\n",
        "\r\n",
        "a makefile is usually an input file for the build control language/tool make.\n",
        "                         "
       ]
      },
      {
       "output_type": "stream",
       "stream": "stdout",
       "text": [
        "\n",
        "\r\n",
        "an event which occurs when user clicked an object. it is a combination of two events, that is,  \"onmousedown\" followed by \"onmouseup\".                         "
       ]
      },
      {
       "output_type": "stream",
       "stream": "stdout",
       "text": [
        "\n",
        "\r\n",
        "google apps script is a javascript cloud scripting language for automating tasks across google products and third party services.                          "
       ]
      },
      {
       "output_type": "stream",
       "stream": "stdout",
       "text": [
        "\n",
        "\r\n",
        "this tag is for questions about the internals of the linux kernel itself - particularly about writing code that runs within the context of the kernel (like kernel modules or drivers).\r\n",
        "\r\n",
        "questions about writing userspace code in linux should generally be tagged [linux] instead.\r\n",
        "\r\n",
        "since the ...                         "
       ]
      },
      {
       "output_type": "stream",
       "stream": "stdout",
       "text": [
        "\n",
        "\r\n",
        "phpmyadmin is an open-source, web-based mysql administration tool written in php.                         "
       ]
      },
      {
       "output_type": "stream",
       "stream": "stdout",
       "text": [
        "\n",
        "\r\n",
        "a synonym for separating an object or item in pieces.                         "
       ]
      },
      {
       "output_type": "stream",
       "stream": "stdout",
       "text": [
        "\n",
        "\r\n",
        "receiving data to a local system from a remote system, or to initiate such a data transfer.                         "
       ]
      },
      {
       "output_type": "stream",
       "stream": "stdout",
       "text": [
        "\n",
        "\r\n",
        "windows services are background service processes run by the service control manager on windows nt based operating systems, similar to daemons or unix services.                         "
       ]
      },
      {
       "output_type": "stream",
       "stream": "stdout",
       "text": [
        "\n",
        "\r\n",
        "a terminal or command-line interface is a text-only interface for interacting with an operating system or a piece of software. a user typically types commands into the terminal to perform specific tasks.                         "
       ]
      },
      {
       "output_type": "stream",
       "stream": "stdout",
       "text": [
        "\n",
        "\r\n",
        "a tag is a marker that represents a specific description in a markup language that is enclosed in angle brackets.                         "
       ]
      },
      {
       "output_type": "stream",
       "stream": "stdout",
       "text": [
        "\n",
        "\r\n",
        "java architecture for xml binding is the java standard for working with xml as domain objects. it provides an easy mechanism for mapping java classes to xml representations.                         "
       ]
      },
      {
       "output_type": "stream",
       "stream": "stdout",
       "text": [
        "\n",
        "\r\n",
        "a while loop is a control structure used in many languages to loop over a set of instructions as long as a particular condition is met.                         "
       ]
      },
      {
       "output_type": "stream",
       "stream": "stdout",
       "text": [
        "\n",
        "\r\n",
        "binary, the base-2 numeral system, represents numbers using two symbols: 0 and 1. for compiled computer programs, use the \"executable\" tag instead.                         "
       ]
      },
      {
       "output_type": "stream",
       "stream": "stdout",
       "text": [
        "\n",
        "\r\n",
        "nsstring is the plain-text character-string class in cocoa and cocoa touch. see also nsmutablestring, nsdata and nsmutabledata (for objects that contain bytes rather than human-language characters), and nsattributedstring and nsmutableattributedstring (for rich-text strings).                         "
       ]
      },
      {
       "output_type": "stream",
       "stream": "stdout",
       "text": [
        "\n",
        "\r\n",
        "questions about using the ffmpeg command line tool should be asked on super user.                         "
       ]
      },
      {
       "output_type": "stream",
       "stream": "stdout",
       "text": [
        "\n",
        "\r\n",
        "a mechanism for interacting with a computer operating system or software by typing commands to perform specific tasks                         "
       ]
      },
      {
       "output_type": "stream",
       "stream": "stdout",
       "text": [
        "\n",
        "\r\n",
        "coffeescript is a little language that compiles into javascript. underneath all of those embarrassing braces and semicolons, javascript has always had a gorgeous object model at its heart. coffeescript is an attempt to expose the good parts of javascript in a simple way.                         "
       ]
      },
      {
       "output_type": "stream",
       "stream": "stdout",
       "text": [
        "\n",
        "\r\n",
        "programming associated with creating and managing networks as well as adding network connectivity to a (set of) programs.                         "
       ]
      },
      {
       "output_type": "stream",
       "stream": "stdout",
       "text": [
        "\n",
        "\r\n",
        "webkit is an open source web browser engine that powers google chrome, apple safari, and several mobile browsers including the pre-installed browsers for android, ios, rim blackberry, symbian and webos.                         "
       ]
      },
      {
       "output_type": "stream",
       "stream": "stdout",
       "text": [
        "\n",
        "\r\n",
        "consider using [grid-layout] or [grid-computing] instead.                         "
       ]
      },
      {
       "output_type": "stream",
       "stream": "stdout",
       "text": [
        "\n",
        "\r\n",
        "a rotation is a circular movement of an object around a center (or point) of rotation.                         "
       ]
      },
      {
       "output_type": "stream",
       "stream": "stdout",
       "text": [
        "\n",
        "\r\n",
        "the java exception thrown when an application attempts to use null in a case where an object is required.                         "
       ]
      },
      {
       "output_type": "stream",
       "stream": "stdout",
       "text": [
        "\n",
        "\r\n",
        "ui elements to use on an android application screen.                         "
       ]
      },
      {
       "output_type": "stream",
       "stream": "stdout",
       "text": [
        "\n",
        "\r\n",
        "really simple syndication (rss) is a family of web feed formats used to publish frequently updated works\u2014such as blog entries, news headlines, audio, and video\u2014in a standardized format.                         "
       ]
      },
      {
       "output_type": "stream",
       "stream": "stdout",
       "text": [
        "\n",
        "\r\n",
        "issues relating to the resizing of controls, windows, forms or screens.                         "
       ]
      },
      {
       "output_type": "stream",
       "stream": "stdout",
       "text": [
        "\n",
        "\r\n",
        "xsd generally refers to a document written in the w3c xml schema format, containing a description of a particular type of xml document.                         "
       ]
      },
      {
       "output_type": "stream",
       "stream": "stdout",
       "text": [
        "\n",
        "\r\n",
        "a text input device. utilize this tag to ask programming questions regarding reading input from it or blinking the lights, etc.                         "
       ]
      },
      {
       "output_type": "stream",
       "stream": "stdout",
       "text": [
        "\n",
        "\r\n",
        "geolocation is the identification of the real-world geographic location of an object, such as a cell phone or an internet-connected computer terminal. geolocation may refer to the practice of assessing the location, or to the actual assessed location.                         "
       ]
      },
      {
       "output_type": "stream",
       "stream": "stdout",
       "text": [
        "\n",
        "\r\n",
        "abbreviation for global positioning system; a navigational system using satellite signals to fix the location of a radio receiver on or above the earth's surface. also \"gps\" refers to the radio receiver so used.                         "
       ]
      },
      {
       "output_type": "stream",
       "stream": "stdout",
       "text": [
        "\n",
        "\r\n",
        "pagination is the process of dividing information into discrete pages.                         "
       ]
      },
      {
       "output_type": "stream",
       "stream": "stdout",
       "text": [
        "\n",
        "\r\n",
        "a provision that many programming languages provide to allow code (functions, classes, objects) in one file to be used in many others.                         "
       ]
      },
      {
       "output_type": "stream",
       "stream": "stdout",
       "text": [
        "\n",
        "\r\n",
        "group by is a command in the sql relational database standard for collapsing result rows that share a common field value into a single row. aggregate functions can be performed on other fields in the group, such as sum() or avg(), to collate related data into a single value.                         "
       ]
      },
      {
       "output_type": "stream",
       "stream": "stdout",
       "text": [
        "\n",
        "\r\n",
        "garbage collection (gc) is a form of automatic memory management. it attempts to reclaim garbage, or memory occupied by objects that are no longer in use by the program.                         "
       ]
      },
      {
       "output_type": "stream",
       "stream": "stdout",
       "text": [
        "\n",
        "\r\n",
        "in programming, annotations are used to add information to a code element which cannot be expressed by the type system.                         "
       ]
      },
      {
       "output_type": "stream",
       "stream": "stdout",
       "text": [
        "\n",
        "\r\n",
        "an instance of the uibutton class implements a button on the ios touch screen.                         "
       ]
      },
      {
       "output_type": "stream",
       "stream": "stdout",
       "text": [
        "\n",
        "\r\n",
        "a notification informs users of events that are unrelated to the current user activity. the notification could result from a user action or significant system event, or could offer potentially useful information from os or an application.                         "
       ]
      },
      {
       "output_type": "stream",
       "stream": "stdout",
       "text": [
        "\n",
        "\r\n",
        "web.config is an xml file that stores the main settings and configuration files for an asp.net web application.                          "
       ]
      },
      {
       "output_type": "stream",
       "stream": "stdout",
       "text": [
        "\n",
        "\r\n",
        "cocos2d for iphone is an objective-c port of the cocos2d (python) framework for building 2d games and graphical applications for ios devices. despite its name, cocos2d-iphone supports building mac os x applications as well.                         "
       ]
      },
      {
       "output_type": "stream",
       "stream": "stdout",
       "text": [
        "\n",
        "\r\n",
        "a generic term meaning the process by which text transformed into a more meaningful or clearer output. a typical example would be the transformation of a decimal into a particular currency format with the correct number of decimal places.                         "
       ]
      },
      {
       "output_type": "stream",
       "stream": "stdout",
       "text": [
        "\n",
        "\r\n",
        "in general, popup refers to any ui element that floats above a window or application surface. this may include tooltips, context menus, and modal dialog windows.                         "
       ]
      },
      {
       "output_type": "stream",
       "stream": "stdout",
       "text": [
        "\n",
        "\r\n",
        "telerik is a vendor of development, team productivity, and automated testing tools, as well as ui components and content management solutions for microsoft .net.                         "
       ]
      },
      {
       "output_type": "stream",
       "stream": "stdout",
       "text": [
        "\n",
        "\r\n",
        "functional programming is a programming paradigm which primarily uses functions as means for building abstractions and expressing computations that comprise a computer program.                         "
       ]
      },
      {
       "output_type": "stream",
       "stream": "stdout",
       "text": [
        "\n",
        "\r\n",
        "rubygems is a package management tool for the ruby programming language. it allows users to download and update ruby libraries, and provides automatic dependency resolution.                         "
       ]
      },
      {
       "output_type": "stream",
       "stream": "stdout",
       "text": [
        "\n",
        "\r\n",
        "fluent nhibernate lets you write nhibernate mappings in strongly typed c# code. this allows for easy refactoring, improved readability and more concise code.                         "
       ]
      },
      {
       "output_type": "stream",
       "stream": "stdout",
       "text": [
        "\n",
        "\r\n",
        "laravel is an open-source php web development framework created by taylor otwell. laravel helps you create applications using simple, expressive syntax.                         "
       ]
      },
      {
       "output_type": "stream",
       "stream": "stdout",
       "text": [
        "\n",
        "\r\n",
        "web service description language (wsdl) is an xml based, human- and machine-readable language used to describe a web service. it describes the available web service methods, the message request and response structures, the possible faults, and the communication and security requirements.\r\n",
        "\r\n",
        "this tag ...                         "
       ]
      },
      {
       "output_type": "stream",
       "stream": "stdout",
       "text": [
        "\n",
        "\r\n",
        "a content management system (cms) is a platform used to build websites that are easily edited by multiple users.                         "
       ]
      },
      {
       "output_type": "stream",
       "stream": "stdout",
       "text": [
        "\n",
        "\r\n",
        "specific questions related to forms with the django web framework                         "
       ]
      },
      {
       "output_type": "stream",
       "stream": "stdout",
       "text": [
        "\n",
        "\r\n",
        "kendo ui is a framework for modern html ui, by telerik. it follows the latest html5, css3, and javascript standards, it delivers everything needed for client-side, jquery-powered development in one integrated, compact package.                         "
       ]
      },
      {
       "output_type": "stream",
       "stream": "stdout",
       "text": [
        "\n",
        "\r\n",
        "a datepicker is a user interface element in many frameworks that allows a user to choose a date and also, in some cases, time, often through a visual calendar.                         "
       ]
      },
      {
       "output_type": "stream",
       "stream": "stdout",
       "text": [
        "\n",
        "\r\n",
        "windows runtime (winrt) is a microsoft platform architecture that allows applications to run in a sandboxed environment exposing a 'windows modern style' ui/ux.\r\n",
        "\r\n",
        "not to be confused with windows rt, the edition of windows 8 for arm devices; see windows-rt.                         "
       ]
      },
      {
       "output_type": "stream",
       "stream": "stdout",
       "text": [
        "\n",
        "\r\n",
        "automation is the process of having a computer do a repetitive task or a task that requires great precision or multiple steps, without requiring human intervention.                         "
       ]
      },
      {
       "output_type": "stream",
       "stream": "stdout",
       "text": [
        "\n",
        "\r\n",
        "scope is an enclosing context where values and expressions are associated. use this tag for questions about different types of scope as well for questions where scope may be unclear.                         "
       ]
      },
      {
       "output_type": "stream",
       "stream": "stdout",
       "text": [
        "\n",
        "\r\n",
        "microsoft outlook is a personal information manager from microsoft, available both as a separate application as well as a part of the microsoft office suite.                         "
       ]
      },
      {
       "output_type": "stream",
       "stream": "stdout",
       "text": [
        "\n",
        "\r\n",
        "command prompt (executable name cmd.exe) is the microsoft supplied command line interpreter on os/2, windows ce, and windows nt operating systems (including windows 2000, xp, vista, 7, server 2003, and server 2008).                         "
       ]
      },
      {
       "output_type": "stream",
       "stream": "stdout",
       "text": [
        "\n",
        "\r\n",
        "widget is (1) an element of a user interface (gui widget) or (2) a self-contained usually small software application (desktop widget).                         "
       ]
      },
      {
       "output_type": "stream",
       "stream": "stdout",
       "text": [
        "\n",
        "\r\n",
        "search engine optimization is the use of various techniques to aid web pages' ranking in search engines. non-programming seo questions should be asked on network site pro webmasters - http://webmasters.stackexchange.com !                         "
       ]
      },
      {
       "output_type": "stream",
       "stream": "stdout",
       "text": [
        "\n",
        "\r\n",
        "cron is a time-based job scheduler running as a daemon process in unix-like computer operating systems.                         "
       ]
      },
      {
       "output_type": "stream",
       "stream": "stdout",
       "text": [
        "\n",
        "\r\n",
        "the doctrine project is a collection of open source libraries and tools for dealing with database abstraction and object-relational mapping written in php.                         "
       ]
      },
      {
       "output_type": "stream",
       "stream": "stdout",
       "text": [
        "\n",
        "\r\n",
        "microsoft word is a commercial word processor designed by microsoft.                         "
       ]
      },
      {
       "output_type": "stream",
       "stream": "stdout",
       "text": [
        "\n",
        "\r\n",
        "open source software is software distributed under an open source license. such a license specifically allows anyone to copy, modify, extend and redistribute the source code without paying royalties or fees to the original authors.                         "
       ]
      },
      {
       "output_type": "stream",
       "stream": "stdout",
       "text": [
        "\n",
        "\r\n",
        "the basic image handling class of cocoa-touch on ios.                         "
       ]
      },
      {
       "output_type": "stream",
       "stream": "stdout",
       "text": [
        "\n",
        "\r\n",
        "documentation is a file or set of files that come with a program which detail the programs operation.                         "
       ]
      },
      {
       "output_type": "stream",
       "stream": "stdout",
       "text": [
        "\n",
        "\r\n",
        "questions about mapping urls to controllers and actions.                         "
       ]
      },
      {
       "output_type": "stream",
       "stream": "stdout",
       "text": [
        "\n",
        "\r\n",
        "a string of text that is intended to separate the presentation of a document from its data                         "
       ]
      },
      {
       "output_type": "stream",
       "stream": "stdout",
       "text": [
        "\n",
        "\r\n",
        "responsive design is the practice of using fluid structures and media queries in css to cater to multiple screen sizes.                          "
       ]
      },
      {
       "output_type": "stream",
       "stream": "stdout",
       "text": [
        "\n",
        "\r\n",
        "do not use this tag. this tag does not currently have a single, well-defined meaning. it is often used in place of, or in conjunction with, [css]. it is also used on questions about the appearance of user interfaces and questions about source code formatting.                         "
       ]
      },
      {
       "output_type": "stream",
       "stream": "stdout",
       "text": [
        "\n",
        "\r\n",
        "mapreduce is an algorithm for processing huge datasets on certain kinds of distributable problems using a large number of nodes                         "
       ]
      },
      {
       "output_type": "stream",
       "stream": "stdout",
       "text": [
        "\n",
        "\r\n",
        "an iterator is an object-oriented programming pattern that allows traversal through a collection, agnostic of the actual implementation or object addresses in physical memory.                         "
       ]
      },
      {
       "output_type": "stream",
       "stream": "stdout",
       "text": [
        "\n",
        "\r\n",
        "this tag is for questions about linq to entities, which means linq queries using the ado.net entity framework. note that this is different than linq to sql or other linq providers.\n",
        "                         "
       ]
      },
      {
       "output_type": "stream",
       "stream": "stdout",
       "text": [
        "\n",
        "\r\n",
        "questions specifically about version 4.x of the qt c++ gui library. if your question applies to other versions of qt, use the tag [qt].                         "
       ]
      },
      {
       "output_type": "stream",
       "stream": "stdout",
       "text": [
        "\n",
        "\r\n",
        "hover refers to the action of placing the mouse cursor over a given element. hover can also refer to an even in which a user on a touch-enabled device touches a given element.                         "
       ]
      },
      {
       "output_type": "stream",
       "stream": "stdout",
       "text": [
        "\n",
        "\r\n",
        "passwords are primarily used as a way of accessing information and also limiting the number of users who can get access to a machine. it is primarily used with a username for the authorization system. sometimes people use keys instead of passwords due to the increased strength of the keys.                         "
       ]
      },
      {
       "output_type": "stream",
       "stream": "stdout",
       "text": [
        "\n",
        "\r\n",
        "please use this tag in relation to extjs 4.0 - 4.2; ext js 4 is the fourth major version of the javascript library for building rich internet applications (ria), and now includes an mvc architecture without the need to use plugins. sencha has already released extjs 4.1 which has some significant ...                         "
       ]
      },
      {
       "output_type": "stream",
       "stream": "stdout",
       "text": [
        "\n",
        "\r\n",
        "a gem refers to a bundled piece of code managed with rubygems.  gem is also the name of the command line tool used to manage rubygems.                         "
       ]
      },
      {
       "output_type": "stream",
       "stream": "stdout",
       "text": [
        "\n",
        "\r\n",
        "ef code-first is a way of using microsoft's entity framework with poco classes, as opposed to model-first or db-first.                         "
       ]
      },
      {
       "output_type": "stream",
       "stream": "stdout",
       "text": [
        "\n",
        "\r\n",
        "a directory or folder is a virtual container within a digital file system, in which groups of computer files and other directories can be kept and organized.                         "
       ]
      },
      {
       "output_type": "stream",
       "stream": "stdout",
       "text": [
        "\n",
        "\r\n",
        "oracle is an rdbms product. specific releases of the product are known as oracle9i, oracle10g and oracle 11g. generally there are two releases within each major version. questions tagged [tag:oracle10g] are assumed to be specific to this version or features introduced in this version.                         "
       ]
      },
      {
       "output_type": "stream",
       "stream": "stdout",
       "text": [
        "\n",
        "\r\n",
        "synchronization refers to using controls to maintain a coherent representation, either a group of processes running the same program (process synchronization), or representations of data (data synchronization).                         "
       ]
      },
      {
       "output_type": "stream",
       "stream": "stdout",
       "text": [
        "\n",
        "\r\n",
        "in user interfaces, click refers to the depressing of a mouse button or similar input device.                         "
       ]
      },
      {
       "output_type": "stream",
       "stream": "stdout",
       "text": [
        "\n",
        "\r\n",
        "glassfish is the reference java ee application server.                         "
       ]
      },
      {
       "output_type": "stream",
       "stream": "stdout",
       "text": [
        "\n",
        "\r\n",
        "an operating system (os) is a basic software whose role is to be an abstract layer between software requisitions for resources and the hardware available, manage input/output, memory allocation/deallocation, file systems, among other basic tasks a device (not necessarily a computer) should do.                         "
       ]
      },
      {
       "output_type": "stream",
       "stream": "stdout",
       "text": [
        "\n",
        "\r\n",
        "ggplot2 is an actively maintained open-source chart-drawing library for r, written by hadley wickham, based upon the principles of \"grammar of graphics\".  it partially replaces r's basic plot and the lattice package, while providing a clean, powerful, orthogonal and fun api.                         "
       ]
      },
      {
       "output_type": "stream",
       "stream": "stdout",
       "text": [
        "\n",
        "\r\n",
        "cryptography covers, among other things, encryption, hashing and digital signatures. cryptography questions not directly related to software development are better asked at crypto.stackexchange.com.\r\n",
        "                         "
       ]
      },
      {
       "output_type": "stream",
       "stream": "stdout",
       "text": [
        "\n",
        "\r\n",
        "websocket is an api and a protocol for bi-directional, full-duplex communication that is closely associated with html5 and implemented in recent versions of most web browsers.                         "
       ]
      },
      {
       "output_type": "stream",
       "stream": "stdout",
       "text": [
        "\n",
        "\r\n",
        "a measure of the amount of work a computer is performing. cpu load is closely related too, but not exactly the same as cpu utilization.                         "
       ]
      },
      {
       "output_type": "stream",
       "stream": "stdout",
       "text": [
        "\n",
        "\r\n",
        "in the hypertext transfer protocol (http), http header fields contain the operating parameters of an http request or response. with the request or response line (first line of message), they form the message header.                         "
       ]
      },
      {
       "output_type": "stream",
       "stream": "stdout",
       "text": [
        "\n",
        "\r\n",
        "x86 is a series of computer microprocessor instruction set architectures based on the intel 8086 cpu.                         "
       ]
      },
      {
       "output_type": "stream",
       "stream": "stdout",
       "text": [
        "\n",
        "\r\n",
        "grep is a command-line text-search utility originally written for unix.                         "
       ]
      },
      {
       "output_type": "stream",
       "stream": "stdout",
       "text": [
        "\n",
        "\r\n",
        "the windows installer xml (wix) is a toolset that builds windows installation packages from xml source code. the toolset supports a command line environment that developers may integrate into their build processes to build msi and msm setup packages.\r\n",
        "                         "
       ]
      },
      {
       "output_type": "stream",
       "stream": "stdout",
       "text": [
        "\n",
        "\r\n",
        "indexing data structures is general technique to improve the speed of data lookups.                         "
       ]
      },
      {
       "output_type": "stream",
       "stream": "stdout",
       "text": [
        "\n",
        "\r\n",
        "a serial port is a physical interface through which data is transferred (uni- or bidirectionally) one bit at a time. largely superseded in the consumer market by usb, serial connections are still commonly used in many other specialist applications. typical applications include scientific/medical ...                         "
       ]
      },
      {
       "output_type": "stream",
       "stream": "stdout",
       "text": [
        "\n",
        "\r\n",
        "a linked list is a data structure in which the elements contain references to the next (and optionally the previous) element. linked lists offer o(1) insert after and removal of any element with known memory location, o(1) list concatenation, and o(1) access at the front (and optionally back) ...                         "
       ]
      },
      {
       "output_type": "stream",
       "stream": "stdout",
       "text": [
        "\n",
        "\r\n",
        "treeview control is used to display hierarchical information.                          "
       ]
      },
      {
       "output_type": "stream",
       "stream": "stdout",
       "text": [
        "\n",
        "\r\n",
        "java (not to be confused with javascript) is a class-based, object-oriented, strongly typed, reflective language and runtime environment (jre). java programs are compiled to bytecode and run in a virtual machine (jvm) enabling a \"write once, run anywhere\" (wora) methodology.                         "
       ]
      },
      {
       "output_type": "stream",
       "stream": "stdout",
       "text": [
        "\n",
        "\r\n",
        "ruby on rails is an open-source web development framework written in ruby. ruby on rails follows the principle of convention over configuration, freeing you from having to re-invent things to stay productive. ruby on rails 4.0 is the latest edge version available.                         "
       ]
      },
      {
       "output_type": "stream",
       "stream": "stdout",
       "text": [
        "\n",
        "\r\n",
        "android widget that displays text to the user and optionally allows them to edit it. a textview is a complete text editor, however the basic class is configured to not allow editing                         "
       ]
      },
      {
       "output_type": "stream",
       "stream": "stdout",
       "text": [
        "\n",
        "\r\n",
        "a map is a visual representation of an area\u2014a symbolic depiction highlighting relationships between elements of that space such as objects, regions, and themes.                         "
       ]
      },
      {
       "output_type": "stream",
       "stream": "stdout",
       "text": [
        "\n",
        "\r\n",
        "a piece of code is thread-safe if it only manipulates data structures in a way that allows consistent execution of this code by multiple threads. a code may be thread safe, conditionally safe (mutual exclusion required) or unsafe (can only be safely used by one thread).                         "
       ]
      },
      {
       "output_type": "stream",
       "stream": "stdout",
       "text": [
        "\n",
        "\r\n",
        "refers to a web, database, or web service (api) connection used to transfer data between two endpoints.                         "
       ]
      },
      {
       "output_type": "stream",
       "stream": "stdout",
       "text": [
        "\n",
        "\r\n",
        "in computer science a window is a graphical interface to let a user interact with a program.\r\n",
        "questions regarding microsoft windows should use the \"windows\" tag.                         "
       ]
      },
      {
       "output_type": "stream",
       "stream": "stdout",
       "text": [
        "\n",
        "\r\n",
        "a graphical widget in a gui with which a user may set a value by moving an indicator.                         "
       ]
      },
      {
       "output_type": "stream",
       "stream": "stdout",
       "text": [
        "\n",
        "\r\n",
        "simple mail transfer protocol (smtp) is an internet standard for electronic mail (e-mail) transmission across internet protocol (ip) networks.                         "
       ]
      },
      {
       "output_type": "stream",
       "stream": "stdout",
       "text": [
        "\n",
        "\r\n",
        "the jquery validation plugin is a jquery plugin by j\u00f6rn zaefferer. its purpose is to perform client-side form validation.                         "
       ]
      },
      {
       "output_type": "stream",
       "stream": "stdout",
       "text": [
        "\n",
        "\r\n",
        "shifting the contents of the viewport up/down (vertical scrolling) or left/right (horizontal scrolling).                         "
       ]
      },
      {
       "output_type": "stream",
       "stream": "stdout",
       "text": [
        "\n",
        "\r\n",
        "erlang is a general-purpose, garbage-collected programming language and runtime environment, with built-in support for concurrency, distribution and fault tolerance.                          "
       ]
      },
      {
       "output_type": "stream",
       "stream": "stdout",
       "text": [
        "\n",
        "\r\n",
        "nosql (sometimes expanded to \"not only sql\") is a broad class of database management systems that differ from the classic model of the relational database management system (rdbms) in some significant ways.                         "
       ]
      },
      {
       "output_type": "stream",
       "stream": "stdout",
       "text": [
        "\n",
        "\r\n",
        "a time zone is a region on earth that has a uniform, legally mandated standard time.                         "
       ]
      },
      {
       "output_type": "stream",
       "stream": "stdout",
       "text": [
        "\n",
        "\r\n",
        "tkinter is the standard python interface to the \"tk\" graphical user interface toolkit.                         "
       ]
      },
      {
       "output_type": "stream",
       "stream": "stdout",
       "text": [
        "\n",
        "\r\n",
        "refers to jquery's animate() method. for generic graphical animations, see the animation tag.                         "
       ]
      },
      {
       "output_type": "stream",
       "stream": "stdout",
       "text": [
        "\n",
        "\r\n",
        "a number is a mathematical object used to count and measure.                         "
       ]
      },
      {
       "output_type": "stream",
       "stream": "stdout",
       "text": [
        "\n",
        "\r\n",
        "wordpress plugins allow users and developers to extend the default wordpress functionality.                         "
       ]
      },
      {
       "output_type": "stream",
       "stream": "stdout",
       "text": [
        "\n",
        "\r\n",
        "refers to a graphical dialog used to display important information to the user. these dialogs appear above all other content, blocking application flow until user input is received.                         "
       ]
      },
      {
       "output_type": "stream",
       "stream": "stdout",
       "text": [
        "\n",
        "\r\n",
        "apache (http server) /\u0259\u02c8p\u00e6t\u0283i\u02d0/ is a modular cross-platform web server software with a large variety of features(called modules) including ssl, compression, log, proxy and server-side programming language interfaces like perl, python, tcl, and php.                         "
       ]
      },
      {
       "output_type": "stream",
       "stream": "stdout",
       "text": [
        "\n",
        "\r\n",
        "user datagram protocol is one of the messaging protocols of the ip protocol stack.  with udp, computer applications can send messages to other hosts on an internet protocol (ip) network without requiring prior communications to set up special transmission channels or data paths.                          "
       ]
      },
      {
       "output_type": "stream",
       "stream": "stdout",
       "text": [
        "\n",
        "\r\n",
        "mocking and faking are ways to isolate code or components to ensure that unit tests run against the testable unit of code only without actually utilizing other components or dependencies of an application. mocking differs from faking in that a mock can be inspected to assert the results of a test.                         "
       ]
      },
      {
       "output_type": "stream",
       "stream": "stdout",
       "text": [
        "\n",
        "\r\n",
        "jtable is a java swing component used to display and edit regular two-dimensional tables of cells.                         "
       ]
      },
      {
       "output_type": "stream",
       "stream": "stdout",
       "text": [
        "\n",
        "\r\n",
        "apple is the company that manufactures macs and ios devices. do not use this tag; use tags more relevant to the os and device/computer you're targeting.                         "
       ]
      },
      {
       "output_type": "stream",
       "stream": "stdout",
       "text": [
        "\n",
        "\r\n",
        "the java native interface (jni) gives both the ability for jvm implementations to run system native code, and the ability for native code to run java code (by creating new jvm instances). the most common target languages for jni are c and c++, for which at least the sun/oracle jdk implementations ...                         "
       ]
      },
      {
       "output_type": "stream",
       "stream": "stdout",
       "text": [
        "\n",
        "\r\n",
        "openssl is an open source software toolkit that implements the ssl/tls protocol, as well as a general cryptographic library.                         "
       ]
      },
      {
       "output_type": "stream",
       "stream": "stdout",
       "text": [
        "\n",
        "\r\n",
        "django's built-in, automatic admin interface. (django.contrib.admin)                         "
       ]
      },
      {
       "output_type": "stream",
       "stream": "stdout",
       "text": [
        "\n",
        "\r\n",
        "position refers to the location of an element relative to its container, typically on the horizontal and vertical axes.                         "
       ]
      },
      {
       "output_type": "stream",
       "stream": "stdout",
       "text": [
        "\n",
        "\r\n",
        "a programming language is an artificial language designed to express computations that can be performed by a machine, particularly a computer.                         "
       ]
      },
      {
       "output_type": "stream",
       "stream": "stdout",
       "text": [
        "\n",
        "\r\n",
        "xhr (also known as xmlhttprequest) is a javascript object, which is designed to communicate with servers. it is an object that initializes the ajax request in javascript. this object is used to send requests to, and receive responses from, a server asynchronously (i.e. in the background without ...                         "
       ]
      },
      {
       "output_type": "stream",
       "stream": "stdout",
       "text": [
        "\n",
        "\r\n",
        "the process of installation is the deployment of an application onto a device for future execution and use.                         "
       ]
      },
      {
       "output_type": "stream",
       "stream": "stdout",
       "text": [
        "\n",
        "\r\n",
        "uikit is the object-oriented framework that is responsible for most of the ios user interface.                         "
       ]
      },
      {
       "output_type": "stream",
       "stream": "stdout",
       "text": [
        "\n",
        "\r\n",
        "metro (now \"microsoft design language\") was an internal code name for a typography-based user interface design language created by microsoft. it is featured prominently in windows phone 7 and windows 8.                         "
       ]
      },
      {
       "output_type": "stream",
       "stream": "stdout",
       "text": [
        "\n",
        "\r\n",
        "a cursor is a control structure for traversing records in a database. also a moving placement or pointer that indicates a position in a computer screen.                         "
       ]
      },
      {
       "output_type": "stream",
       "stream": "stdout",
       "text": [
        "\n",
        "\r\n",
        "fancybox is a tool that offers a nice and elegant way to add zooming functionality for images, html content and multi-media on your webpages.                         "
       ]
      },
      {
       "output_type": "stream",
       "stream": "stdout",
       "text": [
        "\n",
        "\r\n",
        "a file system is a way of organizing data on a computer system. typically a file system consists of files, folders (normally a special kind of file) and an api that can be used for interacting with files.                         "
       ]
      },
      {
       "output_type": "stream",
       "stream": "stdout",
       "text": [
        "\n",
        "\r\n",
        "flex 4 is an apache (previously adobe) framework used to build ria for flash player.                         "
       ]
      },
      {
       "output_type": "stream",
       "stream": "stdout",
       "text": [
        "\n",
        "\r\n",
        "a computer program responsible for installing other computer programs (aka software) on a system.                         "
       ]
      },
      {
       "output_type": "stream",
       "stream": "stdout",
       "text": [
        "\n",
        "\r\n",
        "gdb is the standard debugger for the gnu software system.                         "
       ]
      },
      {
       "output_type": "stream",
       "stream": "stdout",
       "text": [
        "\n",
        "\r\n",
        "the timeout term refers to a predefined period of time allowed to elapse before an event is to occur. timeout may also refer to an event that takes place after a specified period of time elapses.                         "
       ]
      },
      {
       "output_type": "stream",
       "stream": "stdout",
       "text": [
        "\n",
        "\r\n",
        "questions about creating or managing activities in android. in android applications, an activity is a component that provides a user interface allowing the user to do something. simple examples are: dial the phone, take a photo, send an email, or view a map.                         "
       ]
      },
      {
       "output_type": "stream",
       "stream": "stdout",
       "text": [
        "\n",
        "\r\n",
        "g++ is the c++ frontend to the gnu compiler collection (gcc).                          "
       ]
      },
      {
       "output_type": "stream",
       "stream": "stdout",
       "text": [
        "\n",
        "\r\n",
        "to copy is to create a duplicate of an object without destroying the original. commonly seen in text editors that will let you copy some text and paste it somewhere else.                         "
       ]
      },
      {
       "output_type": "stream",
       "stream": "stdout",
       "text": [
        "\n",
        "\r\n",
        "the tool called make is a build manager which compares the last modification times of various files and performs user specified actions (commands) when the \"target\" files are found to be older than their dependencies. canonically it is used to build programs, but it can be used to manage any process ...                         "
       ]
      },
      {
       "output_type": "stream",
       "stream": "stdout",
       "text": [
        "\n",
        "\r\n",
        "jasperreports, an open source java reporting tool, can be used in all java applications from desktop to web applications. jasperreports exports a variety of formats (including pdf, html, microsoft excel, odt, comma-separated value, xml, and more).                         "
       ]
      },
      {
       "output_type": "stream",
       "stream": "stdout",
       "text": [
        "\n",
        "\r\n",
        "locking allows different types of resources to be used exclusively by one process at a time.                         "
       ]
      },
      {
       "output_type": "stream",
       "stream": "stdout",
       "text": [
        "\n",
        "\r\n",
        "refactoring is a disciplined technique for restructuring an existing body of code, altering its internal structure without changing its external behavior.                         "
       ]
      },
      {
       "output_type": "stream",
       "stream": "stdout",
       "text": [
        "\n",
        "\r\n",
        "tinymce is a platform independent web-based javascript html wysiwyg editor control released as open source under lgpl by moxiecode systems ab. use this tag for questions regarding the usage of tinymce and its integration into cms and other web based applications.                         "
       ]
      },
      {
       "output_type": "stream",
       "stream": "stdout",
       "text": [
        "\n",
        "\r\n",
        "wpf controls include usercontrols, which are composite collections of other controls, and customcontrols, which are controls built with wpf styles and templates.                         "
       ]
      },
      {
       "output_type": "stream",
       "stream": "stdout",
       "text": [
        "\n",
        "\r\n",
        "redis is an open source, advanced key-value store. it is often referred to as a data structure server since keys can contain strings, hashes, lists, sets and sorted sets.                         "
       ]
      },
      {
       "output_type": "stream",
       "stream": "stdout",
       "text": [
        "\n",
        "\r\n",
        "lightweight directory access protocol, an application protocol for reading and editing directories over an ip network.                         "
       ]
      },
      {
       "output_type": "stream",
       "stream": "stdout",
       "text": [
        "\n",
        "\r\n",
        "char typically refers to a character data-type, representing letters of text.                         "
       ]
      },
      {
       "output_type": "stream",
       "stream": "stdout",
       "text": [
        "\n",
        "\r\n",
        "short message service (sms) is the standardized text communication service component of phone, web or mobile communication systems that allow the exchange of short text messages between fixed line or mobile phone devices.                         "
       ]
      },
      {
       "output_type": "stream",
       "stream": "stdout",
       "text": [
        "\n",
        "\r\n",
        "radio buttons are elements used in forms. they let a user select exactly one of a limited number of choices.                         "
       ]
      },
      {
       "output_type": "stream",
       "stream": "stdout",
       "text": [
        "\n",
        "\r\n",
        "a user is an agent, either a human agent (end-user) or software agent, who uses a computer or network service.                         "
       ]
      },
      {
       "output_type": "stream",
       "stream": "stdout",
       "text": [
        "\n",
        "\r\n",
        "a data structure that uses a hash function to map identifying values, known as keys, to their associated values                         "
       ]
      },
      {
       "output_type": "stream",
       "stream": "stdout",
       "text": [
        "\n",
        "\r\n",
        "log4j is a popular java-based logging utility. it is a project of the apache software foundation and is licensed under the apache software license, version 2.0                         "
       ]
      },
      {
       "output_type": "stream",
       "stream": "stdout",
       "text": [
        "\n",
        "\r\n",
        "windows internet explorer 9 (abbreviated as ie9) is a web browser developed by microsoft, released on 14 march 2011.  it is available for windows vista sp2 and above, windows phone 7.1\u20137.8, and the xbox 360. it was replaced by ie10 on windows 8, windows server 2012 and windows phone 8.                         "
       ]
      },
      {
       "output_type": "stream",
       "stream": "stdout",
       "text": [
        "\n",
        "\r\n",
        "a dataset is a collection of data, generally represented in tabular form, with columns signifying different variables and rows signify different members of the set.                         "
       ]
      },
      {
       "output_type": "stream",
       "stream": "stdout",
       "text": [
        "\n",
        "\r\n",
        "a firefox add-on is a way of adding to or modifying the firefox web browser. most commonly, questions in this tag are about firefox extensions, which add new functionality to the browser, although \"add-on\" may also refer to themes or plugins.                         "
       ]
      },
      {
       "output_type": "stream",
       "stream": "stdout",
       "text": [
        "\n",
        "\r\n",
        "an icon is a small pictogram used in graphical user interfaces to supplement the presentation of textual information to the user.                         "
       ]
      },
      {
       "output_type": "stream",
       "stream": "stdout",
       "text": [
        "\n",
        "\r\n",
        "twitter is a microblogging service that lets users post \"tweets\" of up to 140 characters. these can also be posted via its api (http://dev.twitter.com).                         "
       ]
      },
      {
       "output_type": "stream",
       "stream": "stdout",
       "text": [
        "\n",
        "\r\n",
        "drupal 6 is the drupal version released on february 13, 2008. rather than using this tag, consider posting your question directly on http://drupal.stackexchange.com/.                         "
       ]
      },
      {
       "output_type": "stream",
       "stream": "stdout",
       "text": [
        "\n",
        "\r\n",
        "a foreign key is a field in a relational table that matches a candidate key of another table. the foreign key can be used to cross-reference tables.                         "
       ]
      },
      {
       "output_type": "stream",
       "stream": "stdout",
       "text": [
        "\n",
        "\r\n",
        "sencha touch is a multi mobile device javascript library based on html5 and the model, view, controller pattern.  it is a product of sencha inc.                         "
       ]
      },
      {
       "output_type": "stream",
       "stream": "stdout",
       "text": [
        "\n",
        "\r\n",
        "a software application that services requests from clients using the hypertext transfer protocol.                         "
       ]
      },
      {
       "output_type": "stream",
       "stream": "stdout",
       "text": [
        "\n",
        "\r\n",
        "sqlalchemy is a python sql toolkit and object relational mapper that gives application developers the full power and flexibility of sql.                         "
       ]
      },
      {
       "output_type": "stream",
       "stream": "stdout",
       "text": [
        "\n",
        "\r\n",
        "an integer is a whole number that can be negative, positive, or zero. (i.e. ...-2, -1, 0, 1, 2...) use this tag for questions about using, storing, or manipulating integers.                         "
       ]
      },
      {
       "output_type": "stream",
       "stream": "stdout",
       "text": [
        "\n",
        "\r\n",
        "is a class used by wpf and silverlight to control animations, or a new ios 5 scheme for managing view controller navigation                         "
       ]
      },
      {
       "output_type": "stream",
       "stream": "stdout",
       "text": [
        "\n",
        "\r\n",
        "pandas is a library for panel data analysis, i.e. multidimensional time series and cross-sectional data sets commonly found in statistics, experimental science results, econometrics, or finance.                         "
       ]
      },
      {
       "output_type": "stream",
       "stream": "stdout",
       "text": [
        "\n",
        "\r\n",
        "a request is a message sent by a source to another object.                         "
       ]
      },
      {
       "output_type": "stream",
       "stream": "stdout",
       "text": [
        "\n",
        "\r\n",
        "a command is a directive to a computer program acting as an interpreter of some kind, in order to perform a specific task. most commonly a command is a directive to some kind of command line interface, such as a shell.                         "
       ]
      },
      {
       "output_type": "stream",
       "stream": "stdout",
       "text": [
        "\n",
        "\r\n",
        "the youtube apis and tools enable the integration of youtube's video content and functionality into a website, application, or device.                         "
       ]
      },
      {
       "output_type": "stream",
       "stream": "stdout",
       "text": [
        "\n",
        "\r\n",
        "interface builder is a visual design tool used to create user interfaces for apple's mac os x and ios platforms.                         "
       ]
      },
      {
       "output_type": "stream",
       "stream": "stdout",
       "text": [
        "\n",
        "\r\n",
        "consider whether your question would be better at http://statistics.stackexchange.com. statistics is the mathematical study of using probability to infer characteristics of a population from a limited number of samples or observations.                         "
       ]
      },
      {
       "output_type": "stream",
       "stream": "stdout",
       "text": [
        "\n",
        "\r\n",
        "machine learning provides computer algorithms that automatically discover patterns in data and make intelligent decisions from them.                         "
       ]
      },
      {
       "output_type": "stream",
       "stream": "stdout",
       "text": [
        "\n",
        "\r\n",
        "gtk+ is a highly usable, feature-rich toolkit for creating graphical user interfaces (guis) that boasts cross platform compatibility and an easy to use api.                         "
       ]
      },
      {
       "output_type": "stream",
       "stream": "stdout",
       "text": [
        "\n",
        "\r\n",
        "nsmutablearray represents a modifiable (mutable) array object for cocoa and cocoa touch.                         "
       ]
      },
      {
       "output_type": "stream",
       "stream": "stdout",
       "text": [
        "\n",
        "\r\n",
        "escaping is the process of applying an alternate meaning to a character or set of characters.                         "
       ]
      },
      {
       "output_type": "stream",
       "stream": "stdout",
       "text": [
        "\n",
        "\r\n",
        "positioning elements to the left or right of their containers using the css float attribute.                         "
       ]
      },
      {
       "output_type": "stream",
       "stream": "stdout",
       "text": [
        "\n",
        "\r\n",
        "httpwebrequest is a class for .net framework applications that provides a http-specific implementation of the webrequest class.                         "
       ]
      },
      {
       "output_type": "stream",
       "stream": "stdout",
       "text": [
        "\n",
        "\r\n",
        "webdriver is a tool for writing automated tests of websites. it aims to mimic the behavior of a real user, and as such interacts with the html of the application.\r\n",
        "rather than running as a javascript application within the browser (with the limitations this brings, such as the \"same origin\" ...                         "
       ]
      },
      {
       "output_type": "stream",
       "stream": "stdout",
       "text": [
        "\n",
        "\r\n",
        "segmentation faults occur when accessing memory which does not belong to your process. they are typically the result of an incorrect use of pointers or a buffer overflow.                         "
       ]
      },
      {
       "output_type": "stream",
       "stream": "stdout",
       "text": [
        "\n",
        "\r\n",
        "focus indicates the component of the graphical user interface which is currently selected to receive input.                         "
       ]
      },
      {
       "output_type": "stream",
       "stream": "stdout",
       "text": [
        "\n",
        "\r\n",
        "initialization deals with the (often dreaded) task of initializing the contents of your data structure. it's a common practice in statically-typed languages.                         "
       ]
      },
      {
       "output_type": "stream",
       "stream": "stdout",
       "text": [
        "\n",
        "\r\n",
        "google offers a variety of apis, mostly web apis for web developers. the apis are based on popular google consumer products, including google maps, google earth, adsense, adwords, google apps and youtube.                         "
       ]
      },
      {
       "output_type": "stream",
       "stream": "stdout",
       "text": [
        "\n",
        "\r\n",
        "interoperability is a requirement for one computer system or programming language to work with another.                         "
       ]
      },
      {
       "output_type": "stream",
       "stream": "stdout",
       "text": [
        "\n",
        "\r\n",
        "go, also called golang, is a programming language initially developed at google. it is a statically-typed language with syntax loosely derived from that of c, adding automatic memory management, type safety, some dynamic-typing capabilities, additional built-in types such as variable-length arrays ...                         "
       ]
      },
      {
       "output_type": "stream",
       "stream": "stdout",
       "text": [
        "\n",
        "\r\n",
        "prolog is the most commonly used logic programming language. it supports non-deterministic programming through backtracking and pattern matching through unification.                         "
       ]
      },
      {
       "output_type": "stream",
       "stream": "stdout",
       "text": [
        "\n",
        "\r\n",
        "a set of extensions to asp.net developed by microsoft for implementing ajax functionality.                         "
       ]
      },
      {
       "output_type": "stream",
       "stream": "stdout",
       "text": [
        "\n",
        "\r\n",
        "full text search involves searching documents, usually involving unstructured text, as opposed to searching text fields in a structured database.                         "
       ]
      },
      {
       "output_type": "stream",
       "stream": "stdout",
       "text": [
        "\n",
        "\r\n",
        "push notifications are alerts, badges, or sounds which are pushed to a mobile device from a remote server.\r\n",
        "\r\n",
        "apple delivers push notifications via the apple push notification service (apns). android devices receive push notifications via the google cloud messaging (gcm) service. in the past, ...                         "
       ]
      },
      {
       "output_type": "stream",
       "stream": "stdout",
       "text": [
        "\n",
        "\r\n",
        "this tag has multiple meanings.  please do not use this tag if you're just trying to find something.                         "
       ]
      },
      {
       "output_type": "stream",
       "stream": "stdout",
       "text": [
        "\n",
        "\r\n",
        "cassandra is a highly scalable, eventually consistent, distributed, structured row/column store.                         "
       ]
      },
      {
       "output_type": "stream",
       "stream": "stdout",
       "text": [
        "\n",
        "\r\n",
        "a dependency exists between two elements if changes to the definition of one element may cause changes to the other.                         "
       ]
      },
      {
       "output_type": "stream",
       "stream": "stdout",
       "text": [
        "\n",
        "\r\n",
        "this tag refers to serialization technologies which use xml as a data format.                         "
       ]
      },
      {
       "output_type": "stream",
       "stream": "stdout",
       "text": [
        "\n",
        "\r\n",
        "location is a specific position in physical space, e.g. a point on the surface of the earth described using latitude and longitude coordinates.\r\n",
        "this tag should not be used for questions related to the position of a virtual element e.g. position of a pixel on a bitmap or position of a layout element ...                         "
       ]
      },
      {
       "output_type": "stream",
       "stream": "stdout",
       "text": [
        "\n",
        "\r\n",
        "a jframe is a component and top-level container of the jfc/swing framework.                         "
       ]
      },
      {
       "output_type": "stream",
       "stream": "stdout",
       "text": [
        "\n",
        "\r\n",
        "embedded systems are computer systems which are an internal component of a product (that is, embedded within a product) for a specific, usually limited, purpose which includes control, reconfigurability, or translation.  examples include cell phones, digital watches, smart thermostats, automotive ...                         "
       ]
      },
      {
       "output_type": "stream",
       "stream": "stdout",
       "text": [
        "\n",
        "\r\n",
        "it may refer to text formatting, content format, file format, document file format, etc.                         "
       ]
      },
      {
       "output_type": "stream",
       "stream": "stdout",
       "text": [
        "\n",
        "\r\n",
        "gmail is a webmail service offered by google. use this tag for programming questions related to gmail's apis.                         "
       ]
      },
      {
       "output_type": "stream",
       "stream": "stdout",
       "text": [
        "\n",
        "\r\n",
        "the singleton is a design pattern to ensure that exactly one application-wide instance of a particular class exists. \r\n",
        "                         "
       ]
      },
      {
       "output_type": "stream",
       "stream": "stdout",
       "text": [
        "\n",
        "\r\n",
        "c++/cli is an extension of the c++ programming language. it extends the syntax to allow compilation of a mixture of native code and code for microsoft's common language infrastructure (cli). it is a replacement for microsoft's now deprecated managed extensions for c++.                         "
       ]
      },
      {
       "output_type": "stream",
       "stream": "stdout",
       "text": [
        "\n",
        "\r\n",
        "a uitextfield object is a control that displays editable text and sends an action message to a target object when the user presses the return button. you typically use this class to gather small amounts of text from the user and perform some immediate action, such as a search operation, based on ...                         "
       ]
      },
      {
       "output_type": "stream",
       "stream": "stdout",
       "text": [
        "\n",
        "\r\n",
        "displays an arbitrary image, such as an icon.                         "
       ]
      },
      {
       "output_type": "stream",
       "stream": "stdout",
       "text": [
        "\n",
        "\r\n",
        "app store is apple's online digital distribution store of applications, a repository of apps to run on ios mobile devices, as well as desktop mac os environments.  stackoverflow questions tagged with this perform programmatic interactions with the app store (such as listing apps or renewing ...                         "
       ]
      },
      {
       "output_type": "stream",
       "stream": "stdout",
       "text": [
        "\n",
        "\r\n",
        "the name given to the process of encoding data such that it uses lesser number of bits as compared to the original representation.                         "
       ]
      },
      {
       "output_type": "stream",
       "stream": "stdout",
       "text": [
        "\n",
        "\r\n",
        "touch-based interfaces have unique considerations that do not apply to other modes of input, and vice versa.                         "
       ]
      },
      {
       "output_type": "stream",
       "stream": "stdout",
       "text": [
        "\n",
        "\r\n",
        "questions about data comparison and efficient ways to accomplish it. please avoid using this tag for generic (meta) comparison of two issues or concepts.                         "
       ]
      },
      {
       "output_type": "stream",
       "stream": "stdout",
       "text": [
        "\n",
        "\r\n",
        "wxpython is a python wrapper for the cross-platform c++ gui api wxwidgets.                         "
       ]
      },
      {
       "output_type": "stream",
       "stream": "stdout",
       "text": [
        "\n",
        "\r\n",
        "an action of moving between major version of any framework, product or language, or, just as commonly, alteration to the data schema of an application. this might involve modifying existing data to make it work with the new version.                         "
       ]
      },
      {
       "output_type": "stream",
       "stream": "stdout",
       "text": [
        "\n",
        "\r\n",
        "zip is a format for compressed file archives, allowing packaging of multiple files and directories into a single file.                           "
       ]
      },
      {
       "output_type": "stream",
       "stream": "stdout",
       "text": [
        "\n",
        "\r\n",
        "cygwin is a unix-like environment and command-line interface for microsoft windows. cygwin provides native integration of windows-based applications, data, and other system resources with applications, software tools, and data of the unix-like environment. thus it is possible to launch windows ...                         "
       ]
      },
      {
       "output_type": "stream",
       "stream": "stdout",
       "text": [
        "\n",
        "\r\n",
        "streaming is the process of delivering digital multimedia content from a provider to a consumer over a network. the provider may have the data stored or may be relaying it from a live source.                         "
       ]
      },
      {
       "output_type": "stream",
       "stream": "stdout",
       "text": [
        "\n",
        "\r\n",
        "socket.io aims to make realtime apps possible in every browser and mobile device, blurring the differences between the different transport mechanisms. it supports multiple transports, such as websockets, flash sockets, long polling and more, automatically falling back when a transport fails.                         "
       ]
      },
      {
       "output_type": "stream",
       "stream": "stdout",
       "text": [
        "\n",
        "\r\n",
        "the actionbar is android's window feature that identifies the application and user location, and provides user actions and navigation modes.                         "
       ]
      },
      {
       "output_type": "stream",
       "stream": "stdout",
       "text": [
        "\n",
        "\r\n",
        "db2 is a family of database servers developed by ibm. supported platforms for db2 servers are z/os (formerly os/390), linux, unix, and windows (referred to collectively as db2 for luw), and ibm i (formerly os/400 or i5/os). originally designed as a relational engine, ibm has expanded db2's ...                         "
       ]
      },
      {
       "output_type": "stream",
       "stream": "stdout",
       "text": [
        "\n",
        "\r\n",
        "issues around forms and graphics being drawn onto a computer screen, windowing system or device                         "
       ]
      },
      {
       "output_type": "stream",
       "stream": "stdout",
       "text": [
        "\n",
        "\r\n",
        "usb is an acronym for universal serial bus, a standard for a serial host-to-device protocol defined by the usb implementors forum.                          "
       ]
      },
      {
       "output_type": "stream",
       "stream": "stdout",
       "text": [
        "\n",
        "\r\n",
        "cmake is a cross-platform, open-source build system. it generates native makefiles and project files that can be used from the command line or integrated development environment of your choice.\r\n",
        "                         "
       ]
      },
      {
       "output_type": "stream",
       "stream": "stdout",
       "text": [
        "\n",
        "\r\n",
        "pthreads (posix threads) is a standardised c-based api for creating and manipulating threads on a posix-compliant system. it is defined by the standard \"posix.1c, threads extensions (ieee std 1003.1c-1995)\", and subsequently by the single unix specification.                         "
       ]
      },
      {
       "output_type": "stream",
       "stream": "stdout",
       "text": [
        "\n",
        "\r\n",
        "zend framework 2 is a php 5.3+ mvc framework and component library.                         "
       ]
      },
      {
       "output_type": "stream",
       "stream": "stdout",
       "text": [
        "\n",
        "\r\n",
        "jersey is the open source, production quality, jax-rs (jsr 311) reference implementation for building restful web services.                         "
       ]
      },
      {
       "output_type": "stream",
       "stream": "stdout",
       "text": [
        "\n",
        "\r\n",
        "a comment is a programming language construct used to embed non-compiled, programmer-readable annotations in the source code of a computer program.                         "
       ]
      },
      {
       "output_type": "stream",
       "stream": "stdout",
       "text": [
        "\n",
        "\r\n",
        "a timestamp is the time at which an event is recorded by a computer system. the timestamp term may also refer to unix time or to the timestamp data type.                         "
       ]
      },
      {
       "output_type": "stream",
       "stream": "stdout",
       "text": [
        "\n",
        "\r\n",
        "in-app purchase usually refers to the acquisition of a feature for an application from within the application itself. also, it can mean the buying of digital goods from an application. the context for this concept is usually mobile development.                         "
       ]
      },
      {
       "output_type": "stream",
       "stream": "stdout",
       "text": [
        "\n",
        "\r\n",
        "pyqt is a set of python bindings for digia's qt application framework and runs on all platforms supported by qt including windows, macos/x and linux.                         "
       ]
      },
      {
       "output_type": "stream",
       "stream": "stdout",
       "text": [
        "\n",
        "\r\n",
        "the property which determines the size of an object on the y-axis.                         "
       ]
      },
      {
       "output_type": "stream",
       "stream": "stdout",
       "text": [
        "\n",
        "\r\n",
        "javascript framework for mobile devices, ui interface, dataaccess and encapsulation.\r\n",
        "                         "
       ]
      },
      {
       "output_type": "stream",
       "stream": "stdout",
       "text": [
        "\n",
        "\r\n",
        "corresponding every element of a given set to a unique element of another set                         "
       ]
      },
      {
       "output_type": "stream",
       "stream": "stdout",
       "text": [
        "\n",
        "\r\n",
        "this tag relates to text editors, source code editors and programs specifically designed for modifying plain text files used in computer programming.                         "
       ]
      },
      {
       "output_type": "stream",
       "stream": "stdout",
       "text": [
        "\n",
        "\r\n",
        "size in computing can refer to various dimensions: size in bits, in bytes, in pixels, in memory, in disk space, etc                         "
       ]
      },
      {
       "output_type": "stream",
       "stream": "stdout",
       "text": [
        "\n",
        "\r\n",
        "to store (data) in a computer or on a storage device.                         "
       ]
      },
      {
       "output_type": "stream",
       "stream": "stdout",
       "text": [
        "\n",
        "\r\n",
        "a stack is a last in, first out (lifo) abstract data type and data structure.  perhaps the most common use of stacks is to store subroutine arguments and return addresses.                         "
       ]
      },
      {
       "output_type": "stream",
       "stream": "stdout",
       "text": [
        "\n",
        "\r\n",
        "this tag relates to any of various nested entities or operations in programming.                         "
       ]
      },
      {
       "output_type": "stream",
       "stream": "stdout",
       "text": [
        "\n",
        "\r\n",
        "in gui (inc. web page) context, alignment refers to the positioning of visual elements.\r\n",
        "in programming context, alignment is the placement of objects on memory addresses, usually a multiple of some small factor.                         "
       ]
      },
      {
       "output_type": "stream",
       "stream": "stdout",
       "text": [
        "\n",
        "\r\n",
        "an argument is usually defined as the actual value passed to a function, procedure, or command line program. this also refers to the array-like `arguments` object in javascript.                         "
       ]
      },
      {
       "output_type": "stream",
       "stream": "stdout",
       "text": [
        "\n",
        "\r\n",
        "devexpress is a component vendor for a variety of controls across different technologies.  they allow for more customization than the standard-issue controls.                         "
       ]
      },
      {
       "output_type": "stream",
       "stream": "stdout",
       "text": [
        "\n",
        "\r\n",
        "this tag is for questions related to the internet protocol. you may want to use the tag [ip-address] instead of or in conjunction with this tag. for questions about intellectual property, use [intellectual-property] instead.                         "
       ]
      },
      {
       "output_type": "stream",
       "stream": "stdout",
       "text": [
        "\n",
        "\r\n",
        "microsoft corporation is a company develops, manufactures, licenses, and supports a wide range of products and services predominantly related to computing through its various product divisions. this tag is too general to be useful on most questions; consider using tags more relevant to the software ...                         "
       ]
      },
      {
       "output_type": "stream",
       "stream": "stdout",
       "text": [
        "\n",
        "\r\n",
        "installation (or setup) of a program (including drivers, plugins, etc.) is the act of putting the program onto a computer system so that it can be executed.                         "
       ]
      },
      {
       "output_type": "stream",
       "stream": "stdout",
       "text": [
        "\n",
        "\r\n",
        "the windows registry is a database where configuration settings for hardware, software and the windows operating system itself are saved.                         "
       ]
      },
      {
       "output_type": "stream",
       "stream": "stdout",
       "text": [
        "\n",
        "\r\n",
        "enterprise javabeans (ejb) is a managed, server-side component architecture for modular construction of enterprise applications. the ejb specification is one of several [java] apis in the [java ee] specification.                         "
       ]
      },
      {
       "output_type": "stream",
       "stream": "stdout",
       "text": [
        "\n",
        "\r\n",
        "in software engineering, continuous integration (ci) implements the continuous building and automated testing of the full software product on a frequent schedule. at least once a day, often several times a day and sometimes as often as after every check in to the version control system.                         "
       ]
      },
      {
       "output_type": "stream",
       "stream": "stdout",
       "text": [
        "\n",
        "\r\n",
        "test-driven development (tdd) involves writing a failing automated test to specify what is to be built. the test is then made to pass by writing code which satisfies the tested condition. finally, the code is refactored.                         "
       ]
      },
      {
       "output_type": "stream",
       "stream": "stdout",
       "text": [
        "\n",
        "\r\n",
        "meteor is a modular platform for developing client/server applications in pure javascript.                         "
       ]
      },
      {
       "output_type": "stream",
       "stream": "stdout",
       "text": [
        "\n",
        "\r\n",
        "widget that enables users of facebook to \"like\" websites, photos, objects, posts, etc.\r\n",
        "                         "
       ]
      },
      {
       "output_type": "stream",
       "stream": "stdout",
       "text": [
        "\n",
        "\r\n",
        "the uitabbarcontroller class implements a specialized ios view controller that manages a radio-style selection interface.                         "
       ]
      },
      {
       "output_type": "stream",
       "stream": "stdout",
       "text": [
        "\n",
        "\r\n",
        "an immutable, integer indexed, array of objects from apple foundation framework.                          "
       ]
      },
      {
       "output_type": "stream",
       "stream": "stdout",
       "text": [
        "\n",
        "\r\n",
        "open database connectivity (odbc) provides a standard software interface for accessing database management systems (dbms).                         "
       ]
      },
      {
       "output_type": "stream",
       "stream": "stdout",
       "text": [
        "\n",
        "\r\n",
        "the client-server model is a centralized model, in which a server performs a specialized service (such as http, smtp, etc.) for multiple clients on request.                         "
       ]
      },
      {
       "output_type": "stream",
       "stream": "stdout",
       "text": [
        "\n",
        "\r\n",
        "three.js is a lightweight cross-browser javascript library/api used to create and display animated 3d computer graphics on a web browser. three.js scripts may be used in conjunction with the html5 canvas element, svg or webgl.                          "
       ]
      },
      {
       "output_type": "stream",
       "stream": "stdout",
       "text": [
        "\n",
        "\r\n",
        "memcached is a simple object cache that caches information in memory, and can be used to improve the performance of dynamic web applications by reducing access time.                         "
       ]
      },
      {
       "output_type": "stream",
       "stream": "stdout",
       "text": [
        "\n",
        "\r\n",
        "centos is a community-supported, mainly free software operating system based on red hat enterprise linux (rhel). it exists to provide a free enterprise class computing platform and strives to maintain 100% binary compatibility with its upstream distribution. centos stands for community enterprise ...                         "
       ]
      },
      {
       "output_type": "stream",
       "stream": "stdout",
       "text": [
        "\n",
        "\r\n",
        "an sql update statement is used to change existing records in a table.                         "
       ]
      },
      {
       "output_type": "stream",
       "stream": "stdout",
       "text": [
        "\n",
        "\r\n",
        "a queue is an ordered, first-in-first-out data structure. typical implementations of queues support pushing elements to the back and popping them off the front position.                         "
       ]
      },
      {
       "output_type": "stream",
       "stream": "stdout",
       "text": [
        "\n",
        "\r\n",
        "canvas is an html element that allows for dynamic, scriptable rendering of 2d shapes, and bitmap images.                         "
       ]
      },
      {
       "output_type": "stream",
       "stream": "stdout",
       "text": [
        "\n",
        "\r\n",
        "flask is a microframework for python based on werkzeug, jinja 2 and good intentions.                         "
       ]
      },
      {
       "output_type": "stream",
       "stream": "stdout",
       "text": [
        "\n",
        "\r\n",
        "imagemagick is an open source software suite for displaying, converting and editing raster image files.                         "
       ]
      },
      {
       "output_type": "stream",
       "stream": "stdout",
       "text": [
        "\n",
        "\r\n",
        "selenium-webdriver provides an api to control and communicate with web browsers.                         "
       ]
      },
      {
       "output_type": "stream",
       "stream": "stdout",
       "text": [
        "\n",
        "\r\n",
        "the int is a datatype that represents an integer. it only goes up to a value known as the max_value or maxvalue, and then it will overflow.                         "
       ]
      },
      {
       "output_type": "stream",
       "stream": "stdout",
       "text": [
        "\n",
        "\r\n",
        "geometry is a branch of mathematics concerned with questions of shape, size, relative position of figures, and the properties of space.                         "
       ]
      },
      {
       "output_type": "stream",
       "stream": "stdout",
       "text": [
        "\n",
        "\r\n",
        "scheme is a functional programming language in the lisp family, closely modelled on lambda calculus with eager (applicative-order) evaluation.                         "
       ]
      },
      {
       "output_type": "stream",
       "stream": "stdout",
       "text": [
        "\n",
        "\r\n",
        "selectors are patterns that match against elements in a document tree. in a css rule, they are used to define styles for elements that match the pattern.                         "
       ]
      },
      {
       "output_type": "stream",
       "stream": "stdout",
       "text": [
        "\n",
        "\r\n",
        "this tag is for general questions regarding code that runs in the context of an operating system kernel (kernelspace, as opposed to userspace), including writing custom kernels.  questions about specific kernels should use a relevant tag (eg. [linux-kernel], [windows-kernel], [xnu]).\r\n",
        "\r\n",
        "this tag is ...                         "
       ]
      },
      {
       "output_type": "stream",
       "stream": "stdout",
       "text": [
        "\n",
        "\r\n",
        "cross-domain refers to web applications that communicate outside of their hosting domain / web server.  this can be in the form of network requests to other servers or sharing data with dom components served from different domains composed on the same web page.                         "
       ]
      },
      {
       "output_type": "stream",
       "stream": "stdout",
       "text": [
        "\n",
        "\r\n",
        "this tag is used for questions related to the arm (advanced risc machine) family of processor cores or systems using an arm core.                         "
       ]
      },
      {
       "output_type": "stream",
       "stream": "stdout",
       "text": [
        "\n",
        "\r\n",
        "lisp is a family of programming languages with a fully parenthesized polish prefix notation.                         "
       ]
      },
      {
       "output_type": "stream",
       "stream": "stdout",
       "text": [
        "\n",
        "\r\n",
        "windows phone is microsoft's mobile operating system and software development platform.                         "
       ]
      },
      {
       "output_type": "stream",
       "stream": "stdout",
       "text": [
        "\n",
        "\r\n",
        "themes and theming can be used to give another look and feel to existing ui and has a close relation to templating.                          "
       ]
      },
      {
       "output_type": "stream",
       "stream": "stdout",
       "text": [
        "\n",
        "\r\n",
        "runtime is the time during which a program is running (executing)                         "
       ]
      },
      {
       "output_type": "stream",
       "stream": "stdout",
       "text": [
        "\n",
        "\r\n",
        "can refer to the data store of a version control system containing the whole history of a project, or to an object that transfers data between the business layer of an application and its data store.                         "
       ]
      },
      {
       "output_type": "stream",
       "stream": "stdout",
       "text": [
        "\n",
        "\r\n",
        "actionbarsherlock is an extension of the compatibility library designed to facilitate the use of the action bar design pattern across all versions of android with a single api.                         "
       ]
      },
      {
       "output_type": "stream",
       "stream": "stdout",
       "text": [
        "\n",
        "\r\n",
        "jpanel is a container in the java swing framework that allows custom rendering using layout managers. jpanels can be nested for flexibility.  \r\n",
        "there is also a jquery plugin with the same name that provides accordions, tabs, and fieldsets from simple container mark up.                         "
       ]
      },
      {
       "output_type": "stream",
       "stream": "stdout",
       "text": [
        "\n",
        "\r\n",
        "a unique identifier used to retrieve a paired value.  used in hashtables and databases.                         "
       ]
      },
      {
       "output_type": "stream",
       "stream": "stdout",
       "text": [
        "\n",
        "\r\n",
        "tortoisesvn is a subversion client for windows, implemented as a shell extension.                         "
       ]
      },
      {
       "output_type": "stream",
       "stream": "stdout",
       "text": [
        "\n",
        "\r\n",
        "neo4j is an open-source graph database implemented in java. you can use it directly from java, all jvm languages and python or via the rest api with drivers in any language.                          "
       ]
      },
      {
       "output_type": "stream",
       "stream": "stdout",
       "text": [
        "\n",
        "\r\n",
        "sinatra is a domain specific language (dsl) for quickly creating web applications in ruby with minimal effort. it is an alternative to other ruby web application frameworks such as ruby on rails, merb, nitro, camping, and rango.                         "
       ]
      },
      {
       "output_type": "stream",
       "stream": "stdout",
       "text": [
        "\n",
        "\r\n",
        "the boolean data type represents simple true or false values.                         "
       ]
      },
      {
       "output_type": "stream",
       "stream": "stdout",
       "text": [
        "\n",
        "\r\n",
        "this tag should be used for questions about software that *provides* licensing services, such as a licensing server or client. don't use this tag to ask for legal advice about licensing.                         "
       ]
      },
      {
       "output_type": "stream",
       "stream": "stdout",
       "text": [
        "\n",
        "\r\n",
        "directx is a collection of apis for handling tasks related to multimedia, especially 3d graphics and game programming and video, on microsoft platforms.                         "
       ]
      },
      {
       "output_type": "stream",
       "stream": "stdout",
       "text": [
        "\n",
        "\r\n",
        "xampp is a cross-platform apache distribution bundled with mysql, php and perl.                         "
       ]
      },
      {
       "output_type": "stream",
       "stream": "stdout",
       "text": [
        "\n",
        "\r\n",
        "requirejs is a javascript file and module loader. it is optimized for in-browser use, but it can be used in other javascript environments, like rhino and node.                         "
       ]
      },
      {
       "output_type": "stream",
       "stream": "stdout",
       "text": [
        "\n",
        "\r\n",
        "the analysis required to assess the differences and similarities between two or more entities.                         "
       ]
      },
      {
       "output_type": "stream",
       "stream": "stdout",
       "text": [
        "\n",
        "\r\n",
        "a type of relationship between entities of types a and b which associates a list of entities of type b to an entity of type a and vice versa. types a and b may be the same type.                         "
       ]
      },
      {
       "output_type": "stream",
       "stream": "stdout",
       "text": [
        "\n",
        "\r\n",
        "microsoft sql server 2008 r2 reporting services provides a server-based platform designed to support a wide variety of reporting needs enabling organizations to deliver relevant information where needed.                         "
       ]
      },
      {
       "output_type": "stream",
       "stream": "stdout",
       "text": [
        "\n",
        "\r\n",
        "adobe systems is a software company headquartered in san jose, california, usa. it is best known for the technology behind pdf, photoshop, and flash.                         "
       ]
      },
      {
       "output_type": "stream",
       "stream": "stdout",
       "text": [
        "\n",
        "\r\n",
        "a client is an application or system that accesses a service made available by a server.                         "
       ]
      },
      {
       "output_type": "stream",
       "stream": "stdout",
       "text": [
        "\n",
        "\r\n",
        "windows xp is a microsoft graphical operating system edition for use on personal computers, including home and business desktops, laptops, and media centers. it was released on august 24, 2001. the name \"xp\" is short for \"experience.\"  this tag is for all flavors of xp, including xp home edition, xp ...                         "
       ]
      },
      {
       "output_type": "stream",
       "stream": "stdout",
       "text": [
        "\n",
        "\r\n",
        "broadcastreceiver is an android component that responds to system-wide broadcast announcements.                         "
       ]
      },
      {
       "output_type": "stream",
       "stream": "stdout",
       "text": [
        "\n",
        "\r\n",
        "a web browser is a software application for retrieving, presenting, and traversing information resources on the world wide web. (from wikipedia)                         "
       ]
      },
      {
       "output_type": "stream",
       "stream": "stdout",
       "text": [
        "\n",
        "\r\n",
        "a  is an html element (tag) used to create a multi-line plain-text editing field.                         "
       ]
      },
      {
       "output_type": "stream",
       "stream": "stdout",
       "text": [
        "\n",
        "\r\n",
        "swt: the standard widget toolkit is a user interface library for java maintained by the eclipse foundation. swt uses native widgets wherever possible to provide a look and feel consistent with the host platform.\r\n",
        "\r\n",
        "swt is a third-party library (not included in the jvm) and applications that rely on ...                         "
       ]
      },
      {
       "output_type": "stream",
       "stream": "stdout",
       "text": [
        "\n",
        "\r\n",
        "is a javascript based wysiwyg editor created for use within web pages. it is open source and plugin based making it both customizable and extensible.                          "
       ]
      },
      {
       "output_type": "stream",
       "stream": "stdout",
       "text": [
        "\n",
        "\r\n",
        "windows mobile is a mobile operating system developed by microsoft that was used in smartphones and mobile devices, but is being currently phased out to specialized markets. it is superseded by windows phone 7.                         "
       ]
      },
      {
       "output_type": "stream",
       "stream": "stdout",
       "text": [
        "\n",
        "\r\n",
        "in computer science, polymorphism is a programming language feature that allows values of different data types to be handled in a uniform manner.                         "
       ]
      },
      {
       "output_type": "stream",
       "stream": "stdout",
       "text": [
        "\n",
        "\r\n",
        "the apache struts web framework is a free open-source solution for creating java web applications. this framework has reached end of life status as of 2013-04-05.                         "
       ]
      },
      {
       "output_type": "stream",
       "stream": "stdout",
       "text": [
        "\n",
        "\r\n",
        "richfaces is a component library for jsf and an advanced framework for easily integrating ajax capabilities into business applications.                         "
       ]
      },
      {
       "output_type": "stream",
       "stream": "stdout",
       "text": [
        "\n",
        "\r\n",
        "the export is the automated or semi-automated output of data set from one data format to another. the term refers to both act of exporting and to the result of the action, i.e. exported data set.                         "
       ]
      },
      {
       "output_type": "stream",
       "stream": "stdout",
       "text": [
        "\n",
        "\r\n",
        "django views are mvc views; they control rendering (typically through templates), and the data displayed.                         "
       ]
      },
      {
       "output_type": "stream",
       "stream": "stdout",
       "text": [
        "\n",
        "\r\n",
        "the property which determines the size of an object on the x-axis.  the most common form of this measurement is in pixels or millimeters.                         "
       ]
      },
      {
       "output_type": "stream",
       "stream": "stdout",
       "text": [
        "\n",
        "\r\n",
        "sass (syntactically awesome stylesheets) is an extension of css adding features like nested rules, variables and mixins. this extends the possibility to write structured, manageable and reusable css. sass translates to standard css.                         "
       ]
      },
      {
       "output_type": "stream",
       "stream": "stdout",
       "text": [
        "\n",
        "\r\n",
        "unity3d is a commercial development platform for creating games, interactive 3d applications, training simulations, and medical and architectural visualizations.                         "
       ]
      },
      {
       "output_type": "stream",
       "stream": "stdout",
       "text": [
        "\n",
        "\r\n",
        "mongoose is a mongodb object modeling tool, written in javascript, designed to work in an asynchronous environment.                         "
       ]
      },
      {
       "output_type": "stream",
       "stream": "stdout",
       "text": [
        "\n",
        "\r\n",
        "linq-to-xml provides a sql-like query experience for navigating, parsing, and aggregating data stored in xml documents.                         "
       ]
      },
      {
       "output_type": "stream",
       "stream": "stdout",
       "text": [
        "\n",
        "\r\n",
        "video streaming is the process of delivering a video from a server to a client. this is different from simply downloading the entire video file, as the client is able to watch the video while it's being downloaded.                         "
       ]
      },
      {
       "output_type": "stream",
       "stream": "stdout",
       "text": [
        "\n",
        "\r\n",
        "html parsing refers to the process of converting an html document to a tree-based document object model (dom).                         "
       ]
      },
      {
       "output_type": "stream",
       "stream": "stdout",
       "text": [
        "\n",
        "\r\n",
        "a platform-as-a-service development environment delivered on salesforce.com - the platform is more correctly referred to as force.com. a dedicated salesforce stack exchange public beta is available for all your salesforce questions at http://salesforce.stackexchange.com/                         "
       ]
      },
      {
       "output_type": "stream",
       "stream": "stdout",
       "text": [
        "\n",
        "\r\n",
        "a certificate is an electronic document used in cryptography.                         "
       ]
      },
      {
       "output_type": "stream",
       "stream": "stdout",
       "text": [
        "\n",
        "\r\n",
        "arduino is an open-source electronics prototyping platform.                         "
       ]
      },
      {
       "output_type": "stream",
       "stream": "stdout",
       "text": [
        "\n",
        "\r\n",
        "latex is a macro package implemented on donald knuth's tex programming language and is used primarily for creating high quality written documents. note that http://tex.stackexchange.com is specifically dedicated to latex questions (and tex, and other related technologies).                         "
       ]
      },
      {
       "output_type": "stream",
       "stream": "stdout",
       "text": [
        "\n",
        "\r\n",
        "a return statement causes execution to leave the current subroutine and resume at the point in the code immediately after where the subroutine was called, known as its return address. the return address is saved, usually on the process's call stack, as part of the operation of making the subroutine ...                         "
       ]
      },
      {
       "output_type": "stream",
       "stream": "stdout",
       "text": [
        "\n",
        "\r\n",
        "the 'sum' function which returns the sum of the items in an array.                         "
       ]
      },
      {
       "output_type": "stream",
       "stream": "stdout",
       "text": [
        "\n",
        "\r\n",
        "a 64-bit architecture is usually a system where addresses (pointers) are 64 bits wide. sometimes, it can mean a system where the \u201cnatural\u201d size for integer computations (the word size) is 64 bits.                         "
       ]
      },
      {
       "output_type": "stream",
       "stream": "stdout",
       "text": [
        "\n",
        "\r\n",
        "a javascript-based sdk allowing developers to create native ios, android, hybrid, and mobile web apps.                         "
       ]
      },
      {
       "output_type": "stream",
       "stream": "stdout",
       "text": [
        "\n",
        "\r\n",
        "the abstract window toolkit (awt) is java's original platform-independent windowing, graphics, and user-interface widget toolkit.                         "
       ]
      },
      {
       "output_type": "stream",
       "stream": "stdout",
       "text": [
        "\n",
        "\r\n",
        "applescript is an end user scripting language that has been available in mac computers since system 7 pro (7.1.1). it allows for automation of system tasks, communication between processes, and creation of workflows, amongst other functions.                         "
       ]
      },
      {
       "output_type": "stream",
       "stream": "stdout",
       "text": [
        "\n",
        "\r\n",
        "windows store apps (formerly metro-style applications) are built on the windows runtime (winrt) and are available on the windows store. they target windows 8 and windows rt using .net for windows store apps and are immersive full-screen applications.                         "
       ]
      },
      {
       "output_type": "stream",
       "stream": "stdout",
       "text": [
        "\n",
        "\r\n",
        "nunit is an open source unit testing framework for microsoft .net written in c#. it serves the same purpose as junit does in the java world, and is one of many in the xunit family.                         "
       ]
      },
      {
       "output_type": "stream",
       "stream": "stdout",
       "text": [
        "\n",
        "\r\n",
        "phpunit is the de facto standard for writing unit tests for php code.                         "
       ]
      },
      {
       "output_type": "stream",
       "stream": "stdout",
       "text": [
        "\n",
        "\r\n",
        "facebook's javascript sdk provides a rich set of client-side functionality for accessing facebook's server-side api calls. it can collaborate with any sdk like php, c#, java, android, ios, etc                          "
       ]
      },
      {
       "output_type": "stream",
       "stream": "stdout",
       "text": [
        "\n",
        "\r\n",
        "a set is a collection in which no element is repeated, which may be able to enumerate its elements according to an ordering criterion (an \"ordered set\") or retain no order (an \"unordered set\").                         "
       ]
      },
      {
       "output_type": "stream",
       "stream": "stdout",
       "text": [
        "\n",
        "\r\n",
        "pdf generation is the process of creating a pdf document using various tools or libraries.                         "
       ]
      },
      {
       "output_type": "stream",
       "stream": "stdout",
       "text": [
        "\n",
        "\r\n",
        "the \"duplicates\" tag concerns detecting and/or dealing with multiple instances of items in collections.                         "
       ]
      },
      {
       "output_type": "stream",
       "stream": "stdout",
       "text": [
        "\n",
        "\r\n",
        "mongoid is an object-document-mapper (odm) for mongodb written in ruby.                         "
       ]
      },
      {
       "output_type": "stream",
       "stream": "stdout",
       "text": [
        "\n",
        "\r\n",
        "jetty is a widely used async java based http server and servlet engine supporting websockets and spdy protocols.                         "
       ]
      },
      {
       "output_type": "stream",
       "stream": "stdout",
       "text": [
        "\n",
        "\r\n",
        "the java message service (jms) api is a java message oriented middleware (mom) api for sending messages between two or more clients. jms is a part of the java platform, enterprise edition, and is defined by a specification developed under the java community process.                         "
       ]
      },
      {
       "output_type": "stream",
       "stream": "stdout",
       "text": [
        "\n",
        "\r\n",
        "the javafx platform enables developers to create and deploy ria applications that behave consistently across multiple platforms and browsers. it is built on java technology. \"javafx\" tag is mostly dedicated for javafx 1.3 and older releases, which used javafx script language. for newest javafx 2+ ...                         "
       ]
      },
      {
       "output_type": "stream",
       "stream": "stdout",
       "text": [
        "\n",
        "\r\n",
        "refers to url rewriting, or the restructuring of a url to improve readability and/or search engine optimization (seo).                         "
       ]
      },
      {
       "output_type": "stream",
       "stream": "stdout",
       "text": [
        "\n",
        "\r\n",
        "javafx 2 provides a java-based ui platform for creating standalone or browser-based rich client applications. its java api enables java developers to leverage existing skills and tools.                         "
       ]
      },
      {
       "output_type": "stream",
       "stream": "stdout",
       "text": [
        "\n",
        "\r\n",
        "profiling is the process of measuring an application or system by running an analysis tool called a profiler. profiling tools can focus on many aspects: functions call times and count, memory usage, cpu load, and resource usage.                          "
       ]
      },
      {
       "output_type": "stream",
       "stream": "stdout",
       "text": [
        "\n",
        "\r\n",
        "this tag is for questions about views, a database construct that allows a user to join several tables together or restrict access to certain data.                          "
       ]
      },
      {
       "output_type": "stream",
       "stream": "stdout",
       "text": [
        "\n",
        "\r\n",
        "adobe's official ide for the flex sdk.                         "
       ]
      },
      {
       "output_type": "stream",
       "stream": "stdout",
       "text": [
        "\n",
        "\r\n",
        "testing whether a data structure has a particular shape or contains particular values in certain locations. many functional languages provide pattern matching constructs. most questions in this tag should also have the tag for the language you are programming in. do not use this tag for regular ...                         "
       ]
      },
      {
       "output_type": "stream",
       "stream": "stdout",
       "text": [
        "\n",
        "\r\n",
        "associations typically refer to relationships between models in orms such as activerecord.                         "
       ]
      },
      {
       "output_type": "stream",
       "stream": "stdout",
       "text": [
        "\n",
        "\r\n",
        "a progress bar is a component in a graphical user interface used to convey the progress of a task, such as a download or file transfer.                         "
       ]
      },
      {
       "output_type": "stream",
       "stream": "stdout",
       "text": [
        "\n",
        "\r\n",
        "a report contains summarized information from a data source, usually in an end-user-friendly format, such as pdf or excel, although proprietary reporting tools (usually with built-in design tools) also exist.                         "
       ]
      },
      {
       "output_type": "stream",
       "stream": "stdout",
       "text": [
        "\n",
        "\r\n",
        "to append is to join or add on to the end of something.                         "
       ]
      },
      {
       "output_type": "stream",
       "stream": "stdout",
       "text": [
        "\n",
        "\r\n",
        "cucumber is a behavior driven development (bdd) tool.                         "
       ]
      },
      {
       "output_type": "stream",
       "stream": "stdout",
       "text": [
        "\n",
        "\r\n",
        "mkmapview is part of apple's map kit framework for developing location-aware ios applications, and provides an embeddable map interface. effective ios 6, the map kit framework uses apple's own map service. in ios 5.1 and earlier, the framework uses the google mobile maps service.                         "
       ]
      },
      {
       "output_type": "stream",
       "stream": "stdout",
       "text": [
        "\n",
        "\r\n",
        "asp.net membership gives you a built-in way to validate and store user credentials.                         "
       ]
      },
      {
       "output_type": "stream",
       "stream": "stdout",
       "text": [
        "\n",
        "\r\n",
        "png (portable network graphics) is a bitmapped image format using lossless data compression.                         "
       ]
      },
      {
       "output_type": "stream",
       "stream": "stdout",
       "text": [
        "\n",
        "\r\n",
        "authorization is the process of determining whether a user, program or device is allowed to access a protected resource in a particular way. authorization is a key theme in computer security practices.                         "
       ]
      },
      {
       "output_type": "stream",
       "stream": "stdout",
       "text": [
        "\n",
        "\r\n",
        "ibm websphere application server, a software application server, is the flagship product within ibm's websphere brand. websphere application server is built using open standards such as java ee, xml, and web services.                         "
       ]
      },
      {
       "output_type": "stream",
       "stream": "stdout",
       "text": [
        "\n",
        "\r\n",
        "operators are symbols that occur in nearly all programming and coding languages, for performing calculations and comparisons on data.                         "
       ]
      },
      {
       "output_type": "stream",
       "stream": "stdout",
       "text": [
        "\n",
        "\r\n",
        "tooltips are a gui (graphical user interface) element which typically pops up when the mouse pointer is hovering over an item in the gui and provides some contextual information or clarification.                         "
       ]
      },
      {
       "output_type": "stream",
       "stream": "stdout",
       "text": [
        "\n",
        "\r\n",
        "scipy is an open source library of algorithms and mathematical tools for the python programming language.                         "
       ]
      },
      {
       "output_type": "stream",
       "stream": "stdout",
       "text": [
        "\n",
        "\r\n",
        "unified modeling language, an object modeling and specification language used in software engineering.                         "
       ]
      },
      {
       "output_type": "stream",
       "stream": "stdout",
       "text": [
        "\n",
        "\r\n",
        "a label is a placeholder for text and other ui elements.                         "
       ]
      },
      {
       "output_type": "stream",
       "stream": "stdout",
       "text": [
        "\n",
        "\r\n",
        "core graphics is apple's framework for low-level drawing operations on mac os x and ios.                         "
       ]
      },
      {
       "output_type": "stream",
       "stream": "stdout",
       "text": [
        "\n",
        "\r\n",
        "hexadecimal (also base 16, or hex) is the base-16 positional numeral system, using the 16 symbols 0\u20139 and a\u2012f.                         "
       ]
      },
      {
       "output_type": "stream",
       "stream": "stdout",
       "text": [
        "\n",
        "\r\n",
        "operator overloading is a feature of a programming language that allows custom implementations for operators depending on the types of the operands involved.  some languages allow new operators to be defined while others only allow redefinition of existing ones.                         "
       ]
      },
      {
       "output_type": "stream",
       "stream": "stdout",
       "text": [
        "\n",
        "\r\n",
        "elasticsearch is an open source (apache 2), distributed, restful, search engine built on top of lucene.                         "
       ]
      },
      {
       "output_type": "stream",
       "stream": "stdout",
       "text": [
        "\n",
        "\r\n",
        "used for ordered and unordered lists and their list items in html, and also any list styles applied to them.                         "
       ]
      },
      {
       "output_type": "stream",
       "stream": "stdout",
       "text": [
        "\n",
        "\r\n",
        "jstl (jsp standard tag library) is a jsp based standard tag library which offers tags to control the flow in the jsp page, date/number formatting and internationalization facilities and several utility el functions.\r\n",
        "                         "
       ]
      },
      {
       "output_type": "stream",
       "stream": "stdout",
       "text": [
        "\n",
        "\r\n",
        "a viewgroup that manages the layout for the child views, which the user can swipe between.                         "
       ]
      },
      {
       "output_type": "stream",
       "stream": "stdout",
       "text": [
        "\n",
        "\r\n",
        "schema means shape, or more generally, plan. it may be xml schema or database schema.                         "
       ]
      },
      {
       "output_type": "stream",
       "stream": "stdout",
       "text": [
        "\n",
        "\r\n",
        "wolfram mathematica is a computer algebra system and programming language from wolfram research. [mathematica has its own stackexchange site](http://mathematica.stackexchange.com/).\r\n",
        "                         "
       ]
      },
      {
       "output_type": "stream",
       "stream": "stdout",
       "text": [
        "\n",
        "\r\n",
        "in computer science an entity is an object which has an identity and can be uniquely determined, holds storable information or can be processed. as the term has a very abstract and general meaning prefer to use this tag only in conjunction with other more specific tags.                         "
       ]
      },
      {
       "output_type": "stream",
       "stream": "stdout",
       "text": [
        "\n",
        "\r\n",
        "1) the common gateway interface is a standard defining how web server software can delegate web page generation to a stand-alone application or executable file. 2) computer generated imagery                         "
       ]
      },
      {
       "output_type": "stream",
       "stream": "stdout",
       "text": [
        "\n",
        "\r\n",
        "from the msdn documentation:\n",
        "\n",
        "\n",
        "  microsoft windows installer is an\n",
        "  installation and configuration service\n",
        "  provided with windows. the installer\n",
        "  service enables customers to provide\n",
        "  better corporate deployment and\n",
        "  provides a standard format for\n",
        "  component management. the installer\n",
        "  also ...                         "
       ]
      },
      {
       "output_type": "stream",
       "stream": "stdout",
       "text": [
        "\n",
        "\r\n",
        "adobe flex is a software development kit (sdk) released by adobe systems for the development and deployment of cross-platform rich internet applications based on the adobe flash platform.                         "
       ]
      },
      {
       "output_type": "stream",
       "stream": "stdout",
       "text": [
        "\n",
        "\r\n",
        "xmpp (extensible messaging and presence protocol) is an open, standard protocol for fast delivery of real-time messages.                         "
       ]
      },
      {
       "output_type": "stream",
       "stream": "stdout",
       "text": [
        "\n",
        "\r\n",
        "laravel 4 is the current version of the open-source php web development framework created by taylor otwell. laravel helps you create applications using simple, expressive syntax.                         "
       ]
      },
      {
       "output_type": "stream",
       "stream": "stdout",
       "text": [
        "\n",
        "\r\n",
        "core animation is apple's framework for performing hardware-accelerated animation of display elements on the mac and ios devices.  useful references include\r\n",
        "\r\n",
        "\r\n",
        "core animation programming guide\r\n",
        "animation types and timing programming guide\r\n",
        "core animation cookbook\r\n",
        "\r\n",
        "                         "
       ]
      },
      {
       "output_type": "stream",
       "stream": "stdout",
       "text": [
        "\n",
        "\r\n",
        "an attribute conferred to computer software or computing methods and concepts that are implemented and inter-operate on multiple computer platforms.                         "
       ]
      },
      {
       "output_type": "stream",
       "stream": "stdout",
       "text": [
        "\n",
        "\r\n",
        "the uilabel class implements a read-only text view.                         "
       ]
      },
      {
       "output_type": "stream",
       "stream": "stdout",
       "text": [
        "\n",
        "\r\n",
        "use this tag for specific questions about the order of results                         "
       ]
      },
      {
       "output_type": "stream",
       "stream": "stdout",
       "text": [
        "\n",
        "\r\n",
        "refers to the action of sending data to a specific destination.                          "
       ]
      },
      {
       "output_type": "stream",
       "stream": "stdout",
       "text": [
        "\n",
        "\r\n",
        "edittext is a thin veneer over textview that configures itself to be editable.                          "
       ]
      },
      {
       "output_type": "stream",
       "stream": "stdout",
       "text": [
        "\n",
        "\r\n",
        "a package or module, is a specific piece of software which the system can install and uninstall.                         "
       ]
      },
      {
       "output_type": "stream",
       "stream": "stdout",
       "text": [
        "\n",
        "\r\n",
        "an xml schema is a description of a type of xml document.  common xml schema formats are dtd, xml schema (with a capital s, also xsd, also wxs) and relax ng.                         "
       ]
      },
      {
       "output_type": "stream",
       "stream": "stdout",
       "text": [
        "\n",
        "\r\n",
        "logic is about reasoning. this tag is appropriate for such things as logic programming, programming problems involving a logical system, or basic questions about the logical systems used in programming.                         "
       ]
      },
      {
       "output_type": "stream",
       "stream": "stdout",
       "text": [
        "\n",
        "\r\n",
        "preg_replace() is a php function that performs string replacement using regular expressions.                         "
       ]
      },
      {
       "output_type": "stream",
       "stream": "stdout",
       "text": [
        "\n",
        "\r\n",
        "microsoft sql server compact is a free sql server embedded database ideal for building standalone and occasionally connected applications for mobile devices, desktops, and web clients. you can develop applications with sql server compact using the ado.net provider, and there is tooling support in ...                         "
       ]
      },
      {
       "output_type": "stream",
       "stream": "stdout",
       "text": [
        "\n",
        "\r\n",
        "controls may be refer to microsoft activex controls which is a simple ole object that supports the iunknown interface.                         "
       ]
      },
      {
       "output_type": "stream",
       "stream": "stdout",
       "text": [
        "\n",
        "\r\n",
        "in computer programming, a global variable is a variable that is accessible in every scope (unless shadowed). interaction mechanisms with global variables are called global environment (see also global state) mechanisms. the global environment paradigm is contrasted with the local environment ...                         "
       ]
      },
      {
       "output_type": "stream",
       "stream": "stdout",
       "text": [
        "\n",
        "\r\n",
        "in general controls are interactive elements of the user interface.                         "
       ]
      },
      {
       "output_type": "stream",
       "stream": "stdout",
       "text": [
        "\n",
        "\r\n",
        "persistence in computer programming refers to the capability of saving data outside the application memory.                         "
       ]
      },
      {
       "output_type": "stream",
       "stream": "stdout",
       "text": [
        "\n",
        "\r\n",
        "apache couchdb is a document-oriented database that can be queried and indexed in a mapreduce fashion. it exposes a pure restful api, making interaction possible from any language with the ability to send http requests. this also allows \"futon\", the administration interface, to work completely in ...                         "
       ]
      },
      {
       "output_type": "stream",
       "stream": "stdout",
       "text": [
        "\n",
        "\r\n",
        "fortran is a general-purpose, procedural, imperative programming language that is especially suited for numeric computation and scientific computing.                         "
       ]
      },
      {
       "output_type": "stream",
       "stream": "stdout",
       "text": [
        "\n",
        "\r\n",
        "in computer programming, a switch, case, select or inspect statement is a type of selection control mechanism                         "
       ]
      },
      {
       "output_type": "stream",
       "stream": "stdout",
       "text": [
        "\n",
        "\r\n",
        "part of the android api. a view that displays web pages. this class is the basis upon which you can roll your own web browser or simply display some online content within your activity.                         "
       ]
      },
      {
       "output_type": "stream",
       "stream": "stdout",
       "text": [
        "\n",
        "\r\n",
        "the malloc function performs dynamic memory allocation in c and is part of the standard library.                         "
       ]
      },
      {
       "output_type": "stream",
       "stream": "stdout",
       "text": [
        "\n",
        "\r\n",
        "type conversion is the way of implicitly or explicitly changing an entity of one data type into another. this is done to take advantage of certain features of type hierarchies or type representations.                         "
       ]
      },
      {
       "output_type": "stream",
       "stream": "stdout",
       "text": [
        "\n",
        "\r\n",
        "double precision floating-point format is a (most often) 64 bit data type used for storing fractional numbers.                         "
       ]
      },
      {
       "output_type": "stream",
       "stream": "stdout",
       "text": [
        "\n",
        "\r\n",
        "use this tag for questions specific to the 2012 version of microsoft's sql server.                         "
       ]
      },
      {
       "output_type": "stream",
       "stream": "stdout",
       "text": [
        "\n",
        "\r\n",
        "a workflow is a model of the organization of work items                         "
       ]
      },
      {
       "output_type": "stream",
       "stream": "stdout",
       "text": [
        "\n",
        "\r\n",
        "the osgi framework is a module system and service platform for the java programming language that implements a complete and dynamic component model.                         "
       ]
      },
      {
       "output_type": "stream",
       "stream": "stdout",
       "text": [
        "\n",
        "\r\n",
        "domain-driven design (ddd) is an approach to developing software for complex needs by deeply connecting the implementation to an evolving model of the core business concepts. note that conceptual ddd questions are better to be asked at programmers.stackexchange.com.                         "
       ]
      },
      {
       "output_type": "stream",
       "stream": "stdout",
       "text": [
        "\n",
        "\r\n",
        "ruby build utility similar to make with build commands defined in pure ruby.                         "
       ]
      },
      {
       "output_type": "stream",
       "stream": "stdout",
       "text": [
        "\n",
        "\r\n",
        "google play is an integrated destination for apps, books, movies, and music, accessible to users on android devices and to anyone on the web.                         "
       ]
      },
      {
       "output_type": "stream",
       "stream": "stdout",
       "text": [
        "\n",
        "\r\n",
        "xamarin.android (previously known as mono for android) is an implementation of mono that runs on the android platform, allowing you to write android applications in c# using native android libraries as well as using the .net bcl (base class libraries).                         "
       ]
      },
      {
       "output_type": "stream",
       "stream": "stdout",
       "text": [
        "\n",
        "\r\n",
        "post is one of the http protocol methods; it is used when the client needs to send data to the server, such as when uploading a file, or submitting a completed form.                         "
       ]
      },
      {
       "output_type": "stream",
       "stream": "stdout",
       "text": [
        "\n",
        "\r\n",
        "iis (internet information services) version 6 \u2013 is a web server application and a set of feature extension modules created by microsoft for use with microsoft windows. released with windows server 2003 and windows xp professional x64 edition.\r\n",
        "                         "
       ]
      },
      {
       "output_type": "stream",
       "stream": "stdout",
       "text": [
        "\n",
        "\r\n",
        "the wordpress theme system is the way to style your wordpress powered weblog / website.                         "
       ]
      },
      {
       "output_type": "stream",
       "stream": "stdout",
       "text": [
        "\n",
        "\r\n",
        "the process of extracting information from the html source code of live websites. typically used by third-party applications to interact with a website that doesn't expose an api.                         "
       ]
      },
      {
       "output_type": "stream",
       "stream": "stdout",
       "text": [
        "\n",
        "\r\n",
        "a file download occurs on a network when a client computer requests a file to be sent to it from a server.                         "
       ]
      },
      {
       "output_type": "stream",
       "stream": "stdout",
       "text": [
        "\n",
        "\r\n",
        "\"subquery\" is vague sql terminology, used to describe when there's either more than one `select` statement in a query, or when used in data manipulation language (dml) statements (ie: delete, update, insert, merge).  the subquery's select statement is always found within brackets/parenthesis.                         "
       ]
      },
      {
       "output_type": "stream",
       "stream": "stdout",
       "text": [
        "\n",
        "\r\n",
        "the periodic energizing required to maintain the contents of computer memory, screen, etc. it can refer also to the update of a display to show the latest version of the data.                         "
       ]
      },
      {
       "output_type": "stream",
       "stream": "stdout",
       "text": [
        "\n",
        "\r\n",
        "base64 is a set of encoding schemes that represent binary data in an ascii string format.                         "
       ]
      },
      {
       "output_type": "stream",
       "stream": "stdout",
       "text": [
        "\n",
        "\r\n",
        "in computer networking, localhost (meaning this computer) is the standard hostname given to the address of the loopback network interface.                         "
       ]
      },
      {
       "output_type": "stream",
       "stream": "stdout",
       "text": [
        "\n",
        "\r\n",
        "datatables is a plug-in for the jquery javascript library. it is a highly flexible tool, based upon the foundations of progressive enhancement, which will add advanced interaction controls to any html table                         "
       ]
      },
      {
       "output_type": "stream",
       "stream": "stdout",
       "text": [
        "\n",
        "\r\n",
        "gradle is a project build automation tool that uses a groovy dsl. gradle build scripts support maven and ivy repositories as well as plain file system for dependency management.                         "
       ]
      },
      {
       "output_type": "stream",
       "stream": "stdout",
       "text": [
        "\n",
        "\r\n",
        "a custom control is a reusable gui element, derived from an existing control type, customized with additional behavior, functionality and/or appearance.                         "
       ]
      },
      {
       "output_type": "stream",
       "stream": "stdout",
       "text": [
        "\n",
        "\r\n",
        "a component in the unified modeling language \"represents a modular part of a system, that encapsulates its content and whose manifestation is replaceable within its environment. a component defines its behavior in terms of provided and required interfaces\". the best example of component can be found ...                         "
       ]
      },
      {
       "output_type": "stream",
       "stream": "stdout",
       "text": [
        "\n",
        "\r\n",
        "textures are series of images used in computer graphics to associate locations on a visible surface with varying values. this association is typically done by mapping locations on the texture (usually two-dimensional, but other dimensions and types of textures exist) to locations on the rendered ...                         "
       ]
      },
      {
       "output_type": "stream",
       "stream": "stdout",
       "text": [
        "\n",
        "\r\n",
        "a scrollbar is a graphical user interface element relating to a display which is only partially visible. the scroll bar provides visual feedback on which portion of the element is in view, and the ability to move the view of the main element.                         "
       ]
      },
      {
       "output_type": "stream",
       "stream": "stdout",
       "text": [
        "\n",
        "\r\n",
        "a data frame is one of the basic data structures in the r language.  data frames are lists of variables each with the same number of rows, similar to a table in a data base.  unlike matrices in r, each variable can be a different data type.                         "
       ]
      },
      {
       "output_type": "stream",
       "stream": "stdout",
       "text": [
        "\n",
        "\r\n",
        "json with padding (jsonp) is a technique for working around cross-domain ajax limitations.                         "
       ]
      },
      {
       "output_type": "stream",
       "stream": "stdout",
       "text": [
        "\n",
        "\r\n",
        "debian is a universal operating system composed of over 29000 free and open-source software packages. the primary form of debian, debian gnu/linux, uses the linux kernel and gnu os tools.                         "
       ]
      },
      {
       "output_type": "stream",
       "stream": "stdout",
       "text": [
        "\n",
        "\r\n",
        "the ios simulator application presents the iphone or ipad user interface in a window on the computer to emulate iphone or ipad devices. this application provides several ways of interacting with it by using the keyboard and mouse to simulate taps, device rotation, and other user actions.                         "
       ]
      },
      {
       "output_type": "stream",
       "stream": "stdout",
       "text": [
        "\n",
        "\r\n",
        "microsoft .net compact framework (compact-framework, .netcf) is a constrained version of microsoft .net framework designed for limited resource devices such as mobile phones, personal digital assistants and other embedded devices. net compact framework also contains classes that are specific for ...                         "
       ]
      },
      {
       "output_type": "stream",
       "stream": "stdout",
       "text": [
        "\n",
        "\r\n",
        "mingw (minimalist gnu for windows) is a native software port of the gnu compiler collection (gcc) and gnu binutils for use in the development of native microsoft windows applications.  unlike cygwin, it does not provide a posix runtime environment on ms-windows.                         "
       ]
      },
      {
       "output_type": "stream",
       "stream": "stdout",
       "text": [
        "\n",
        "\r\n",
        "liferay is an open source jsr 286 compliant portal and social platform, written in java. it provides fully functional built-in portlets (60+) and also various integration points to seamlessly integrate with other third-party softwares like alfresco, sharepoint etc.                         "
       ]
      },
      {
       "output_type": "stream",
       "stream": "stdout",
       "text": [
        "\n",
        "\r\n",
        "a database connection is a facility that allows client software to communicate with database server software, whether on the same machine or not. a connection is required to send commands and receive answers.                         "
       ]
      },
      {
       "output_type": "stream",
       "stream": "stdout",
       "text": [
        "\n",
        "\r\n",
        "weblogic server is a java ee application server from oracle. weblogic server is the centerpiece of oracle's fusion middleware platform.                         "
       ]
      },
      {
       "output_type": "stream",
       "stream": "stdout",
       "text": [
        "\n",
        "\r\n",
        "automatic reference counting (arc) is a compiler feature that provides automatic memory management of objective-c objects.                         "
       ]
      },
      {
       "output_type": "stream",
       "stream": "stdout",
       "text": [
        "\n",
        "\r\n",
        "2d computer graphics is the computer-based generation of digital images\u2014mostly from two-dimensional models.                          "
       ]
      },
      {
       "output_type": "stream",
       "stream": "stdout",
       "text": [
        "\n",
        "\r\n",
        "cloud computing is about hardware-based services involving computing, network and storage capacities. these services are provided on-demand, hosted by the cloud provider and can easily scale up and down.                         "
       ]
      },
      {
       "output_type": "stream",
       "stream": "stdout",
       "text": [
        "\n",
        "\r\n",
        "a screen on a device, such as an iphone or other smartphone.\r\n",
        "\r\n",
        "for questions about gnu-screen (the terminal application for managing multiple windows), use the gnu-screen tag.                         "
       ]
      },
      {
       "output_type": "stream",
       "stream": "stdout",
       "text": [
        "\n",
        "\r\n",
        "activex is a microsoft-proprietary framework for defining and accessing interfaces, to system resources, in a programming-language independent way.                         "
       ]
      },
      {
       "output_type": "stream",
       "stream": "stdout",
       "text": [
        "\n",
        "\r\n",
        "electronic commerce, commonly known as e-commerce, ecommerce or e-comm, refers to the buying and selling of products or services over electronic systems such as the internet.                         "
       ]
      },
      {
       "output_type": "stream",
       "stream": "stdout",
       "text": [
        "\n",
        "\r\n",
        "regular expression pattern matching function for the php programming language                         "
       ]
      },
      {
       "output_type": "stream",
       "stream": "stdout",
       "text": [
        "\n",
        "\r\n",
        "[rvm](https://rvm.io) is a command line tool which allows users to easily install, manage and work with multiple ruby environments from interpreters to sets of gems.                         "
       ]
      },
      {
       "output_type": "stream",
       "stream": "stdout",
       "text": [
        "\n",
        "\r\n",
        "a closure is a first-class function that refers to (closes over) variables from the scope in which it was defined. if the closure still exists after its defining scope ends, the variables it closes over will continue to exist as well.                         "
       ]
      },
      {
       "output_type": "stream",
       "stream": "stdout",
       "text": [
        "\n",
        "\r\n",
        "the google app engine datastore provides robust, scalable storage for your web application, with an emphasis on read and query performance.                         "
       ]
      },
      {
       "output_type": "stream",
       "stream": "stdout",
       "text": [
        "\n",
        "\r\n",
        "visual studio tools for office (vsto) is a set of development tools for creating office automation solutions (add-in or document customization), using .net and the visual studio ide.                         "
       ]
      },
      {
       "output_type": "stream",
       "stream": "stdout",
       "text": [
        "\n",
        "\r\n",
        "validation is used to check data to make sure it fits whatever required specifications are set for it.                         "
       ]
      },
      {
       "output_type": "stream",
       "stream": "stdout",
       "text": [
        "\n",
        "\r\n",
        "an order by clause in sql specifies that a sql select statement returns a result set with the rows being sorted by the values of one or more columns.                         "
       ]
      },
      {
       "output_type": "stream",
       "stream": "stdout",
       "text": [
        "\n",
        "\r\n",
        "the google drive sdk enables developers to integrate their apps with google drive to enhance the end user\u2019s experience.                         "
       ]
      },
      {
       "output_type": "stream",
       "stream": "stdout",
       "text": [
        "\n",
        "\r\n",
        "computer vision enables images, or sequences of images, to be processed by a computer using an algorithm. the aim of the algorithm is to extract information from the image. sometimes this information produces an updated image or sometimes other measurements. an example of an updated image is to ...                         "
       ]
      },
      {
       "output_type": "stream",
       "stream": "stdout",
       "text": [
        "\n",
        "\r\n",
        "natural language processing (nlp) is a subfield of artificial intelligence and machine learning that involves transforming or extracting useful information from natural language data.                         "
       ]
      },
      {
       "output_type": "stream",
       "stream": "stdout",
       "text": [
        "\n",
        "\r\n",
        "html5 video is an element introduced in the html5 draft specification for the purpose of creating a standards-compliant, plugin-free way for playing videos and movies, partially replacing the object element.                         "
       ]
      },
      {
       "output_type": "stream",
       "stream": "stdout",
       "text": [
        "\n",
        "\r\n",
        "shared libraries are libraries that are loaded by programs when they start. a single shared copy of each library is loaded into physical memory and may be used by multiple processes at the same time. this reduces memory use and improves system performance.                         "
       ]
      },
      {
       "output_type": "stream",
       "stream": "stdout",
       "text": [
        "\n",
        "\r\n",
        "updatepanel is an asp.net ajax control which allows page content to be updated asynchronously.                         "
       ]
      },
      {
       "output_type": "stream",
       "stream": "stdout",
       "text": [
        "\n",
        "\r\n",
        "jax-ws is the jsr 224 defining a java api for xml-based web services                         "
       ]
      },
      {
       "output_type": "stream",
       "stream": "stdout",
       "text": [
        "\n",
        "\r\n",
        "rendering refers to a computer program formatting data for display or printing.                         "
       ]
      },
      {
       "output_type": "stream",
       "stream": "stdout",
       "text": [
        "\n",
        "\r\n",
        "refers to a symbol that represents a letter or number. also, the bit pattern used to represent such a symbol.                         "
       ]
      },
      {
       "output_type": "stream",
       "stream": "stdout",
       "text": [
        "\n",
        "\r\n",
        "method overriding, in object oriented programming, is a language feature that allows a subclass or child class to provide a specific implementation of a method that is already provided by one of its superclasses or parent classes.                         "
       ]
      },
      {
       "output_type": "stream",
       "stream": "stdout",
       "text": [
        "\n",
        "\r\n",
        "the eclipse rich client platform is a generic java platform for running applications. it provides the basic blocks for building rich client application using the osgi framework.                         "
       ]
      },
      {
       "output_type": "stream",
       "stream": "stdout",
       "text": [
        "\n",
        "\r\n",
        "hosting refers to the commercial service offered by companies that let you run websites using their servers. questions about server technology are probably best asked at serverfault.com and more general questions at webmasters.stackexchange.com.                         "
       ]
      },
      {
       "output_type": "stream",
       "stream": "stdout",
       "text": [
        "\n",
        "\r\n",
        "software or hardware device designed to play audio/video files.                         "
       ]
      },
      {
       "output_type": "stream",
       "stream": "stdout",
       "text": [
        "\n",
        "\r\n",
        "the act of saving one's files, data, applications, etc. to secondary media, allowing for the recovery of the files, data, applications, etc. in the event that the primary media becomes unavailable (fails). also the secondary media used for storage.                         "
       ]
      },
      {
       "output_type": "stream",
       "stream": "stdout",
       "text": [
        "\n",
        "\r\n",
        "to toggle a boolean variable is to switch it to it's opposite state. if it is on, switch it off; if it is off, switch it on. in a desktop or web user interface, a toggle may be clickable switch or button that alternates the state of something in the application.                         "
       ]
      },
      {
       "output_type": "stream",
       "stream": "stdout",
       "text": [
        "\n",
        "\r\n",
        "a horizontal line of cells in a spreadsheet, sql table, html table, or similar structure.                         "
       ]
      },
      {
       "output_type": "stream",
       "stream": "stdout",
       "text": [
        "\n",
        "\r\n",
        "vba in microsoft access                         "
       ]
      },
      {
       "output_type": "stream",
       "stream": "stdout",
       "text": [
        "\n",
        "\r\n",
        "a signal is a notification to a process that an event occurred. signals are sometimes described as software interrupts. signals are analogous to hardware interrupts in that they interrupt the normal flow of execution of a program; in most cases, it is not possible to predict exactly when a signal ...                         "
       ]
      },
      {
       "output_type": "stream",
       "stream": "stdout",
       "text": [
        "\n",
        "\r\n",
        "orientation is the way up, down, left or right something is facing or being held in.                          "
       ]
      },
      {
       "output_type": "stream",
       "stream": "stdout",
       "text": [
        "\n",
        "\r\n",
        "prototype is a javascript framework that aims to ease development of dynamic web applications.                         "
       ]
      },
      {
       "output_type": "stream",
       "stream": "stdout",
       "text": [
        "\n",
        "\r\n",
        "mpeg-1 or mpeg-2 audio layer iii,  more commonly referred to as mp3, is a patented digital audio encoding format using a form of lossy data compression. it is a common audio format for consumer audio storage, as well as a de facto standard of digital audio compression for the transfer and playback ...                         "
       ]
      },
      {
       "output_type": "stream",
       "stream": "stdout",
       "text": [
        "\n",
        "\r\n",
        "nsdate is an objective-c class of the foundation framework.\r\n",
        "nsdate objects represent a single point in time.                         "
       ]
      },
      {
       "output_type": "stream",
       "stream": "stdout",
       "text": [
        "\n",
        "\r\n",
        "wi-fi is a trademark of the wi-fi alliance. a wi-fi enabled device such as a personal computer, video game console, smartphone, or digital audio player can connect to the internet when within range of a wireless network connected to the internet.                         "
       ]
      },
      {
       "output_type": "stream",
       "stream": "stdout",
       "text": [
        "\n",
        "\r\n",
        "hudson is an extensible continuous integration server written in java and capable of running on linux, os x and windows.                         "
       ]
      },
      {
       "output_type": "stream",
       "stream": "stdout",
       "text": [
        "\n",
        "\r\n",
        "a general tag for user-interface events that are generated by the mouse. this includes pressing/releasing a button, clicking (including double/triple-clicks), moving, dragging, etc.                         "
       ]
      },
      {
       "output_type": "stream",
       "stream": "stdout",
       "text": [
        "\n",
        "\r\n",
        "in java, the classpath tells the java virtual machine where to look for user-defined classes and packages when running java programs. the classpath is a parameter and can be set either on the command-line, or through an environment variable.                          "
       ]
      },
      {
       "output_type": "stream",
       "stream": "stdout",
       "text": [
        "\n",
        "\r\n",
        "paperclip is a library for the ruby on rails framework which makes dealing with file attachments easier. in addition to dealing with standalone files, the library provides convenience methods for creating image thumbnails.                         "
       ]
      },
      {
       "output_type": "stream",
       "stream": "stdout",
       "text": [
        "\n",
        "\r\n",
        "less is an open-source stylesheet preprocessor that extends css with dynamic behavior such as variables, mixins, operations and functions.                         "
       ]
      },
      {
       "output_type": "stream",
       "stream": "stdout",
       "text": [
        "\n",
        "\r\n",
        "in angularjs directives are a way to teach html new tricks by extending the html vocabulary. directives allow you to manage dom elements in a declarative pattern, freeing you from low level dom manipulation tasks.                         "
       ]
      },
      {
       "output_type": "stream",
       "stream": "stdout",
       "text": [
        "\n",
        "\r\n",
        "the uitextview class implements the behavior for a scrollable, multiline text region in ios. the class supports the display of text using a custom font, color, and alignment and also supports text editing. you typically use a text view to display multiple lines of text, such as when displaying the ...                         "
       ]
      },
      {
       "output_type": "stream",
       "stream": "stdout",
       "text": [
        "\n",
        "\r\n",
        "jackson json processor, a java library for handling json tasks like reading and writing (parsing / generating) and data binding to/from java objects.                         "
       ]
      },
      {
       "output_type": "stream",
       "stream": "stdout",
       "text": [
        "\n",
        "\r\n",
        "the "
       ]
      },
      {
       "output_type": "stream",
       "stream": "stdout",
       "text": [
        "\n",
        "\r\n",
        "the tag refers to how to make sql queries run faster. some of these questions may belong on dba.stackexchange.com, especially if they involve reindexing, query plans, etc. \r\n",
        "\r\n",
        "sql queries can take a long time to run if written badly, or on huge amount of data. performance can be crucial for queries ...                         "
       ]
      },
      {
       "output_type": "stream",
       "stream": "stdout",
       "text": [
        "\n",
        "\r\n",
        "try-catch is a syntactic construct for catching exceptions raised by a code section                         "
       ]
      },
      {
       "output_type": "stream",
       "stream": "stdout",
       "text": [
        "\n",
        "\r\n",
        "this tag refers to the webbrowser control for activex (native) and for windows forms or wpf applications (.net). this control \"hosts web pages and provides web browsing capabilities to your application\".                         "
       ]
      },
      {
       "output_type": "stream",
       "stream": "stdout",
       "text": [
        "\n",
        "\r\n",
        "mootools is a compact, modular, object-oriented javascript framework designed for the intermediate to advanced javascript developer. it allows you to write powerful, flexible, and cross-browser code with its elegant, well documented, and coherent api.                         "
       ]
      },
      {
       "output_type": "stream",
       "stream": "stdout",
       "text": [
        "\n",
        "\r\n",
        "forms authentication is a built-in and extensible system for authenticating users in an asp.net application that also maintains that authenticated session via a ticket (often stored as a cookie or query string parameter).                         "
       ]
      },
      {
       "output_type": "stream",
       "stream": "stdout",
       "text": [
        "\n",
        "\r\n",
        "questions about routing within asp.net (including mvc).                         "
       ]
      },
      {
       "output_type": "stream",
       "stream": "stdout",
       "text": [
        "\n",
        "\r\n",
        "a css property which governs what happens if content overflows it's containing box                         "
       ]
      },
      {
       "output_type": "stream",
       "stream": "stdout",
       "text": [
        "\n",
        "\r\n",
        "apache cxf helps you build and develop services using frontend programming apis, like jax-ws and jax-rs. these services can speak a variety of protocols such as soap, xml/http, restful http, or corba and work over a variety of transports such as http, jms or jbi.                         "
       ]
      },
      {
       "output_type": "stream",
       "stream": "stdout",
       "text": [
        "\n",
        "\r\n",
        "a relational database is a database consisting of relation variables (which are also called *relvars*, *r-tables* or just *tables*). the definition, manipulation and integrity rules of relational databases are based on relational operations equivalent to or similar to the relational algebra and ...                         "
       ]
      },
      {
       "output_type": "stream",
       "stream": "stdout",
       "text": [
        "\n",
        "\r\n",
        "the uinavigationbar class implements a control for navigating hierarchical content. it\u2019s a bar, typically displayed at the top of the screen, containing buttons for navigating up and down a hierarchy. the primary properties are a left (back) button, a center title, and an optional right button. you ...                         "
       ]
      },
      {
       "output_type": "stream",
       "stream": "stdout",
       "text": [
        "\n",
        "\r\n",
        "version defines an unique state of a computer software or a file.                         "
       ]
      },
      {
       "output_type": "stream",
       "stream": "stdout",
       "text": [
        "\n",
        "\r\n",
        "a unit of information usually corresponding to 8 bits. this term is also most often used to indicate the smallest addressable unit of storage on a digital system.                         "
       ]
      },
      {
       "output_type": "stream",
       "stream": "stdout",
       "text": [
        "\n",
        "\r\n",
        "settings may refer to the tweaking which can be used to help improve the user-experience or performance etc.                         "
       ]
      },
      {
       "output_type": "stream",
       "stream": "stdout",
       "text": [
        "\n",
        "\r\n",
        "a mobile version of apple\u2019s safari web browser.                         "
       ]
      },
      {
       "output_type": "stream",
       "stream": "stdout",
       "text": [
        "\n",
        "\r\n",
        "the http status code 404 indicates the server could not find the requested file.                         "
       ]
      },
      {
       "output_type": "stream",
       "stream": "stdout",
       "text": [
        "\n",
        "\r\n",
        "a buffer is an area of memory set aside for temporary storage of data while it is being moved from one place to another. this is typically done to speed up processes with significant latency, such as writing to a disk, printer or other physical device. the output is ready to be sent to the device ...                         "
       ]
      },
      {
       "output_type": "stream",
       "stream": "stdout",
       "text": [
        "\n",
        "\r\n",
        "a \"branch\" is term used in version control systems to represent an independent line of development. depending on the system, a repository can contain one or more branches. branches are merged when changes need to propagate from one branch into another.                         "
       ]
      },
      {
       "output_type": "stream",
       "stream": "stdout",
       "text": [
        "\n",
        "\r\n",
        "a syntax error occurs when a program does not follow the syntactical rules of the programming language.                         "
       ]
      },
      {
       "output_type": "stream",
       "stream": "stdout",
       "text": [
        "\n",
        "\r\n",
        "zooming is the act of enlarging something (a document, an image, a map) to view it in greater detail.                         "
       ]
      },
      {
       "output_type": "stream",
       "stream": "stdout",
       "text": [
        "\n",
        "\r\n",
        "a php extension shipped with the main source tree. the simplexml extension provides a very simple and easily usable toolset to convert xml to an object that can be processed with normal property selectors and array iterators.\r\n",
        "\r\n",
        "for the java \"simple\" xml framework, please use the [simple-framework] ...                         "
       ]
      },
      {
       "output_type": "stream",
       "stream": "stdout",
       "text": [
        "\n",
        "\r\n",
        "gallery is a collection of photos in a software system                         "
       ]
      },
      {
       "output_type": "stream",
       "stream": "stdout",
       "text": [
        "\n",
        "\r\n",
        "the google visualization api allows svg, flash, and image charts and dashboards to be created based on data from a variety of sources. the charts/dashboards can be interactive, updated automatically, and included on web pages and web applications.                         "
       ]
      },
      {
       "output_type": "stream",
       "stream": "stdout",
       "text": [
        "\n",
        "\r\n",
        "rapha\u00ebl is a cross platform javascript library for outputting vector graphics in both standards compliant svg (for firefox, chrome, internet explorer 9+ ...) and vml for older versions of internet explorer.                         "
       ]
      },
      {
       "output_type": "stream",
       "stream": "stdout",
       "text": [
        "\n",
        "\r\n",
        "beautiful soup is a python package for parsing html. the latest version of this package is version 4, imported as bs4.                         "
       ]
      },
      {
       "output_type": "stream",
       "stream": "stdout",
       "text": [
        "\n",
        "\r\n",
        "a uniform resource identifier (or uri) is a string of characters used to identify a name or resource.                          "
       ]
      },
      {
       "output_type": "stream",
       "stream": "stdout",
       "text": [
        "\n",
        "\r\n",
        "a border is a graphical user interface construct that is used to surround and/or highlight something that is contained within.                         "
       ]
      },
      {
       "output_type": "stream",
       "stream": "stdout",
       "text": [
        "\n",
        "\r\n",
        "mac os x lion (10.7) is the eighth major release of mac os x, apple's desktop and server operating system for macintosh computers.                         "
       ]
      },
      {
       "output_type": "stream",
       "stream": "stdout",
       "text": [
        "\n",
        "\r\n",
        "windows server 2008 (sometimes abbreviated as \"win2k8\") is one of microsoft windows' server line of operating systems. released to manufacturing on february 4, 2008, and officially released on february 27, 2008, it is the successor to windows server 2003, released nearly five years earlier. a second ...                         "
       ]
      },
      {
       "output_type": "stream",
       "stream": "stdout",
       "text": [
        "\n",
        "\r\n",
        "openid is an open standard that describes how users can be authenticated in a decentralized manner. it allows the user to use an existing account to sign in to multiple websites, without needing to create new passwords.                         "
       ]
      },
      {
       "output_type": "stream",
       "stream": "stdout",
       "text": [
        "\n",
        "\r\n",
        "this tag refers to the starting of another, subsidiary program. it is named after the family of posix system calls whose name starts with \u201cexec\u201d (notably \u201cexecve\u201d) though similar concepts exist on other platforms as well, especially when combined with the starting up of another process.                         "
       ]
      },
      {
       "output_type": "stream",
       "stream": "stdout",
       "text": [
        "\n",
        "\r\n",
        "a mouse is a pointing device that functions by detecting two-dimensional motion relative to its supporting surface.                         "
       ]
      },
      {
       "output_type": "stream",
       "stream": "stdout",
       "text": [
        "\n",
        "\r\n",
        "represents an array of bytes                         "
       ]
      },
      {
       "output_type": "stream",
       "stream": "stdout",
       "text": [
        "\n",
        "\r\n",
        "emacs lisp is the extension language for the gnu emacs text editor, and in fact, most of the functionality of emacs is implemented using emacs lisp.  users generally customize emacs' behavior by adding emacs lisp statements to their .emacs, or writing separate packages.                         "
       ]
      },
      {
       "output_type": "stream",
       "stream": "stdout",
       "text": [
        "\n",
        "\r\n",
        "wso2, open source java based middleware service provider. all wso2 products are 100% open source and released under the apache license version 2.0.                           "
       ]
      },
      {
       "output_type": "stream",
       "stream": "stdout",
       "text": [
        "\n",
        "\r\n",
        "overlays are user interface elements that are displayed over other ui elements, typically for the purpose of presenting additional or enhanced information and detail.                         "
       ]
      },
      {
       "output_type": "stream",
       "stream": "stdout",
       "text": [
        "\n",
        "\r\n",
        "the shortest distance between two points. or, a row of characters in text output.                         "
       ]
      },
      {
       "output_type": "stream",
       "stream": "stdout",
       "text": [
        "\n",
        "\r\n",
        "swf (shockwave flash) is a file format for multimedia, vector graphics and actionscript in the adobe flash environment. note: for spring webflow, please use \"spring-webflow\" tag instead.                         "
       ]
      },
      {
       "output_type": "stream",
       "stream": "stdout",
       "text": [
        "\n",
        "\r\n",
        "the apple push notification service is a service created by apple inc. that was launched together with ios 3.0.apns is used together with mac os x lion server to push update notifications to clients that have registered to receive updates via a configuration profile and are also using the server's ...                         "
       ]
      },
      {
       "output_type": "stream",
       "stream": "stdout",
       "text": [
        "\n",
        "\r\n",
        "smarty is a templating engine for php. it allows for easy separation of application logic and display code, as well as simplifying reuse of templates.                         "
       ]
      },
      {
       "output_type": "stream",
       "stream": "stdout",
       "text": [
        "\n",
        "\r\n",
        "an action is a response of the program on occurrence detected by the program that may be handled by the program events.                         "
       ]
      },
      {
       "output_type": "stream",
       "stream": "stdout",
       "text": [
        "\n",
        "\r\n",
        "a context menu is a menu in a graphical user interface that appears upon user interaction, such as a right mouse click or middle click mouse operation.                         "
       ]
      },
      {
       "output_type": "stream",
       "stream": "stdout",
       "text": [
        "\n",
        "\r\n",
        "an anchor (...) is a html element used to define the link between the current element (the anchor) and the destination (uri).                         "
       ]
      },
      {
       "output_type": "stream",
       "stream": "stdout",
       "text": [
        "\n",
        "\r\n",
        "subdomain is a domain which is a part of a larger domain.\r\n",
        "for example, 'sub.example.com' is subdomain of 'example.com' domain.                         "
       ]
      },
      {
       "output_type": "stream",
       "stream": "stdout",
       "text": [
        "\n",
        "\r\n",
        "the heap is process memory set aside for dynamic allocation.                         "
       ]
      },
      {
       "output_type": "stream",
       "stream": "stdout",
       "text": [
        "\n",
        "\r\n",
        "to \"embed\" is to place a software module, object, or application into your own application, webpage, or hardware device.                           "
       ]
      },
      {
       "output_type": "stream",
       "stream": "stdout",
       "text": [
        "\n",
        "\r\n",
        "a warning-level error message thrown by a compiler indicates a piece of code which the compiler recognizes as being potentially a problem, but which is syntactically correct such that the compiler is able to continue.                         "
       ]
      },
      {
       "output_type": "stream",
       "stream": "stdout",
       "text": [
        "\n",
        "\r\n",
        "artificial intelligence (ai) is the branch of computer science and technology that studies the development of machines able to simulate aspects of human intelligence. this tag may also refer to the part of a computer game application that controls the behavior of the virtual characters with which ...                         "
       ]
      },
      {
       "output_type": "stream",
       "stream": "stdout",
       "text": [
        "\n",
        "\r\n",
        "the pivot syntax converts row data into columnar data, and vice versa for the unpivot syntax.  not all databases support the pivot syntax but the functionality can be implemented, often using decision logic (case statements, etc) and aggregate functions.                         "
       ]
      },
      {
       "output_type": "stream",
       "stream": "stdout",
       "text": [
        "\n",
        "\r\n",
        "combination of several programming symbols and values intending to produce a result                         "
       ]
      },
      {
       "output_type": "stream",
       "stream": "stdout",
       "text": [
        "\n",
        "\r\n",
        "a word is a string of characters. a `word` may also be a fixed size group of bits, generally in multiples of 8, that are handled as a unit by a processor architecture. questions regarding microsoft word should use the \"ms-word\" tag.                         "
       ]
      },
      {
       "output_type": "stream",
       "stream": "stdout",
       "text": [
        "\n",
        "\r\n",
        "mapkit is apple's framework for presenting and annotating scrollable and zoom-enabled maps on ios devices.                         "
       ]
      },
      {
       "output_type": "stream",
       "stream": "stdout",
       "text": [
        "\n",
        "\r\n",
        "itextsharp is a .net open source library for pdf generation and manipulation.                           "
       ]
      },
      {
       "output_type": "stream",
       "stream": "stdout",
       "text": [
        "\n",
        "\r\n",
        "a range is the set of allowed values for a variable. it can also refer to a dom range, the ruby range class, or the python range function.                         "
       ]
      },
      {
       "output_type": "stream",
       "stream": "stdout",
       "text": [
        "\n",
        "\r\n",
        "ninject is a dependency injection framework for .net applications.                         "
       ]
      },
      {
       "output_type": "stream",
       "stream": "stdout",
       "text": [
        "\n",
        "\r\n",
        "iterations are the successive repetitions in loops such as for, foreach or while. questions with this tag are often concerned about how to best handle a collection of data.                         "
       ]
      },
      {
       "output_type": "stream",
       "stream": "stdout",
       "text": [
        "\n",
        "\r\n",
        "meta-data provides information about one or more aspects of the data. meta-data may refer to either structural metadata (data about the containers of data) or descriptive metadata (data about data content).                         "
       ]
      },
      {
       "output_type": "stream",
       "stream": "stdout",
       "text": [
        "\n",
        "\r\n",
        "inversion of control (ioc) is an abstract principle describing an aspect of some software architecture designs in which the flow of control of a system is inverted in comparison to procedural programming.                         "
       ]
      },
      {
       "output_type": "stream",
       "stream": "stdout",
       "text": [
        "\n",
        "\r\n",
        "sublime text 2 is a multi-language and cross-platform sophisticated code editor developed by jon skinner.                         "
       ]
      },
      {
       "output_type": "stream",
       "stream": "stdout",
       "text": [
        "\n",
        "\r\n",
        "firebug allows the debugging, editing, and monitoring of any website's css, html, dom, and javascript as well as the browser's network traffic. firebug is free and open source, licensed under the bsd license.                         "
       ]
      },
      {
       "output_type": "stream",
       "stream": "stdout",
       "text": [
        "\n",
        "\r\n",
        "the uitableviewcontroller class is a ios uiviewcontroller subclass that creates a controller object that manages a table view.                         "
       ]
      },
      {
       "output_type": "stream",
       "stream": "stdout",
       "text": [
        "\n",
        "We scraped the descriptions of 1041 most popular tags.\n"
       ]
      }
     ],
     "prompt_number": 39
    },
    {
     "cell_type": "code",
     "collapsed": false,
     "input": [
      "# find the potential departments each query can be fielded to \n",
      "possible_desks = [] # will be nx5 matrix where n is the number of queries \n",
      "for elem in range(5): \n",
      "    os_count = 0 \n",
      "    api_count = 0\n",
      "    lang_count = 0 \n",
      "    web_count = 0 \n",
      "    dev_count = 0 \n",
      "    \n",
      "    new_tags = []\n",
      "    new_tags_desks = [] \n",
      "    for tag in alltitle_tags[elem]:\n",
      "        new_tags.append(tag) \n",
      "    for tag in allbody_tags[elem]:\n",
      "        new_tags.append(tag) \n",
      "    for tag in new_tags: \n",
      "        if tag in Os:\n",
      "            os_count += 1 \n",
      "        if tag in Api: \n",
      "            api_count += 1 \n",
      "        if tag in Language: \n",
      "            lang_count += 1\n",
      "        if tag in Web: \n",
      "            web_count += 1 \n",
      "        if tag in Developer: \n",
      "            dev_count += 1 \n",
      "    new_tags_desks.extend([os_count, api_count, lang_count, web_count, dev_count])\n",
      "    possible_desks.append(new_tags_desks)"
     ],
     "language": "python",
     "metadata": {},
     "outputs": []
    },
    {
     "cell_type": "code",
     "collapsed": false,
     "input": [
      "stuff=[]\n",
      "for word in Api: \n",
      "    stuff.append(word)\n",
      "for word in Language: \n",
      "    stuff.append(word)\n",
      "for word in Web: \n",
      "    stuff.append(word)\n",
      "for word in Os: \n",
      "    stuff.append(word)\n",
      "for word in Developer: \n",
      "    stuff.append(word) \n",
      "\n",
      "n = 0\n",
      "for word in tag_set: \n",
      "    if word in stuff: \n",
      "        i = 0 \n",
      "    else: \n",
      "        n += 1\n",
      "\n",
      "print n"
     ],
     "language": "python",
     "metadata": {},
     "outputs": [
      {
       "output_type": "stream",
       "stream": "stdout",
       "text": [
        "324\n"
       ]
      }
     ],
     "prompt_number": 42
    },
    {
     "cell_type": "markdown",
     "metadata": {},
     "source": [
      "**Part 6. Network Visualization of Tag Clusters** We examine the interconnected of clusters of tags in the following visualization. "
     ]
    },
    {
     "cell_type": "code",
     "collapsed": false,
     "input": [
      "# append appropriate columns to pandas dataframe \n",
      "\n",
      "Queries = queries \n",
      "queries = queries[:1000] # consider the first 1000 queries \n",
      "print \"Focus is\", len(queries), \"queries.\" \n",
      "\n",
      "\n",
      "possible_supportdesks = [] \n",
      "\n",
      "for row in range(len(queries)): \n",
      "    \n",
      "    titletext = queries.irow(row)['Title']\n",
      "    titletext = titletext.lower()\n",
      "    titletext = list(titletext.split())\n",
      "    bodytext = queries.irow(row)['Body'] \n",
      "    bodytext = bodytext.lower()\n",
      "    bodytext = list(bodytext.split())\n",
      "    \n",
      "    fulltext = [] \n",
      "    fulltext.extend(titletext)\n",
      "    fulltext.extend(bodytext)\n",
      "    \n",
      "    supportdesks = [] \n",
      "    for word in fulltext: \n",
      "        if word in Api:\n",
      "            supportdesks.append('API')\n",
      "        if word in Language: \n",
      "            supportdesks.append('LANG')\n",
      "        if word in Web: \n",
      "            supportdesks.append('WEB')\n",
      "        if word in Os: \n",
      "            supportdesks.append('OS')\n",
      "        if word in Developer: \n",
      "            supportdesks.append('DEV')\n",
      "    \n",
      "    possible_supportdesks.append(supportdesks)\n",
      "\n",
      "queries['Possible Support Desks (with Repeats)'] = possible_supportdesks\n",
      "queries.head()"
     ],
     "language": "python",
     "metadata": {},
     "outputs": [
      {
       "output_type": "stream",
       "stream": "stdout",
       "text": [
        "Focus is 1000 queries.\n"
       ]
      },
      {
       "html": [
        "<div style=\"max-height:1000px;max-width:1500px;overflow:auto;\">\n",
        "<table border=\"1\" class=\"dataframe\">\n",
        "  <thead>\n",
        "    <tr style=\"text-align: right;\">\n",
        "      <th></th>\n",
        "      <th>Id</th>\n",
        "      <th>Title</th>\n",
        "      <th>Body</th>\n",
        "      <th>Tags</th>\n",
        "      <th>Possible Support Desks (with Repeats)</th>\n",
        "    </tr>\n",
        "  </thead>\n",
        "  <tbody>\n",
        "    <tr>\n",
        "      <th>0</th>\n",
        "      <td> 1</td>\n",
        "      <td> How to check if an uploaded file is an image w...</td>\n",
        "      <td> &lt;p&gt;I'd like to check if an uploaded file is an...</td>\n",
        "      <td> php image-processing file-upload upload mime-t...</td>\n",
        "      <td>                     [OS, OS, OS, WEB, OS, OS, OS]</td>\n",
        "    </tr>\n",
        "    <tr>\n",
        "      <th>1</th>\n",
        "      <td> 2</td>\n",
        "      <td> How can I prevent firefox from closing when I ...</td>\n",
        "      <td> &lt;p&gt;In my favorite editor (vim), I regularly us...</td>\n",
        "      <td>                                           firefox</td>\n",
        "      <td>                                [WEB, OS, WEB, OS]</td>\n",
        "    </tr>\n",
        "    <tr>\n",
        "      <th>2</th>\n",
        "      <td> 3</td>\n",
        "      <td>          R Error Invalid type (list) for variable</td>\n",
        "      <td> &lt;p&gt;I am import matlab file and construct a dat...</td>\n",
        "      <td>                         r matlab machine-learning</td>\n",
        "      <td> [LANG, LANG, OS, LANG, OS, WEB, LANG, OS, LANG...</td>\n",
        "    </tr>\n",
        "    <tr>\n",
        "      <th>3</th>\n",
        "      <td> 4</td>\n",
        "      <td>     How do I replace special characters in a URL?</td>\n",
        "      <td> &lt;p&gt;This is probably very simple, but I simply ...</td>\n",
        "      <td>                                   c# url encoding</td>\n",
        "      <td>                                              [OS]</td>\n",
        "    </tr>\n",
        "    <tr>\n",
        "      <th>4</th>\n",
        "      <td> 5</td>\n",
        "      <td>              How to modify whois contact details?</td>\n",
        "      <td> &lt;pre&gt;&lt;code&gt;function modify(.......)\\n{\\n  $mco...</td>\n",
        "      <td>                         php api file-get-contents</td>\n",
        "      <td>                                             [WEB]</td>\n",
        "    </tr>\n",
        "  </tbody>\n",
        "</table>\n",
        "</div>"
       ],
       "metadata": {},
       "output_type": "pyout",
       "prompt_number": 78,
       "text": [
        "   Id                                              Title                                               Body                                               Tags              Possible Support Desks (with Repeats)\n",
        "0   1  How to check if an uploaded file is an image w...  <p>I'd like to check if an uploaded file is an...  php image-processing file-upload upload mime-t...                      [OS, OS, OS, WEB, OS, OS, OS]\n",
        "1   2  How can I prevent firefox from closing when I ...  <p>In my favorite editor (vim), I regularly us...                                            firefox                                 [WEB, OS, WEB, OS]\n",
        "2   3           R Error Invalid type (list) for variable  <p>I am import matlab file and construct a dat...                          r matlab machine-learning  [LANG, LANG, OS, LANG, OS, WEB, LANG, OS, LANG...\n",
        "3   4      How do I replace special characters in a URL?  <p>This is probably very simple, but I simply ...                                    c# url encoding                                               [OS]\n",
        "4   5               How to modify whois contact details?  <pre><code>function modify(.......)\\n{\\n  $mco...                          php api file-get-contents                                              [WEB]"
       ]
      }
     ],
     "prompt_number": 78
    },
    {
     "cell_type": "code",
     "collapsed": false,
     "input": [
      "possible_desks = [] \n",
      "for row in range(len(queries)): \n",
      "    desks = queries.irow(row)['Possible Support Desks (with Repeats)']\n",
      "    desks = list(set(desks))\n",
      "    possible_desks.append(desks) \n",
      "\n",
      "queries['Possible Desks'] = possible_desks\n",
      "queries.head()"
     ],
     "language": "python",
     "metadata": {},
     "outputs": [
      {
       "html": [
        "<div style=\"max-height:1000px;max-width:1500px;overflow:auto;\">\n",
        "<table border=\"1\" class=\"dataframe\">\n",
        "  <thead>\n",
        "    <tr style=\"text-align: right;\">\n",
        "      <th></th>\n",
        "      <th>Id</th>\n",
        "      <th>Title</th>\n",
        "      <th>Body</th>\n",
        "      <th>Tags</th>\n",
        "      <th>Possible Support Desks (with Repeats)</th>\n",
        "      <th>Possible Desks</th>\n",
        "    </tr>\n",
        "  </thead>\n",
        "  <tbody>\n",
        "    <tr>\n",
        "      <th>0</th>\n",
        "      <td> 1</td>\n",
        "      <td> How to check if an uploaded file is an image w...</td>\n",
        "      <td> &lt;p&gt;I'd like to check if an uploaded file is an...</td>\n",
        "      <td> php image-processing file-upload upload mime-t...</td>\n",
        "      <td>                     [OS, OS, OS, WEB, OS, OS, OS]</td>\n",
        "      <td>       [WEB, OS]</td>\n",
        "    </tr>\n",
        "    <tr>\n",
        "      <th>1</th>\n",
        "      <td> 2</td>\n",
        "      <td> How can I prevent firefox from closing when I ...</td>\n",
        "      <td> &lt;p&gt;In my favorite editor (vim), I regularly us...</td>\n",
        "      <td>                                           firefox</td>\n",
        "      <td>                                [WEB, OS, WEB, OS]</td>\n",
        "      <td>       [WEB, OS]</td>\n",
        "    </tr>\n",
        "    <tr>\n",
        "      <th>2</th>\n",
        "      <td> 3</td>\n",
        "      <td>          R Error Invalid type (list) for variable</td>\n",
        "      <td> &lt;p&gt;I am import matlab file and construct a dat...</td>\n",
        "      <td>                         r matlab machine-learning</td>\n",
        "      <td> [LANG, LANG, OS, LANG, OS, WEB, LANG, OS, LANG...</td>\n",
        "      <td> [LANG, WEB, OS]</td>\n",
        "    </tr>\n",
        "    <tr>\n",
        "      <th>3</th>\n",
        "      <td> 4</td>\n",
        "      <td>     How do I replace special characters in a URL?</td>\n",
        "      <td> &lt;p&gt;This is probably very simple, but I simply ...</td>\n",
        "      <td>                                   c# url encoding</td>\n",
        "      <td>                                              [OS]</td>\n",
        "      <td>            [OS]</td>\n",
        "    </tr>\n",
        "    <tr>\n",
        "      <th>4</th>\n",
        "      <td> 5</td>\n",
        "      <td>              How to modify whois contact details?</td>\n",
        "      <td> &lt;pre&gt;&lt;code&gt;function modify(.......)\\n{\\n  $mco...</td>\n",
        "      <td>                         php api file-get-contents</td>\n",
        "      <td>                                             [WEB]</td>\n",
        "      <td>           [WEB]</td>\n",
        "    </tr>\n",
        "  </tbody>\n",
        "</table>\n",
        "</div>"
       ],
       "metadata": {},
       "output_type": "pyout",
       "prompt_number": 80,
       "text": [
        "   Id                                              Title                                               Body                                               Tags              Possible Support Desks (with Repeats)   Possible Desks\n",
        "0   1  How to check if an uploaded file is an image w...  <p>I'd like to check if an uploaded file is an...  php image-processing file-upload upload mime-t...                      [OS, OS, OS, WEB, OS, OS, OS]        [WEB, OS]\n",
        "1   2  How can I prevent firefox from closing when I ...  <p>In my favorite editor (vim), I regularly us...                                            firefox                                 [WEB, OS, WEB, OS]        [WEB, OS]\n",
        "2   3           R Error Invalid type (list) for variable  <p>I am import matlab file and construct a dat...                          r matlab machine-learning  [LANG, LANG, OS, LANG, OS, WEB, LANG, OS, LANG...  [LANG, WEB, OS]\n",
        "3   4      How do I replace special characters in a URL?  <p>This is probably very simple, but I simply ...                                    c# url encoding                                               [OS]             [OS]\n",
        "4   5               How to modify whois contact details?  <pre><code>function modify(.......)\\n{\\n  $mco...                          php api file-get-contents                                              [WEB]            [WEB]"
       ]
      }
     ],
     "prompt_number": 80
    },
    {
     "cell_type": "code",
     "collapsed": false,
     "input": [
      "# determine actual support desks \n"
     ],
     "language": "python",
     "metadata": {},
     "outputs": []
    },
    {
     "cell_type": "code",
     "collapsed": false,
     "input": [
      "def desk_graph(data): \n",
      "    \"\"\"\n",
      "    Function\n",
      "    --------\n",
      "    desk_graph\n",
      "    \n",
      "    Parameters\n",
      "    ----------\n",
      "    data : pandas dataframe \n",
      "        The queries database. \n",
      "\n",
      "    \"\"\"\n",
      "    ## construction of a NetworkX Graph object \n",
      "    G = nx.Graph() \n",
      "    \n",
      "    # set up lists for potential departments each query can be fielded to \n",
      "    os_nodes = [] \n",
      "    api_nodes = []\n",
      "    lang_nodes = [] \n",
      "    web_nodes = [] \n",
      "    dev_nodes = [] \n",
      "    \n",
      "    # label nodes by party affiliation \n",
      "    G.add_nodes_from(Os, color='b') # blue\n",
      "    G.add_nodes_from(Api, color='g') # green \n",
      "    G.add_nodes_from(Language, color='r') # red\n",
      "    G.add_nodes_from(Web, color='c') # cyan\n",
      "    G.add_nodes_from(Developer, color='m') # magenta \n",
      "    \n",
      "    return G "
     ],
     "language": "python",
     "metadata": {},
     "outputs": [],
     "prompt_number": 51
    },
    {
     "cell_type": "markdown",
     "metadata": {},
     "source": [
      "** Part 5a: Bayesian Classfication into Mock Helpdesk Departments using Multinomial-Dirichlet (under correction) ** In reality, although we may assign multiple tags to a query, we ultimately wish to field it to a single department in order to efficiently handle all product support queries. Thus we extend the Stack Overflow analysis from simply extracting tags to assigning a 'routing department' to handle the query (that is, we focus more closely past multi-class classification by considering a new narrower set of merged classes). Because multiple tags may lead to multiple departments, we develop a probability distribution that we draw from in assigning a query to a certain department. This is where our Bayesian analysis begins, which will take us beyond the pure tag-assignment goal of the original Kaggle dataset.  "
     ]
    },
    {
     "cell_type": "code",
     "collapsed": false,
     "input": [
      "# need to add columns of extracted tags \n",
      "\n",
      "## DIRICHLET \n",
      "np.random.dirichlet(alpha, size=None)\n",
      "\n",
      "## MULTINOMIAL \n",
      "np.random.multinomial(n, pvals, size=None)\n"
     ],
     "language": "python",
     "metadata": {},
     "outputs": []
    },
    {
     "cell_type": "markdown",
     "metadata": {},
     "source": [
      "** Part 5b: Thresholding as an Improvement Upon Pure Bayesian Approach (to start) ** The Bayesian approach still gives us a nonzero probability of assigning a query to a potentially irrelevant department so to improve perfomance of our department assignments we applying thresholding to the potential categories we consider. \n",
      "\n",
      "// We will also use department assignments with actual tags. "
     ]
    },
    {
     "cell_type": "markdown",
     "metadata": {},
     "source": [
      "### II. Classifier Training for Specific Tag Extraction \n",
      "\n",
      "// APPEND CLAUDIO'S AND COREY'S PARTS"
     ]
    },
    {
     "cell_type": "markdown",
     "metadata": {},
     "source": [
      "# Final Analysis \n",
      "- what we learned about the data (about the specific dataset and the text mining process more broadly)\n",
      "- how did we answer the questions (methods - visual, **statistical**)\n",
      "- how can we justify our answers (how are the above methods valid)"
     ]
    },
    {
     "cell_type": "markdown",
     "metadata": {},
     "source": [
      "### How to Submit\n",
      "\n",
      "To submit your projects, create a folder named lastname_firstinitial_project and place your iPython notebook and your other files in this folder. Compress the folder (please use .zip compression) and submit it in the appropriate dropbox folder. If we cannot access your work or links because these directions are not followed correctly, we will not grade your work. You can submit once per team or submit once per team member."
     ]
    },
    {
     "cell_type": "markdown",
     "metadata": {},
     "source": [
      "---\n",
      "*css tweaks in this cell*\n",
      "<style>\n",
      "div.text_cell_render {\n",
      "    line-height: 150%;\n",
      "    font-size: 110%;\n",
      "    width: 800px;\n",
      "    margin-left:50px;\n",
      "    margin-right:auto;\n",
      "    }\n",
      "</style>"
     ]
    }
   ],
   "metadata": {}
  }
 ]
}